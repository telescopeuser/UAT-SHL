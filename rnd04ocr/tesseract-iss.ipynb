{
 "cells": [
  {
   "cell_type": "code",
   "execution_count": 1,
   "metadata": {},
   "outputs": [
    {
     "name": "stdout",
     "output_type": "stream",
     "text": [
      "/media/sf_vm_shared_folder/git/uat_shl/rnd04ocr\r\n"
     ]
    }
   ],
   "source": [
    "!pwd"
   ]
  },
  {
   "cell_type": "code",
   "execution_count": 2,
   "metadata": {},
   "outputs": [
    {
     "name": "stdout",
     "output_type": "stream",
     "text": [
      "total 13\r\n",
      "drwxrwx--- 1 root vboxsf 4096 Dec 29 15:52 image\r\n",
      "-rwxrwx--- 1 root vboxsf  251 Dec 29 15:48 out_v001.txt\r\n",
      "-rwxrwx--- 1 root vboxsf 2643 Dec 29 15:48 tesseract.ipynb\r\n",
      "-rwxrwx--- 1 root vboxsf 2643 Dec 29 15:48 tesseract-iss.ipynb\r\n"
     ]
    }
   ],
   "source": [
    "!ls -l"
   ]
  },
  {
   "cell_type": "code",
   "execution_count": 3,
   "metadata": {},
   "outputs": [
    {
     "name": "stdout",
     "output_type": "stream",
     "text": [
      "Tesseract Open Source OCR Engine v3.04.01 with Leptonica\n",
      "Detected 18 diacritics\n"
     ]
    }
   ],
   "source": [
    "!tesseract image/ocr.png out -l chi_sim -psm 4 digits"
   ]
  },
  {
   "cell_type": "code",
   "execution_count": 4,
   "metadata": {},
   "outputs": [
    {
     "name": "stdout",
     "output_type": "stream",
     "text": [
      "51    \r\n",
      "\r\n",
      "      \r\n",
      "\r\n",
      "2017 4 15                 89400 \r\n",
      "    1219 \r\n",
      "\r\n",
      "     52273 .          \r\n",
      "    30 1  30         -\r\n",
      "\r\n",
      "     0 11. 00  \r\n",
      "    .00 11 30      -300 -200 -100\r\n",
      "\r\n",
      "11  29  55\r\n",
      "59400\r\n",
      "2011 04 15 11 29 52\r\n",
      "59100 59100\r\n",
      "\r\n",
      "    \r\n",
      "\r\n",
      "           51    1     17-8 4   \r\n",
      "\r\n",
      " \r\n",
      "\r\n"
     ]
    }
   ],
   "source": [
    "!cat out.txt"
   ]
  },
  {
   "cell_type": "code",
   "execution_count": null,
   "metadata": {
    "collapsed": true
   },
   "outputs": [],
   "source": []
  },
  {
   "cell_type": "code",
   "execution_count": 13,
   "metadata": {},
   "outputs": [
    {
     "name": "stdout",
     "output_type": "stream",
     "text": [
      "Tesseract Open Source OCR Engine v3.04.01 with Leptonica\r\n"
     ]
    }
   ],
   "source": [
    "!tesseract image/ocr-gy.jpg out -l eng -psm 4 digits"
   ]
  },
  {
   "cell_type": "code",
   "execution_count": 14,
   "metadata": {},
   "outputs": [
    {
     "name": "stdout",
     "output_type": "stream",
     "text": [
      "  \r\n",
      "\r\n",
      "1111 118111815 611\r\n",
      "11111 1111111231119. 0101.\r\n",
      "\r\n",
      "1121111 131111111 1131116111113 1311195 171193111111 0173111111 1319\r\n",
      "0150111901192 3011 1111811 1181118 17183115 11193111111\r\n",
      "81161 19336119116111.\r\n",
      "\r\n",
      "141.4 7 2\r\n",
      "\r\n",
      "1 111135 110111 11816 111 1.1 .11 17111 111811 1118111210\r\n",
      "\r\n",
      "5133\r\n",
      "\r\n",
      "321331 1512113 10111131 101 11111 11931 2.151113111111111 11631\r\n",
      "3 111 11.111151111131613 111611 2931311011.\r\n",
      "\r\n",
      "15111305911 10 17131111 111191511 91111101117161 1 6311\r\n",
      "1181121111 5136311 1.111911 31 1319591111 131111110 53110 31101\r\n",
      "\r\n",
      "1101.1 1101 17131 1193111\r\n",
      "\r\n",
      "1111166 10 1118812 510111\r\n",
      "\r\n",
      " \r\n",
      "\r\n"
     ]
    }
   ],
   "source": [
    "!cat out.txt"
   ]
  },
  {
   "cell_type": "code",
   "execution_count": null,
   "metadata": {},
   "outputs": [],
   "source": []
  },
  {
   "cell_type": "code",
   "execution_count": 11,
   "metadata": {
    "scrolled": true
   },
   "outputs": [
    {
     "name": "stdout",
     "output_type": "stream",
     "text": [
      "Tesseract Open Source OCR Engine v3.04.01 with Leptonica\r\n"
     ]
    }
   ],
   "source": [
    "# good\n",
    "!tesseract image/ocr-gy.jpg out -l eng -psm 4"
   ]
  },
  {
   "cell_type": "code",
   "execution_count": 12,
   "metadata": {},
   "outputs": [
    {
     "name": "stdout",
     "output_type": "stream",
     "text": [
      "  \r\n",
      "\r\n",
      "My name is GU\r\n",
      "my nickname Di Di.\r\n",
      "\r\n",
      "My family name W; carries meaning of ’Taking care\r\n",
      "of someone’; and given name means ’Reading\r\n",
      "and experiencing’.\r\n",
      "\r\n",
      "any , 2\r\n",
      "\r\n",
      "l was born here in u s s’ij: then went to\r\n",
      "\r\n",
      "f“?\r\n",
      "\r\n",
      "E“§ g‘E (China) for my year 2. I spent my year\r\n",
      "3 in «n: mg ”a? (New Zealand).\r\n",
      "\r\n",
      "Exposed to many linguistic environment, I can\r\n",
      "hardly speak well at present, but I do say to all of\r\n",
      "\r\n",
      "you from my heart:\r\n",
      "\r\n",
      "‘Nice to meet you!\r\n",
      "\r\n",
      " \r\n",
      "\r\n"
     ]
    }
   ],
   "source": [
    "!cat out.txt"
   ]
  },
  {
   "cell_type": "code",
   "execution_count": 33,
   "metadata": {
    "scrolled": true
   },
   "outputs": [
    {
     "name": "stdout",
     "output_type": "stream",
     "text": [
      "Tesseract Open Source OCR Engine v3.04.01 with Leptonica\r\n"
     ]
    }
   ],
   "source": [
    "# bad\n",
    "!tesseract image/ocr-gy.jpg out -l eng -psm 6"
   ]
  },
  {
   "cell_type": "code",
   "execution_count": 34,
   "metadata": {},
   "outputs": [
    {
     "name": "stdout",
     "output_type": "stream",
     "text": [
      "illilll‘i‘i 1‘ 1 a I %“W“““’WWW§“ _\r\n",
      "g “ ‘ 1 \"a: *3 533 .i at , .. V _ l\"? M llll , i , ‘ :w\r\n",
      "$Wl§3 a :3 3\"? £333 w“? y m «W :33 rt .. twill: ii 1 “ﬂy ‘ ‘7 ‘ , ‘ '_ L: E\r\n",
      "3g“? [1‘6“ ﬂwﬂﬁ“ N3 ‘3 3“ =13 lllrmW \"3 ll; ”Em-i “- m :~   f ‘ i 1 H y 1’ ,4 ‘2:\r\n",
      "NW name is GU 31793. (Hardy). Many can ' ° h » 3\r\n",
      "my nickname Di Di. ‘ ‘ i\r\n",
      "My family name W; carries meaning of ’Taking care 7‘__ y a\r\n",
      "0f someone’; and given name means ’Reading ‘ :3} H\" 5\r\n",
      "a nd expe rienci ng’. ‘ ,- fig; 53;“ ABM\r\n",
      "l was born here in iii. w :53 v’fj: then went to 3' 7 _\r\n",
      "TE; 33 E 3;: (China) for my year 2. I spent my year > -\\ x , m\r\n",
      "3 in «a a: 333 :3 3\"\" {I} (New Zealand). _ _ ~ y ,.\r\n",
      "Exposed to many lingUIstic envnronment, I can i ' f a;\r\n",
      "hardly speak well at present, but I do say to all of :uw: -_ § ‘3; :4\r\n",
      "you from my heart: 1 , _V\r\n",
      "Nice to meet you! m ‘ «WW. 7* . w .\r\n",
      "\r\n"
     ]
    }
   ],
   "source": [
    "!cat out.txt"
   ]
  },
  {
   "cell_type": "code",
   "execution_count": null,
   "metadata": {},
   "outputs": [],
   "source": []
  },
  {
   "cell_type": "code",
   "execution_count": 15,
   "metadata": {},
   "outputs": [
    {
     "name": "stdout",
     "output_type": "stream",
     "text": [
      "Tesseract Open Source OCR Engine v3.04.01 with Leptonica\r\n"
     ]
    }
   ],
   "source": [
    "# good\n",
    "!tesseract image/ocr-lt.png out -l eng -psm 4"
   ]
  },
  {
   "cell_type": "code",
   "execution_count": 16,
   "metadata": {},
   "outputs": [
    {
     "name": "stdout",
     "output_type": "stream",
     "text": [
      "22:23 22.8K/s >3 'Zl' ’9‘ 45‘ AI“ Si-- x Emergency c-- @26%\r\n",
      "\r\n",
      "E Product Q E\r\n",
      "\r\n",
      "Overview Product Details Q&A Ratings&\r\n",
      "\r\n",
      " \r\n",
      "\r\n",
      "XIAOMI Mi Notebook Air 12.5” Gold\r\n",
      "(Export)\r\n",
      "\r\n",
      "SSE—999790\r\n",
      "\r\n",
      "Installment: 12 X\r\n",
      "\r\n",
      "(4)\r\n",
      "\r\n",
      " \r\n",
      "\r\n"
     ]
    }
   ],
   "source": [
    "!cat out.txt"
   ]
  },
  {
   "cell_type": "code",
   "execution_count": 31,
   "metadata": {},
   "outputs": [
    {
     "name": "stdout",
     "output_type": "stream",
     "text": [
      "Tesseract Open Source OCR Engine v3.04.01 with Leptonica\r\n"
     ]
    }
   ],
   "source": [
    "# good\n",
    "!tesseract image/ocr-lt.png out -l eng -psm 6"
   ]
  },
  {
   "cell_type": "code",
   "execution_count": 32,
   "metadata": {},
   "outputs": [
    {
     "name": "stdout",
     "output_type": "stream",
     "text": [
      "22:23 22.8K/s >3 'Zl' ’9‘ 4? Alll Si-- x Emergency c-- @26%\r\n",
      "E Product Q !\r\n",
      "Overview Product Details Q&A Ratings &\r\n",
      "XIAOMI Mi Notebook Air 12.5” Gold\r\n",
      "\r\n",
      "(Export)\r\n",
      "869%\r\n",
      "Installment: 12 X\r\n",
      "(4)\r\n",
      "51‘ _ V 4'\r\n",
      "’_..‘s°x\r\n",
      "\r\n"
     ]
    }
   ],
   "source": [
    "!cat out.txt"
   ]
  },
  {
   "cell_type": "code",
   "execution_count": null,
   "metadata": {},
   "outputs": [],
   "source": []
  },
  {
   "cell_type": "code",
   "execution_count": 35,
   "metadata": {},
   "outputs": [
    {
     "name": "stdout",
     "output_type": "stream",
     "text": [
      "Tesseract Open Source OCR Engine v3.04.01 with Leptonica\r\n"
     ]
    }
   ],
   "source": [
    "# bad\n",
    "!tesseract image/ocr-hr.jpg out -l eng -psm 4"
   ]
  },
  {
   "cell_type": "code",
   "execution_count": 36,
   "metadata": {},
   "outputs": [
    {
     "name": "stdout",
     "output_type": "stream",
     "text": [
      " \r\n",
      "\r\n"
     ]
    }
   ],
   "source": [
    "!cat out.txt"
   ]
  },
  {
   "cell_type": "code",
   "execution_count": null,
   "metadata": {},
   "outputs": [],
   "source": []
  },
  {
   "cell_type": "code",
   "execution_count": 39,
   "metadata": {},
   "outputs": [
    {
     "name": "stdout",
     "output_type": "stream",
     "text": [
      "Tesseract Open Source OCR Engine v3.04.01 with Leptonica\r\n"
     ]
    }
   ],
   "source": [
    "# fair\n",
    "!tesseract image/ocr-hr1.jpg out -l eng -psm 4"
   ]
  },
  {
   "cell_type": "code",
   "execution_count": 40,
   "metadata": {},
   "outputs": [
    {
     "name": "stdout",
     "output_type": "stream",
     "text": [
      ".3x\r\n",
      "\r\n",
      "”A\r\n",
      "\r\n",
      "455; MW); In «WM\r\n",
      "\r\n"
     ]
    }
   ],
   "source": [
    "!cat out.txt"
   ]
  },
  {
   "cell_type": "code",
   "execution_count": 45,
   "metadata": {},
   "outputs": [
    {
     "name": "stdout",
     "output_type": "stream",
     "text": [
      "Tesseract Open Source OCR Engine v3.04.01 with Leptonica\r\n"
     ]
    }
   ],
   "source": [
    "# fair\n",
    "!tesseract image/ocr-hr1.jpg out -l eng -psm 6"
   ]
  },
  {
   "cell_type": "code",
   "execution_count": 46,
   "metadata": {
    "scrolled": true
   },
   "outputs": [
    {
     "name": "stdout",
     "output_type": "stream",
     "text": [
      ".Sx : 4622 may); “w “hawk\r\n",
      "\r\n"
     ]
    }
   ],
   "source": [
    "!cat out.txt"
   ]
  },
  {
   "cell_type": "code",
   "execution_count": 41,
   "metadata": {},
   "outputs": [
    {
     "name": "stdout",
     "output_type": "stream",
     "text": [
      "Tesseract Open Source OCR Engine v3.04.01 with Leptonica\r\n"
     ]
    }
   ],
   "source": [
    "# fair\n",
    "!tesseract image/ocr-hr1.jpg out -l eng -psm 7"
   ]
  },
  {
   "cell_type": "code",
   "execution_count": 42,
   "metadata": {},
   "outputs": [
    {
     "name": "stdout",
     "output_type": "stream",
     "text": [
      ".Sx : 4622 may); “w “hawk\r\n",
      "\r\n"
     ]
    }
   ],
   "source": [
    "!cat out.txt"
   ]
  },
  {
   "cell_type": "code",
   "execution_count": 43,
   "metadata": {},
   "outputs": [
    {
     "name": "stdout",
     "output_type": "stream",
     "text": [
      "Tesseract Open Source OCR Engine v3.04.01 with Leptonica\r\n"
     ]
    }
   ],
   "source": [
    "# fair\n",
    "!tesseract image/ocr-hr1.jpg out -l eng -psm 8"
   ]
  },
  {
   "cell_type": "code",
   "execution_count": 44,
   "metadata": {},
   "outputs": [
    {
     "name": "stdout",
     "output_type": "stream",
     "text": [
      ".3x:46$29+wl>51nwwk\r\n",
      "\r\n"
     ]
    }
   ],
   "source": [
    "!cat out.txt"
   ]
  },
  {
   "cell_type": "code",
   "execution_count": null,
   "metadata": {},
   "outputs": [],
   "source": []
  }
 ],
 "metadata": {
  "kernelspec": {
   "display_name": "Python 3",
   "language": "python",
   "name": "python3"
  },
  "language_info": {
   "codemirror_mode": {
    "name": "ipython",
    "version": 3
   },
   "file_extension": ".py",
   "mimetype": "text/x-python",
   "name": "python",
   "nbconvert_exporter": "python",
   "pygments_lexer": "ipython3",
   "version": "3.6.4"
  }
 },
 "nbformat": 4,
 "nbformat_minor": 2
}
