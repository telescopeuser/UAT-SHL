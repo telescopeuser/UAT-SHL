{
 "cells": [
  {
   "cell_type": "code",
   "execution_count": 1,
   "metadata": {},
   "outputs": [
    {
     "name": "stdout",
     "output_type": "stream",
     "text": [
      "/home/user/notebooks/uat_shl/rnd04ocr\r\n"
     ]
    }
   ],
   "source": [
    "!pwd"
   ]
  },
  {
   "cell_type": "code",
   "execution_count": 2,
   "metadata": {},
   "outputs": [
    {
     "name": "stdout",
     "output_type": "stream",
     "text": [
      "total 500\r\n",
      "-rw-r--r--. 1 user user    867 Sep 10 23:02 112907.jpg\r\n",
      "-rw-r--r--. 1 user user 183523 Sep 10 21:41 ocr.png\r\n",
      "-rw-r--r--. 1 user user 217004 Sep 10 21:41 ocr.tif\r\n",
      "-rw-rw-r--. 1 user user     10 Sep 10 23:03 out.txt\r\n",
      "-rw-r--r--. 1 user user  97736 Sep 10 21:41 tesseract.PNG\r\n",
      "-rw-r--r--. 1 user user     72 Sep 10 23:12 Untitled.ipynb\r\n"
     ]
    }
   ],
   "source": [
    "!ls -l"
   ]
  },
  {
   "cell_type": "code",
   "execution_count": 3,
   "metadata": {},
   "outputs": [
    {
     "name": "stdout",
     "output_type": "stream",
     "text": [
      "Tesseract Open Source OCR Engine v3.04.01 with Leptonica\n",
      "Detected 18 diacritics\n"
     ]
    }
   ],
   "source": [
    "!tesseract ocr.png out -l chi_sim -psm 4 digits"
   ]
  },
  {
   "cell_type": "code",
   "execution_count": 4,
   "metadata": {},
   "outputs": [
    {
     "name": "stdout",
     "output_type": "stream",
     "text": [
      "51    \r\n",
      "\r\n",
      "      \r\n",
      "\r\n",
      "2017 4 15                 89400 \r\n",
      "    1219 \r\n",
      "\r\n",
      "     52273 .          \r\n",
      "    30 1  30         -\r\n",
      "\r\n",
      "     0 11. 00  \r\n",
      "    .00 11 30      -300 -200 -100\r\n",
      "\r\n",
      "11  29  55\r\n",
      "59400\r\n",
      "2011 04 15 11 29 52\r\n",
      "59100 59100\r\n",
      "\r\n",
      "    \r\n",
      "\r\n",
      "           51    1     17-8 4   \r\n",
      "\r\n",
      " \r\n",
      "\r\n"
     ]
    }
   ],
   "source": [
    "!cat out.txt"
   ]
  },
  {
   "cell_type": "code",
   "execution_count": null,
   "metadata": {
    "collapsed": true
   },
   "outputs": [],
   "source": []
  }
 ],
 "metadata": {
  "kernelspec": {
   "display_name": "Python 3",
   "language": "python",
   "name": "python3"
  },
  "language_info": {
   "codemirror_mode": {
    "name": "ipython",
    "version": 3
   },
   "file_extension": ".py",
   "mimetype": "text/x-python",
   "name": "python",
   "nbconvert_exporter": "python",
   "pygments_lexer": "ipython3",
   "version": "3.5.1"
  }
 },
 "nbformat": 4,
 "nbformat_minor": 2
}
