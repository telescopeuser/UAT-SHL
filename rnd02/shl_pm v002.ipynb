{
 "cells": [
  {
   "cell_type": "markdown",
   "metadata": {},
   "source": [
    "### SHL github project: uat_shl\n",
    "\n",
    "* training module: shl_tm\n",
    "\n",
    "* prediction module: shl_pm\n",
    "\n",
    "* simulation module: shl_sm\n",
    "\n",
    "* misc module: shl_mm\n",
    "\n",
    "\n",
    "### data feeds:\n",
    "\n",
    "* historical bidding price, per second, time series\n",
    "\n",
    "* live bidding price, per second, time series\n",
    "\n",
    "### parameter lookup table: python dictionary\n",
    "\n",
    "* parm_si (seasonality index per second)\n",
    "\n",
    "* parm_month (parameter like alpha, beta, gamma, etc. per month)"
   ]
  },
  {
   "cell_type": "markdown",
   "metadata": {},
   "source": [
    "# [1] Import useful reference packages"
   ]
  },
  {
   "cell_type": "code",
   "execution_count": null,
   "metadata": {
    "collapsed": true
   },
   "outputs": [],
   "source": [
    "import pandas as pd\n"
   ]
  },
  {
   "cell_type": "markdown",
   "metadata": {},
   "source": [
    "### Initialization"
   ]
  },
  {
   "cell_type": "code",
   "execution_count": null,
   "metadata": {
    "collapsed": true
   },
   "outputs": [],
   "source": [
    "# function to fetch Seasonality-Index\n",
    "def shl_intra_fetch_si(ccyy_mm, time, shl_data_parm_si):\n",
    "#     return shl_data_parm_si[(shl_data_parm_si['ccyy-mm'] == '2017-09') & (shl_data_parm_si['time'] == '11:29:00')]\n",
    "    return shl_data_parm_si[(shl_data_parm_si['ccyy-mm'] == ccyy_mm) & (shl_data_parm_si['time'] == time)].iloc[0]['si']\n"
   ]
  },
  {
   "cell_type": "code",
   "execution_count": null,
   "metadata": {
    "collapsed": true
   },
   "outputs": [],
   "source": [
    "# function to fetch Dynamic-Increment\n",
    "def shl_intra_fetch_di(ccyy_mm, shl_data_parm_month):\n",
    "    return shl_data_parm_month[shl_data_parm_month['ccyy-mm'] == ccyy_mm].iloc[0]['di']\n"
   ]
  },
  {
   "cell_type": "code",
   "execution_count": null,
   "metadata": {
    "collapsed": true
   },
   "outputs": [],
   "source": [
    "def shl_intra_fetch_previous_n_sec_time_as_str(shl_data_time_field, n):\n",
    "    return str((pd.to_datetime(shl_data_time_field, format='%H:%M:%S') - pd.Timedelta(seconds=n)).time())\n",
    "\n",
    "def shl_intra_fetch_future_n_sec_time_as_str(shl_data_time_field, n):\n",
    "    return str((pd.to_datetime(shl_data_time_field, format='%H:%M:%S') - pd.Timedelta(seconds=-n)).time())\n"
   ]
  },
  {
   "cell_type": "code",
   "execution_count": null,
   "metadata": {},
   "outputs": [],
   "source": [
    "def shl_initialize(in_ccyy_mm='2017-07'):\n",
    "    print()\n",
    "    print('+-----------------------------------------------+')\n",
    "    print('| shl_initialize()                              |')\n",
    "    print('+-----------------------------------------------+')\n",
    "    print()\n",
    "    global shl_data_parm_si\n",
    "    global shl_data_parm_month\n",
    "    shl_data_parm_si = pd.read_csv('data/parm_si.csv') \n",
    "    shl_data_parm_month = pd.read_csv('data/parm_month.csv') \n",
    "\n",
    "    global shl_global_parm_ccyy_mm \n",
    "    shl_global_parm_ccyy_mm = in_ccyy_mm\n",
    "    \n",
    "    # create default global base price\n",
    "    global shl_global_parm_base_price\n",
    "    shl_global_parm_base_price = 10000000\n",
    "\n",
    "    global shl_global_parm_dynamic_increment\n",
    "    shl_global_parm_dynamic_increment = shl_intra_fetch_di(shl_global_parm_ccyy_mm, shl_data_parm_month)\n",
    "\n",
    "    global shl_global_parm_alpha\n",
    "    shl_global_parm_alpha = shl_data_parm_month[shl_data_parm_month['ccyy-mm'] == shl_global_parm_ccyy_mm].iloc[0]['alpha']\n",
    "    global shl_global_parm_beta\n",
    "    shl_global_parm_beta  = shl_data_parm_month[shl_data_parm_month['ccyy-mm'] == shl_global_parm_ccyy_mm].iloc[0]['beta']\n",
    "    global shl_global_parm_gamma\n",
    "    shl_global_parm_gamma = shl_data_parm_month[shl_data_parm_month['ccyy-mm'] == shl_global_parm_ccyy_mm].iloc[0]['gamma']\n",
    "    global shl_global_parm_sec57_weight\n",
    "    shl_global_parm_sec57_weight = shl_data_parm_month[shl_data_parm_month['ccyy-mm'] == shl_global_parm_ccyy_mm].iloc[0]['sec57-weight']\n",
    "    global shl_global_parm_month_weight\n",
    "    shl_global_parm_month_weight = shl_data_parm_month[shl_data_parm_month['ccyy-mm'] == shl_global_parm_ccyy_mm].iloc[0]['month-weight']\n",
    "    global shl_global_parm_short_weight\n",
    "    shl_global_parm_short_weight = shl_data_parm_month[shl_data_parm_month['ccyy-mm'] == shl_global_parm_ccyy_mm].iloc[0]['short-weight']\n",
    "\n",
    "    # default = 0\n",
    "    global shl_global_parm_short_weight_ratio\n",
    "    shl_global_parm_short_weight_ratio = 0\n",
    "    \n",
    "    # create default average error between 46~50 seconds:\n",
    "    global shl_global_parm_short_weight_misc\n",
    "    shl_global_parm_short_weight_misc = 0\n",
    "\n",
    "    \n",
    "    print('shl_global_parm_ccyy_mm           : %s' % shl_global_parm_ccyy_mm)\n",
    "    print('-------------------------------------------------')\n",
    "    print('shl_global_parm_alpha             : %0.15f' % shl_global_parm_alpha) # used in forecasting\n",
    "    print('shl_global_parm_beta              : %0.15f' % shl_global_parm_beta)  # used in forecasting\n",
    "    print('shl_global_parm_gamma             : %0.15f' % shl_global_parm_gamma) # used in forecasting\n",
    "    print('shl_global_parm_short_weight      : %f' % shl_global_parm_short_weight) # used in forecasting\n",
    "    print('shl_global_parm_short_weight_ratio: %f' % shl_global_parm_short_weight) # used in forecasting\n",
    "    print('shl_global_parm_sec57_weight      : %f' % shl_global_parm_sec57_weight) # used in training a model\n",
    "    print('shl_global_parm_month_weight      : %f' % shl_global_parm_month_weight) # used in training a model\n",
    "    print('shl_global_parm_dynamic_increment : %d' % shl_global_parm_dynamic_increment)\n",
    "    print('-------------------------------------------------')\n",
    "\n",
    "#     plt.figure(figsize=(6,3)) # plot seasonality index\n",
    "#     plt.plot(shl_data_parm_si[(shl_data_parm_si['ccyy-mm'] == shl_global_parm_ccyy_mm)]['si'])\n",
    "    \n",
    "    global shl_data_pm_1_step\n",
    "    shl_data_pm_1_step = pd.DataFrame() # initialize dataframe of prediction results\n",
    "    print()\n",
    "    print('prediction results dataframe: shl_data_pm_1_step')\n",
    "    print(shl_data_pm_1_step)\n",
    "\n",
    "    global shl_data_pm_k_step\n",
    "    shl_data_pm_k_step = pd.DataFrame() # initialize dataframe of prediction results\n",
    "    print()\n",
    "    print('prediction results dataframe: shl_data_pm_k_step')\n",
    "    print(shl_data_pm_k_step)\n",
    "    "
   ]
  },
  {
   "cell_type": "code",
   "execution_count": null,
   "metadata": {
    "scrolled": false
   },
   "outputs": [],
   "source": [
    "shl_initialize()"
   ]
  },
  {
   "cell_type": "markdown",
   "metadata": {},
   "source": [
    "shl_predict_price(in_current_time, in_current_price, in_k_sec) # return k-seconrds Predicted Prices, in a list format"
   ]
  },
  {
   "cell_type": "markdown",
   "metadata": {
    "collapsed": true
   },
   "source": [
    "shl_predict_set_price(in_current_time, in_current_price, in_k_sec) # return k-second Predicted Price + Dynamic Increment, in a list format"
   ]
  },
  {
   "cell_type": "markdown",
   "metadata": {},
   "source": [
    "call k times of shl_predict_price()\n",
    "\n",
    "\n",
    "shl_data_pm_1_step_itr = pd.DataFrame() # initialize prediction dataframe at 11:29:00\n"
   ]
  },
  {
   "cell_type": "code",
   "execution_count": null,
   "metadata": {},
   "outputs": [],
   "source": [
    "(shl_data_pm_1_step['f_1_step_pred_price_inc'].shift(1)[46:50] - shl_data_pm_1_step['f_actual_price4pm'][46:50]).sum()"
   ]
  },
  {
   "cell_type": "code",
   "execution_count": null,
   "metadata": {},
   "outputs": [],
   "source": [
    "'11:29:49' < '11:29:50'"
   ]
  },
  {
   "cell_type": "code",
   "execution_count": null,
   "metadata": {},
   "outputs": [],
   "source": [
    "'11:29:51' < '11:29:50'"
   ]
  },
  {
   "cell_type": "code",
   "execution_count": null,
   "metadata": {},
   "outputs": [],
   "source": [
    "'11:29:50' < '11:29:50'"
   ]
  },
  {
   "cell_type": "code",
   "execution_count": null,
   "metadata": {
    "collapsed": true
   },
   "outputs": [],
   "source": []
  },
  {
   "cell_type": "code",
   "execution_count": null,
   "metadata": {},
   "outputs": [],
   "source": [
    "def shl_predict_price_1_step(in_current_time, in_current_price):\n",
    "# 11:29:00~11:29:50\n",
    "\n",
    "    global shl_data_pm_k_step\n",
    "    \n",
    "    global shl_global_parm_short_weight_misc\n",
    "    if in_current_time < '11:29:50': shl_global_parm_short_weight_misc = 0\n",
    "    \n",
    "    global shl_global_parm_short_weight_ratio\n",
    "    \n",
    "    global shl_global_parm_base_price \n",
    "\n",
    "\n",
    "    print()\n",
    "    print('+-----------------------------------------------+')\n",
    "    print('| shl_predict_price()                           |')\n",
    "    print('+-----------------------------------------------+')\n",
    "    print()\n",
    "    print('current_ccyy_mm   : %s' % shl_global_parm_ccyy_mm) # str, format: ccyy-mm\n",
    "    print('in_current_time   : %s' % in_current_time) # str, format: hh:mm:ss\n",
    "    print('in_current_price  : %d' % in_current_price) # number, format: integer\n",
    "    print('-------------------------------------------------')\n",
    "\n",
    "    \n",
    "    # capture & calculate 11:29:00 bid price - 1 as base price\n",
    "    if in_current_time == '11:29:00':\n",
    "        shl_global_parm_base_price = in_current_price -1 \n",
    "        print('*INFO* At time [ %s ] Set shl_global_parm_base_price : %d ' % (in_current_time, shl_global_parm_base_price)) # Debug\n",
    "        \n",
    "#     f_actual_datetime = shl_global_parm_ccyy_mm + ' ' + in_current_time\n",
    "#     print('*INFO* f_actual_datetime   : %s ' %  f_actual_datetime)\n",
    "\n",
    "    # get Seasonality-Index, for current second\n",
    "    f_actual_si = shl_intra_fetch_si(shl_global_parm_ccyy_mm, in_current_time, shl_data_parm_si)\n",
    "    print('*INFO* f_actual_si         : %0.10f ' %  f_actual_si) # Debug\n",
    "    \n",
    "    # get Seasonality-Index, for current second + 1\n",
    "    f_1_step_time = shl_intra_fetch_future_n_sec_time_as_str(in_current_time, 1)\n",
    "    f_1_step_si = shl_intra_fetch_si(shl_global_parm_ccyy_mm, f_1_step_time, shl_data_parm_si)\n",
    "    print('*INFO* f_1_step_si         : %0.10f ' %  f_1_step_si) # Debug\n",
    "    \n",
    "    # calculate price increment: f_actual_price4pm\n",
    "    f_actual_price4pm = in_current_price -  shl_global_parm_base_price\n",
    "    print('*INFO* f_actual_price4pm   : %d ' % f_actual_price4pm) # Debug\n",
    "    \n",
    "    # calculate seasonality adjusted price increment: f_actual_price4pmsi\n",
    "    f_actual_price4pmsi = f_actual_price4pm / f_actual_si\n",
    "    print('*INFO* f_actual_price4pmsi : %0.10f ' % f_actual_price4pmsi) # Debug\n",
    "    \n",
    "\n",
    "    if in_current_time == '11:29:00':\n",
    "#         shl_data_pm_k_step_itr = pd.DataFrame() # initialize prediction dataframe at 11:29:00\n",
    "        print('---- call prediction function shl_pm ---- %s' % in_current_time)\n",
    "        f_1_step_pred_les_level = f_actual_price4pmsi # special handling for 11:29:00\n",
    "        f_1_step_pred_les_trend = 0 # special handling for 11:29:00\n",
    "        f_1_step_pred_les = f_1_step_pred_les_level + f_1_step_pred_les_trend\n",
    "        f_1_step_pred_adj_misc = 0\n",
    "        f_1_step_pred_price_inc = (f_1_step_pred_les + f_1_step_pred_adj_misc) * f_1_step_si\n",
    "        f_1_step_pred_price = f_1_step_pred_price_inc + shl_global_parm_base_price\n",
    "        f_1_step_pred_price_rounded = round(f_1_step_pred_price/100, 0) * 100\n",
    "        f_1_step_pred_set_price_rounded = f_1_step_pred_price_rounded + shl_global_parm_dynamic_increment\n",
    "        \n",
    "    else:\n",
    "        print('---- call prediction function shl_pm ---- %s' % in_current_time)\n",
    "        \n",
    "#       function to get average forecast error between 46~50 seconds: mean(f_current_step_error)\n",
    "        if in_current_time == '11:29:50':\n",
    "            sec50_pred_price_inc = shl_data_pm_k_step[(shl_data_pm_k_step['ccyy-mm'] == shl_global_parm_ccyy_mm) \\\n",
    "                                                & (shl_data_pm_k_step['time'] ==in_current_time)].iloc[0]['f_1_step_pred_price_inc']\n",
    "            sec50_error    = sec50_pred_price_inc - f_actual_price4pm\n",
    "            sec46_49_error = shl_data_pm_k_step['f_k_step_pred_price_inc'].shift(1)[46:50] - shl_data_pm_k_step['f_actual_price4pm'][46:50]\n",
    "\n",
    "            print('*INFO* sec50_error    : %f' % sec50_error)\n",
    "            print('*INFO* sec46_49_error : %f' % sec46_49_error)\n",
    "            \n",
    "            shl_global_parm_short_weight_misc = (sec50_error + sec46_49_error) / 5\n",
    "            print('*INFO* shl_global_parm_short_weight_misc : %f' % shl_global_parm_short_weight_misc)\n",
    "            \n",
    "#       ----------------------------------------------------------------------------------------------------        \n",
    "#       if in_current_time == '11:29:50':\n",
    "            shl_global_parm_short_weight_ratio = 1\n",
    "            print('*INFO* shl_global_parm_short_weight_ratio : %d' % shl_global_parm_short_weight_ratio)\n",
    "        if in_current_time == '11:29:51':\n",
    "            shl_global_parm_short_weight_ratio = 2\n",
    "            print('*INFO* shl_global_parm_short_weight_ratio : %d' % shl_global_parm_short_weight_ratio)        \n",
    "        if in_current_time == '11:29:52':\n",
    "            shl_global_parm_short_weight_ratio = 3\n",
    "            print('*INFO* shl_global_parm_short_weight_ratio : %d' % shl_global_parm_short_weight_ratio)        \n",
    "        if in_current_time == '11:29:53':\n",
    "            shl_global_parm_short_weight_ratio = 4\n",
    "            print('*INFO* shl_global_parm_short_weight_ratio : %d' % shl_global_parm_short_weight_ratio)        \n",
    "        if in_current_time == '11:29:54':\n",
    "            shl_global_parm_short_weight_ratio = 5\n",
    "            print('*INFO* shl_global_parm_short_weight_ratio : %d' % shl_global_parm_short_weight_ratio)        \n",
    "        if in_current_time == '11:29:55':\n",
    "            shl_global_parm_short_weight_ratio = 6\n",
    "            print('*INFO* shl_global_parm_short_weight_ratio : %d' % shl_global_parm_short_weight_ratio)        \n",
    "        if in_current_time == '11:29:56':\n",
    "            shl_global_parm_short_weight_ratio = 7\n",
    "            print('*INFO* shl_global_parm_short_weight_ratio : %d' % shl_global_parm_short_weight_ratio)        \n",
    "        if in_current_time == '11:29:57':\n",
    "            shl_global_parm_short_weight_ratio = 8\n",
    "            print('*INFO* shl_global_parm_short_weight_ratio : %d' % shl_global_parm_short_weight_ratio)        \n",
    "        if in_current_time == '11:29:58':\n",
    "            shl_global_parm_short_weight_ratio = 9\n",
    "            print('*INFO* shl_global_parm_short_weight_ratio : %d' % shl_global_parm_short_weight_ratio)        \n",
    "        if in_current_time == '11:29:59':\n",
    "            shl_global_parm_short_weight_ratio = 10\n",
    "            print('*INFO* shl_global_parm_short_weight_ratio : %d' % shl_global_parm_short_weight_ratio)        \n",
    "        if in_current_time == '11:29:60':\n",
    "            shl_global_parm_short_weight_ratio = 11\n",
    "            print('*INFO* shl_global_parm_short_weight_ratio : %d' % shl_global_parm_short_weight_ratio)        \n",
    "#       ----------------------------------------------------------------------------------------------------        \n",
    "        \n",
    "        previous_pred_les_level = shl_data_pm_k_step[(shl_data_pm_k_step['ccyy-mm'] == shl_global_parm_ccyy_mm) \\\n",
    "                                            & (shl_data_pm_k_step['time'] ==in_current_time)].iloc[0]['f_1_step_pred_les_level']\n",
    "        print('     previous_pred_les_level : %f' % previous_pred_les_level)\n",
    "        \n",
    "        previous_pred_les_trend = shl_data_pm_k_step[(shl_data_pm_k_step['ccyy-mm'] == shl_global_parm_ccyy_mm) \\\n",
    "                                            & (shl_data_pm_k_step['time'] ==in_current_time)].iloc[0]['f_1_step_pred_les_trend']\n",
    "        print('     previous_pred_les_trend : %f' % previous_pred_les_trend)\n",
    "\n",
    "            \n",
    "        f_1_step_pred_les_level = shl_global_parm_alpha * f_actual_price4pmsi \\\n",
    "                                    + (1 - shl_global_parm_alpha) * (previous_pred_les_level + previous_pred_les_trend)\n",
    "        print('     f_1_step_pred_les_level  : %f' % f_1_step_pred_les_level)\n",
    "        f_1_step_pred_les_trend = shl_global_parm_beta * (f_1_step_pred_les_level - previous_pred_les_level) \\\n",
    "                                    + (1 - shl_global_parm_beta) * previous_pred_les_trend\n",
    "        print('     f_1_step_pred_les_trend  : %f' % f_1_step_pred_les_trend)\n",
    "        \n",
    "        f_1_step_pred_les = f_1_step_pred_les_level + f_1_step_pred_les_trend\n",
    "        f_1_step_pred_adj_misc = shl_global_parm_short_weight_misc * shl_global_parm_short_weight * shl_global_parm_short_weight_ratio * shl_global_parm_gamma\n",
    "        f_1_step_pred_price_inc = (f_1_step_pred_les + f_1_step_pred_adj_misc) * f_1_step_si\n",
    "        f_1_step_pred_price = f_1_step_pred_price_inc + shl_global_parm_base_price\n",
    "        f_1_step_pred_price_rounded = round(f_1_step_pred_price/100, 0) * 100\n",
    "        f_1_step_pred_set_price_rounded = f_1_step_pred_price_rounded + shl_global_parm_dynamic_increment\n",
    "   \n",
    "        \n",
    "    # write results to shl_pm dataframe\n",
    "            \n",
    "    shl_data_pm_k_step_itr_dict = {\n",
    "                         'ccyy-mm' : shl_global_parm_ccyy_mm\n",
    "                        ,'time' : f_1_step_time # in_current_time + 1 second\n",
    "                        ,'bid' : in_current_price\n",
    "                        ,'f_actual_si' : f_actual_si\n",
    "                        ,'f_1_step_si' : f_1_step_si\n",
    "                        ,'f_actual_price4pm' : f_actual_price4pm\n",
    "                        ,'f_actual_price4pmsi' :  f_actual_price4pmsi\n",
    "                        ,'f_1_step_pred_les_level' : f_1_step_pred_les_level\n",
    "                        ,'f_1_step_pred_les_trend' : f_1_step_pred_les_trend\n",
    "                        ,'f_1_step_pred_les' : f_1_step_pred_les\n",
    "                        ,'f_1_step_pred_adj_misc' : f_1_step_pred_adj_misc\n",
    "                        ,'f_1_step_pred_price_inc' : f_1_step_pred_price_inc\n",
    "                        ,'f_1_step_pred_price' : f_1_step_pred_price\n",
    "                        ,'f_1_step_pred_price_rounded' : f_1_step_pred_price_rounded\n",
    "                        ,'f_1_step_pred_set_price_rounded' : f_1_step_pred_set_price_rounded\n",
    "                        }\n",
    "#     shl_data_pm_k_step_itr =  shl_data_pm_k_step_itr.append(shl_data_pm_k_step_itr_dict, ignore_index=True)\n",
    "#     shl_data_pm_k_step     =  shl_data_pm_k_step.append(shl_data_pm_k_step_itr_dict, ignore_index=True)\n",
    "    return shl_data_pm_k_step_itr_dict\n",
    "\n",
    "    "
   ]
  },
  {
   "cell_type": "code",
   "execution_count": null,
   "metadata": {
    "collapsed": true
   },
   "outputs": [],
   "source": [
    "shl_data_pm_k_step = pd.DataFrame()"
   ]
  },
  {
   "cell_type": "code",
   "execution_count": null,
   "metadata": {
    "collapsed": true
   },
   "outputs": [],
   "source": [
    "shl_data_pm_1_step = pd.DataFrame() # initialize dataframe of prediction results"
   ]
  },
  {
   "cell_type": "code",
   "execution_count": null,
   "metadata": {
    "collapsed": true
   },
   "outputs": [],
   "source": [
    "def shl_predict_price_k_step(in_current_time, in_current_price, in_k_seconds=1):\n",
    "    global shl_data_pm_1_step\n",
    "    \n",
    "    global shl_data_pm_k_step\n",
    "    shl_data_pm_k_step = shl_data_pm_1_step.copy() \n",
    "    \n",
    "    shl_data_pm_itr_dict = {}\n",
    "    \n",
    "    for k in range(1,in_k_seconds+1):\n",
    "        print()\n",
    "        print('==>> Forecasting next %3d second/step... ' % k)\n",
    "        if k == 1:\n",
    "            print('k = ', k)\n",
    "            input_price = in_current_price\n",
    "            input_time  = in_current_time\n",
    "            shl_data_pm_itr_dict = shl_predict_price_1_step(input_time, input_price)\n",
    "            shl_data_pm_1_step     =  shl_data_pm_1_step.append(shl_data_pm_itr_dict, ignore_index=True)\n",
    "        else:\n",
    "            print('k = ', k)\n",
    "            input_price = shl_data_pm_itr_dict['f_1_step_pred_price']\n",
    "            input_time  = shl_data_pm_itr_dict['time']\n",
    "            shl_data_pm_itr_dict = shl_predict_price_1_step(input_time, input_price)\n",
    "\n",
    "        shl_data_pm_k_step     =  shl_data_pm_k_step.append(shl_data_pm_itr_dict, ignore_index=True)\n"
   ]
  },
  {
   "cell_type": "code",
   "execution_count": null,
   "metadata": {},
   "outputs": [],
   "source": [
    "shl_data_pm_1_step"
   ]
  },
  {
   "cell_type": "code",
   "execution_count": null,
   "metadata": {},
   "outputs": [],
   "source": [
    "shl_data_pm_k_step"
   ]
  },
  {
   "cell_type": "code",
   "execution_count": null,
   "metadata": {
    "collapsed": true
   },
   "outputs": [],
   "source": []
  },
  {
   "cell_type": "code",
   "execution_count": null,
   "metadata": {},
   "outputs": [],
   "source": [
    "# shl_data_pm_1_step['f_actual_price4pm'][46:50]"
   ]
  },
  {
   "cell_type": "code",
   "execution_count": null,
   "metadata": {},
   "outputs": [],
   "source": [
    "# shl_data_pm_1_step['f_1_step_pred_price_inc'].shift(1)[46:50]"
   ]
  },
  {
   "cell_type": "code",
   "execution_count": null,
   "metadata": {},
   "outputs": [],
   "source": [
    "# shl_data_pm_1_step['f_1_step_pred_price_inc'].shift(1)[46:50] - shl_data_pm_1_step['f_actual_price4pm'][46:50]"
   ]
  },
  {
   "cell_type": "code",
   "execution_count": null,
   "metadata": {
    "collapsed": true
   },
   "outputs": [],
   "source": []
  },
  {
   "cell_type": "code",
   "execution_count": null,
   "metadata": {
    "collapsed": true
   },
   "outputs": [],
   "source": []
  },
  {
   "cell_type": "markdown",
   "metadata": {},
   "source": [
    "# shl_sm"
   ]
  },
  {
   "cell_type": "code",
   "execution_count": null,
   "metadata": {
    "scrolled": true
   },
   "outputs": [],
   "source": [
    "shl_data_history_ts_process = pd.read_csv('data/history_ts.csv') \n",
    "shl_data_history_ts_process.tail()"
   ]
  },
  {
   "cell_type": "code",
   "execution_count": null,
   "metadata": {
    "collapsed": true
   },
   "outputs": [],
   "source": [
    "shl_global_parm_ccyy_mm_offset = 1830"
   ]
  },
  {
   "cell_type": "code",
   "execution_count": null,
   "metadata": {
    "collapsed": true
   },
   "outputs": [],
   "source": []
  },
  {
   "cell_type": "code",
   "execution_count": null,
   "metadata": {
    "scrolled": true
   },
   "outputs": [],
   "source": [
    "shl_data_pm_1_step = pd.DataFrame() # initialize dataframe of prediction results\n",
    "\n",
    "for i in range(shl_global_parm_ccyy_mm_offset, shl_global_parm_ccyy_mm_offset+55): # use July 2015 data as simulatino\n",
    "    print('\\n<<<< Record No.: %5d >>>>' % i)\n",
    "    print(shl_data_history_ts_process['ccyy-mm'][i]) # format: ccyy-mm\n",
    "    print(shl_data_history_ts_process['time'][i]) # format: hh:mm:ss\n",
    "    print(shl_data_history_ts_process['bid-price'][i]) # format: integer\n",
    "    shl_predict_price_k_step(shl_data_history_ts_process['time'][i], shl_data_history_ts_process['bid-price'][i],1)\n"
   ]
  },
  {
   "cell_type": "code",
   "execution_count": null,
   "metadata": {
    "scrolled": true
   },
   "outputs": [],
   "source": [
    "shl_data_pm_1_step"
   ]
  },
  {
   "cell_type": "code",
   "execution_count": null,
   "metadata": {},
   "outputs": [],
   "source": [
    "shl_data_pm_k_step"
   ]
  },
  {
   "cell_type": "code",
   "execution_count": null,
   "metadata": {
    "collapsed": true
   },
   "outputs": [],
   "source": []
  },
  {
   "cell_type": "code",
   "execution_count": null,
   "metadata": {
    "collapsed": true
   },
   "outputs": [],
   "source": []
  },
  {
   "cell_type": "code",
   "execution_count": null,
   "metadata": {
    "collapsed": true
   },
   "outputs": [],
   "source": [
    "%matplotlib inline\n",
    "import matplotlib.pyplot as plt"
   ]
  },
  {
   "cell_type": "code",
   "execution_count": null,
   "metadata": {},
   "outputs": [],
   "source": [
    "plt.figure(figsize=(12,6))\n",
    "plt.plot(shl_data_pm_1_step['bid'])\n",
    "# plt.plot(shl_data_pm_1_step['f_current_step_pred_price'])\n",
    "plt.plot(shl_data_pm_1_step['f_1_step_pred_price'].shift(1))\n",
    "\n",
    "plt.figure(figsize=(12,6))\n",
    "plt.plot(shl_data_pm_1_step['bid'])\n",
    "# plt.plot(shl_data_pm_1_step['f_current_step_pred_price'])\n",
    "plt.plot(shl_data_pm_1_step['f_1_step_pred_price'])\n"
   ]
  },
  {
   "cell_type": "code",
   "execution_count": null,
   "metadata": {
    "collapsed": true
   },
   "outputs": [],
   "source": []
  },
  {
   "cell_type": "code",
   "execution_count": null,
   "metadata": {
    "collapsed": true
   },
   "outputs": [],
   "source": []
  },
  {
   "cell_type": "code",
   "execution_count": null,
   "metadata": {
    "collapsed": true
   },
   "outputs": [],
   "source": []
  },
  {
   "cell_type": "code",
   "execution_count": null,
   "metadata": {
    "collapsed": true
   },
   "outputs": [],
   "source": []
  },
  {
   "cell_type": "code",
   "execution_count": null,
   "metadata": {
    "collapsed": true
   },
   "outputs": [],
   "source": []
  },
  {
   "cell_type": "code",
   "execution_count": null,
   "metadata": {
    "collapsed": true
   },
   "outputs": [],
   "source": [
    "import pandas as pd"
   ]
  },
  {
   "cell_type": "markdown",
   "metadata": {},
   "source": [
    "### Read raw data"
   ]
  },
  {
   "cell_type": "code",
   "execution_count": null,
   "metadata": {},
   "outputs": [],
   "source": [
    "shl_data_history_ts_process = pd.read_csv('data/history_ts.csv') \n",
    "shl_data_history_ts_process.tail()"
   ]
  },
  {
   "cell_type": "code",
   "execution_count": null,
   "metadata": {
    "scrolled": true
   },
   "outputs": [],
   "source": [
    "shl_data_history_table_process = pd.read_csv('data/history_table.csv') \n",
    "shl_data_history_table_process.tail()"
   ]
  },
  {
   "cell_type": "code",
   "execution_count": null,
   "metadata": {
    "scrolled": true
   },
   "outputs": [],
   "source": [
    "shl_data_parm_si = pd.read_csv('data/parm_si.csv') \n",
    "# print(shl_data_parm_si[(shl_data_parm_si['ccyy-mm'] == '2017-07') & (shl_data_parm_si['time'] == '11:29:00')].iloc[0]['si'])\n",
    "shl_data_parm_si.tail()"
   ]
  },
  {
   "cell_type": "code",
   "execution_count": null,
   "metadata": {
    "scrolled": false
   },
   "outputs": [],
   "source": [
    "shl_data_parm_month = pd.read_csv('data/parm_month.csv') \n",
    "# print(shl_data_parm_month[(shl_data_parm_month['ccyy-mm'] == '2017-07') & (shl_data_parm_month['time'] == '11:29:00')].iloc[0]['di'])\n",
    "shl_data_parm_month.tail()"
   ]
  },
  {
   "cell_type": "markdown",
   "metadata": {},
   "source": [
    "### Initialization"
   ]
  },
  {
   "cell_type": "code",
   "execution_count": null,
   "metadata": {
    "collapsed": true
   },
   "outputs": [],
   "source": [
    "# function to fetch Seasonality-Index\n",
    "def shl_intra_fetch_si(ccyy_mm, time, shl_data_parm_si):\n",
    "#     return shl_data_parm_si[(shl_data_parm_si['ccyy-mm'] == '2017-09') & (shl_data_parm_si['time'] == '11:29:00')]\n",
    "    return shl_data_parm_si[(shl_data_parm_si['ccyy-mm'] == ccyy_mm) & (shl_data_parm_si['time'] == time)].iloc[0]['si']\n"
   ]
  },
  {
   "cell_type": "code",
   "execution_count": null,
   "metadata": {
    "collapsed": true
   },
   "outputs": [],
   "source": [
    "# function to fetch Dynamic-Increment\n",
    "def shl_intra_fetch_di(ccyy_mm, shl_data_parm_month):\n",
    "#     print(shl_data_parm_month[shl_data_parm_month['ccyy-mm'] == '2017-07'].iloc[0]['di'])\n",
    "    return shl_data_parm_month[shl_data_parm_month['ccyy-mm'] == ccyy_mm].iloc[0]['di']\n"
   ]
  },
  {
   "cell_type": "code",
   "execution_count": null,
   "metadata": {
    "collapsed": true
   },
   "outputs": [],
   "source": [
    "def shl_intra_fetch_previous_n_sec_time_as_str(shl_data_time_field, n):\n",
    "    return str((pd.to_datetime(shl_data_time_field, format='%H:%M:%S') - pd.Timedelta(seconds=n)).time())\n",
    "# print(shl_intra_fetch_previous_n_sec_time_as_str('11:29:57',3))\n",
    "\n",
    "def shl_intra_fetch_future_n_sec_time_as_str(shl_data_time_field, n):\n",
    "    return str((pd.to_datetime(shl_data_time_field, format='%H:%M:%S') - pd.Timedelta(seconds=-n)).time())\n",
    "# print(shl_intra_fetch_future_n_sec_time_as_str('11:29:57',3))"
   ]
  },
  {
   "cell_type": "markdown",
   "metadata": {},
   "source": [
    "### shl_sm Simulation Module Parm:"
   ]
  },
  {
   "cell_type": "code",
   "execution_count": null,
   "metadata": {
    "collapsed": true
   },
   "outputs": [],
   "source": [
    "# which month to predict?\n",
    "shl_global_parm_ccyy_mm = '2017-04'\n",
    "shl_global_parm_ccyy_mm_offset = 1647\n",
    "\n",
    "# shl_global_parm_ccyy_mm = '2017-05'\n",
    "# shl_global_parm_ccyy_mm_offset = 1708\n",
    "\n",
    "# shl_global_parm_ccyy_mm = '2017-06'\n",
    "# shl_global_parm_ccyy_mm_offset = 1769\n",
    "\n",
    "# shl_global_parm_ccyy_mm = '2017-07'\n",
    "# shl_global_parm_ccyy_mm_offset = 1830\n",
    "\n"
   ]
  },
  {
   "cell_type": "markdown",
   "metadata": {},
   "source": [
    "### shl_pm Prediction Module Parm:"
   ]
  },
  {
   "cell_type": "code",
   "execution_count": null,
   "metadata": {
    "scrolled": false
   },
   "outputs": [],
   "source": [
    "# create default global base price\n",
    "shl_global_parm_base_price = 10000000\n",
    "\n",
    "shl_global_parm_dynamic_increment = shl_intra_fetch_di(shl_global_parm_ccyy_mm, shl_data_parm_month)\n",
    "\n",
    "shl_global_parm_alpha = shl_data_parm_month[shl_data_parm_month['ccyy-mm'] == shl_global_parm_ccyy_mm].iloc[0]['alpha']\n",
    "shl_global_parm_beta  = shl_data_parm_month[shl_data_parm_month['ccyy-mm'] == shl_global_parm_ccyy_mm].iloc[0]['beta']\n",
    "shl_global_parm_gamma = shl_data_parm_month[shl_data_parm_month['ccyy-mm'] == shl_global_parm_ccyy_mm].iloc[0]['gamma']\n",
    "shl_global_parm_sec57_weight = shl_data_parm_month[shl_data_parm_month['ccyy-mm'] == shl_global_parm_ccyy_mm].iloc[0]['sec57-weight']\n",
    "shl_global_parm_month_weight = shl_data_parm_month[shl_data_parm_month['ccyy-mm'] == shl_global_parm_ccyy_mm].iloc[0]['month-weight']\n",
    "shl_global_parm_short_weight = shl_data_parm_month[shl_data_parm_month['ccyy-mm'] == shl_global_parm_ccyy_mm].iloc[0]['short-weight']\n",
    "\n",
    "# create default average error between 46~50 seconds:\n",
    "shl_global_parm_short_weight_misc = 0\n",
    "\n",
    "print('=================================================')\n",
    "print('  Global Parameters for Month : %s' % shl_global_parm_ccyy_mm)\n",
    "print('-------------------------------------------------')\n",
    "\n",
    "print('shl_global_parm_dynamic_increment : %d' % shl_global_parm_dynamic_increment)\n",
    "\n",
    "print('shl_global_parm_alpha             : %0.15f' % shl_global_parm_alpha) # used in forecasting\n",
    "print('shl_global_parm_beta              : %0.15f' % shl_global_parm_beta)  # used in forecasting\n",
    "print('shl_global_parm_gamma             : %0.15f' % shl_global_parm_gamma) # used in forecasting\n",
    "print('shl_global_parm_sec57_weight      : %f' % shl_global_parm_sec57_weight) # used in training a model\n",
    "print('shl_global_parm_month_weight      : %f' % shl_global_parm_month_weight) # used in training a model\n",
    "print('shl_global_parm_short_weight      : %f' % shl_global_parm_short_weight) # used in training a model\n",
    "print('=================================================')\n",
    "\n",
    "# plot seasonality index\n",
    "plt.figure(figsize=(6,3))\n",
    "plt.plot(shl_data_parm_si[(shl_data_parm_si['ccyy-mm'] == shl_global_parm_ccyy_mm)]['si'])\n"
   ]
  },
  {
   "cell_type": "code",
   "execution_count": null,
   "metadata": {
    "collapsed": true
   },
   "outputs": [],
   "source": []
  },
  {
   "cell_type": "markdown",
   "metadata": {},
   "source": [
    "# Start of shl_sm"
   ]
  },
  {
   "cell_type": "code",
   "execution_count": null,
   "metadata": {
    "scrolled": true
   },
   "outputs": [],
   "source": [
    "# 11:29:00~11:29:50\n",
    "\n",
    "shl_global_parm_short_weight_misc = 0\n",
    "\n",
    "# for i in range(1830, 1830+51): # use July 2015 data as simulatino\n",
    "for i in range(shl_global_parm_ccyy_mm_offset, shl_global_parm_ccyy_mm_offset+51): # use July 2015 data as simulatino\n",
    "    print('\\n<<<< Record No.: %5d >>>>' % i)\n",
    "    print(shl_data_history_ts_process['ccyy-mm'][i]) # format: ccyy-mm\n",
    "    print(shl_data_history_ts_process['time'][i]) # format: hh:mm:ss\n",
    "    print(shl_data_history_ts_process['bid-price'][i]) # format: integer\n",
    "#     print(shl_data_history_ts_process['ref-price'][i])\n",
    "    \n",
    "    # capture & calculate 11:29:00 bid price - 1 = base price\n",
    "    if shl_data_history_ts_process['time'][i] == '11:29:00':\n",
    "        shl_global_parm_base_price = shl_data_history_ts_process['bid-price'][i] -1 \n",
    "        print('*INFO* shl_global_parm_base_price : %d ' % shl_global_parm_base_price)\n",
    "\n",
    "        \n",
    "    print('---- Pre-Process ---')\n",
    "    # pre-process: ccyy-mm-hh:mm:ss\n",
    "    f_actual_datetime = shl_data_history_ts_process['ccyy-mm'][i] + ' ' + shl_data_history_ts_process['time'][i]\n",
    "    f_actual_price4pm = shl_data_history_ts_process['bid-price'][i] -  shl_global_parm_base_price\n",
    "    print('*INFO* f_actual_datetime   : %s ' %  f_actual_datetime)\n",
    "    print('*INFO* f_actual_price4pm   : %d ' % f_actual_price4pm)\n",
    "    \n",
    "    # get Seasonality-Index\n",
    "    f_actual_si = shl_intra_fetch_si(shl_data_history_ts_process['ccyy-mm'][i]\n",
    "                                         ,shl_data_history_ts_process['time'][i]\n",
    "                                         ,shl_data_parm_si)\n",
    "    print('*INFO* f_actual_si         : %0.10f ' %  f_actual_si)\n",
    "    f_1_step_si = shl_intra_fetch_si(shl_data_history_ts_process['ccyy-mm'][i]\n",
    "                                         ,shl_data_history_ts_process['time'][i+1]\n",
    "                                         ,shl_data_parm_si)\n",
    "    print('*INFO* f_1_step_si         : %0.10f ' %  f_1_step_si)\n",
    "    # get de-seasoned price: price4pmsi\n",
    "    f_actual_price4pmsi = f_actual_price4pm / f_actual_si\n",
    "    print('*INFO* f_actual_price4pmsi : %0.10f ' % f_actual_price4pmsi)\n",
    "    \n",
    "\n",
    "\n",
    "    if shl_data_history_ts_process['time'][i] == '11:29:00':\n",
    "        shl_data_pm_1_step = pd.DataFrame() # initialize prediction dataframe at 11:29:00\n",
    "        print('---- call prediction function shl_pm ---- %s' % shl_data_history_ts_process['time'][i])\n",
    "        f_1_step_pred_les_level = f_actual_price4pmsi\n",
    "        f_1_step_pred_les_trend = 0\n",
    "        f_1_step_pred_les = f_1_step_pred_les_level + f_1_step_pred_les_trend\n",
    "        f_1_step_pred_adj_misc = 0\n",
    "#         f_1_step_pred_price_inc = (f_1_step_pred_les + f_1_step_pred_adj_misc) * f_actual_si\n",
    "        f_1_step_pred_price_inc = (f_1_step_pred_les + f_1_step_pred_adj_misc) * f_1_step_si\n",
    "        f_1_step_pred_price = f_1_step_pred_price_inc + shl_global_parm_base_price\n",
    "        f_1_step_pred_price_rounded = round(f_1_step_pred_price/100, 0) * 100\n",
    "        f_1_step_pred_dynamic_increment = shl_global_parm_dynamic_increment\n",
    "        f_1_step_pred_set_price_rounded = f_1_step_pred_price_rounded + f_1_step_pred_dynamic_increment\n",
    "        f_current_step_pred_les = f_1_step_pred_les\n",
    "        f_current_step_pred_les_misc = f_1_step_pred_adj_misc\n",
    "        f_current_step_pred_price_inc = f_1_step_pred_price_inc\n",
    "        f_current_step_pred_price = f_1_step_pred_price\n",
    "        f_current_step_pred_price_rounded = f_1_step_pred_price_rounded\n",
    "        f_current_step_pred_dynamic_increment = f_1_step_pred_dynamic_increment # +200 or + 300\n",
    "        f_current_step_pred_set_price_rounded = f_1_step_pred_set_price_rounded\n",
    "        f_current_step_error = f_current_step_pred_price_inc - f_actual_price4pm # current second forecast error\n",
    "    else:\n",
    "        previous_time = shl_intra_fetch_previous_n_sec_time_as_str(shl_data_history_ts_process['time'][i], 1)\n",
    "        previous_pred_les_level = shl_data_pm_1_step[(shl_data_pm_1_step['ccyy-mm'] == shl_data_history_ts_process['ccyy-mm'][i]) \\\n",
    "                                            & (shl_data_pm_1_step['time'] ==previous_time)].iloc[0]['f_1_step_pred_les_level']\n",
    "        print('     previous_pred_les_level : %f' % previous_pred_les_level)\n",
    "        \n",
    "        previous_pred_les_trend = shl_data_pm_1_step[(shl_data_pm_1_step['ccyy-mm'] == shl_data_history_ts_process['ccyy-mm'][i]) \\\n",
    "                                            & (shl_data_pm_1_step['time'] ==previous_time)].iloc[0]['f_1_step_pred_les_trend']\n",
    "        print('     previous_pred_les_trend : %f' % previous_pred_les_trend)\n",
    "        \n",
    "        f_current_step_pred_les = shl_data_pm_1_step[(shl_data_pm_1_step['ccyy-mm'] == shl_data_history_ts_process['ccyy-mm'][i]) \\\n",
    "                                                    & (shl_data_pm_1_step['time'] ==previous_time)].iloc[0]['f_1_step_pred_les']\n",
    "        f_current_step_pred_les_misc = shl_data_pm_1_step[(shl_data_pm_1_step['ccyy-mm'] == shl_data_history_ts_process['ccyy-mm'][i]) \\\n",
    "                                                    & (shl_data_pm_1_step['time'] ==previous_time)].iloc[0]['f_1_step_pred_adj_misc']\n",
    "        f_current_step_pred_price_inc = shl_data_pm_1_step[(shl_data_pm_1_step['ccyy-mm'] == shl_data_history_ts_process['ccyy-mm'][i]) \\\n",
    "                                                    & (shl_data_pm_1_step['time'] ==previous_time)].iloc[0]['f_1_step_pred_price_inc']\n",
    "        f_current_step_pred_price = shl_data_pm_1_step[(shl_data_pm_1_step['ccyy-mm'] == shl_data_history_ts_process['ccyy-mm'][i]) \\\n",
    "                                                    & (shl_data_pm_1_step['time'] ==previous_time)].iloc[0]['f_1_step_pred_price']\n",
    "        f_current_step_pred_price_rounded = shl_data_pm_1_step[(shl_data_pm_1_step['ccyy-mm'] == shl_data_history_ts_process['ccyy-mm'][i]) \\\n",
    "                                                    & (shl_data_pm_1_step['time'] ==previous_time)].iloc[0]['f_1_step_pred_price_rounded']\n",
    "        f_current_step_pred_dynamic_increment = shl_data_pm_1_step[(shl_data_pm_1_step['ccyy-mm'] == shl_data_history_ts_process['ccyy-mm'][i]) \\\n",
    "                                                    & (shl_data_pm_1_step['time'] ==previous_time)].iloc[0]['f_1_step_pred_dynamic_increment']\n",
    "        f_current_step_pred_set_price_rounded = shl_data_pm_1_step[(shl_data_pm_1_step['ccyy-mm'] == shl_data_history_ts_process['ccyy-mm'][i]) \\\n",
    "                                                    & (shl_data_pm_1_step['time'] ==previous_time)].iloc[0]['f_1_step_pred_set_price_rounded']\n",
    "\n",
    "        f_current_step_error = f_current_step_pred_price_inc - f_actual_price4pm # current second forecast error\n",
    "            \n",
    "        if shl_data_history_ts_process['time'][i] == '11:29:50':\n",
    "            # function to get average forecast error between 46~50 seconds: mean(f_current_step_error)\n",
    "            shl_global_parm_short_weight_misc = (shl_data_pm_1_step.iloc[46:50]['f_current_step_error'].sum() \\\n",
    "                                             + f_current_step_error) / 5\n",
    "            print('*INFO* shl_global_parm_short_weight_misc : %f' % shl_global_parm_short_weight_misc)\n",
    "            \n",
    "#         call prediction functino shl_pm, forcaste next k=1 step\n",
    "        print('---- call prediction function shl_pm ---- %s' % shl_data_history_ts_process['time'][i])\n",
    "        \n",
    "        f_1_step_pred_les_level = shl_global_parm_alpha * f_actual_price4pmsi \\\n",
    "                                    + (1 - shl_global_parm_alpha) * (previous_pred_les_level + previous_pred_les_trend)\n",
    "        print('     f_1_step_pred_les_level  : %f' % f_1_step_pred_les_level)\n",
    "        f_1_step_pred_les_trend = shl_global_parm_beta * (f_1_step_pred_les_level - previous_pred_les_level) \\\n",
    "                                    + (1 - shl_global_parm_beta) * previous_pred_les_trend\n",
    "        print('     f_1_step_pred_les_trend  : %f' % f_1_step_pred_les_trend)\n",
    "        f_1_step_pred_les = f_1_step_pred_les_level + f_1_step_pred_les_trend\n",
    "        \n",
    "        f_1_step_pred_adj_misc = shl_global_parm_short_weight_misc * shl_global_parm_short_weight * shl_global_parm_gamma\n",
    "        \n",
    "#         f_1_step_pred_price_inc = (f_1_step_pred_les + f_1_step_pred_adj_misc) * f_actual_si\n",
    "        f_1_step_pred_price_inc = (f_1_step_pred_les + f_1_step_pred_adj_misc) * f_1_step_si\n",
    "        f_1_step_pred_price = f_1_step_pred_price_inc + shl_global_parm_base_price\n",
    "        f_1_step_pred_price_rounded = round(f_1_step_pred_price/100, 0) * 100\n",
    "        f_1_step_pred_dynamic_increment = shl_global_parm_dynamic_increment\n",
    "        f_1_step_pred_set_price_rounded = f_1_step_pred_price_rounded + f_1_step_pred_dynamic_increment\n",
    "   \n",
    "        \n",
    "    # write results to shl_pm dataframe\n",
    "            \n",
    "    shl_data_pm_1_step_current = {\n",
    "                         'ccyy-mm' : shl_data_history_ts_process['ccyy-mm'][i]\n",
    "                        ,'time' : shl_data_history_ts_process['time'][i]\n",
    "                        ,'bid' : shl_data_history_ts_process['bid-price'][i]\n",
    "                        ,'datetime' : f_actual_datetime\n",
    "                        ,'f_actual_price4pm' : f_actual_price4pm\n",
    "                        ,'f_actual_si' : f_actual_si\n",
    "                        ,'f_1_step_si' : f_1_step_si\n",
    "                        ,'f_actual_price4pmsi' :  f_actual_price4pmsi\n",
    "                        ,'f_1_step_pred_les_level' : f_1_step_pred_les_level\n",
    "                        ,'f_1_step_pred_les_trend' : f_1_step_pred_les_trend\n",
    "                        ,'f_1_step_pred_les' : f_1_step_pred_les\n",
    "                        ,'f_1_step_pred_adj_misc' : f_1_step_pred_adj_misc\n",
    "                        ,'f_1_step_pred_price_inc' : f_1_step_pred_price_inc\n",
    "                        ,'f_1_step_pred_price' : f_1_step_pred_price\n",
    "                        ,'f_1_step_pred_price_rounded' : f_1_step_pred_price_rounded\n",
    "                        ,'f_1_step_pred_dynamic_increment' : f_1_step_pred_dynamic_increment # +200 or + 300\n",
    "                        ,'f_1_step_pred_set_price_rounded' : f_1_step_pred_set_price_rounded\n",
    "                        ,'f_current_step_pred_les' : f_current_step_pred_les\n",
    "                        ,'f_current_step_pred_les_misc' : f_current_step_pred_les_misc\n",
    "                        ,'f_current_step_pred_price_inc' : f_current_step_pred_price_inc\n",
    "                        ,'f_current_step_pred_price' : f_current_step_pred_price\n",
    "                        ,'f_current_step_pred_price_rounded' : f_current_step_pred_price_rounded\n",
    "                        ,'f_current_step_pred_dynamic_increment' : f_current_step_pred_dynamic_increment # +200 or + 300\n",
    "                        ,'f_current_step_pred_set_price_rounded' : f_current_step_pred_set_price_rounded\n",
    "                        ,'f_current_step_error' : f_current_step_error\n",
    "                        }\n",
    "    shl_data_pm_1_step =  shl_data_pm_1_step.append(shl_data_pm_1_step_current, ignore_index=True)\n"
   ]
  },
  {
   "cell_type": "code",
   "execution_count": null,
   "metadata": {
    "scrolled": false
   },
   "outputs": [],
   "source": [
    "# shl_data_pm_1_step.iloc[2]\n",
    "shl_data_pm_1_step.head()"
   ]
  },
  {
   "cell_type": "code",
   "execution_count": null,
   "metadata": {
    "scrolled": true
   },
   "outputs": [],
   "source": [
    "shl_data_pm_1_step.tail()"
   ]
  },
  {
   "cell_type": "code",
   "execution_count": null,
   "metadata": {},
   "outputs": [],
   "source": [
    "plt.figure(figsize=(12,6))\n",
    "plt.plot(shl_data_pm_1_step['bid'])\n",
    "plt.plot(shl_data_pm_1_step['f_current_step_pred_price'])\n",
    "# plt.plot(shl_data_pm_1_step['f_1_step_pred_price'].shift(1))\n",
    "\n",
    "plt.figure(figsize=(12,6))\n",
    "plt.plot(shl_data_pm_1_step['bid'])\n",
    "plt.plot(shl_data_pm_1_step['f_current_step_pred_price'])\n",
    "plt.plot(shl_data_pm_1_step['f_1_step_pred_price'])\n"
   ]
  },
  {
   "cell_type": "code",
   "execution_count": null,
   "metadata": {
    "collapsed": true
   },
   "outputs": [],
   "source": []
  },
  {
   "cell_type": "markdown",
   "metadata": {},
   "source": [
    "### Start of prediction module: shl_pm"
   ]
  },
  {
   "cell_type": "code",
   "execution_count": null,
   "metadata": {
    "collapsed": true
   },
   "outputs": [],
   "source": [
    "# 11:29:51~\n",
    "def predict_k_step_price(shl_data_pm_1_step, ccyy_mm, time, k):\n",
    "    print('month & time  : ', ccyy_mm, time)\n",
    "    print()\n",
    "    \n",
    "#     shl_data_pm_1_step_k = pd.DataFrame() # initialize prediction dataframe\n",
    "    for sec in range(0, k):\n",
    "        \n",
    "        \n",
    "        print('delta second(s) : ', sec)\n",
    "        current_time  = shl_intra_fetch_future_n_sec_time_as_str(time, sec)\n",
    "        print('current_time  : %s' % current_time)\n",
    "        f_1_step_time  = shl_intra_fetch_future_n_sec_time_as_str(current_time, 1)\n",
    "        print('f_1_step_time  : %s' % f_1_step_time)\n",
    "        previous_time = shl_intra_fetch_previous_n_sec_time_as_str(current_time, 1)\n",
    "        print('previous_time : %s' % previous_time)\n",
    "\n",
    "        previous_pred_les_level = shl_data_pm_1_step[(shl_data_pm_1_step['ccyy-mm'] == shl_global_parm_ccyy_mm) \\\n",
    "                                            & (shl_data_pm_1_step['time'] ==previous_time)].iloc[0]['f_1_step_pred_les_level']\n",
    "        print('     previous_pred_les_level : %f' % previous_pred_les_level)\n",
    "        \n",
    "        previous_pred_les_trend = shl_data_pm_1_step[(shl_data_pm_1_step['ccyy-mm'] == shl_global_parm_ccyy_mm) \\\n",
    "                                            & (shl_data_pm_1_step['time'] ==previous_time)].iloc[0]['f_1_step_pred_les_trend']\n",
    "        print('     previous_pred_les_trend : %f' % previous_pred_les_trend)\n",
    "\n",
    "\n",
    "        print('---- Pre-Process ---')\n",
    "        ############ use predicted value for boost-trap\n",
    "        previous_pred_price = shl_data_pm_1_step[(shl_data_pm_1_step['ccyy-mm'] == shl_global_parm_ccyy_mm) \\\n",
    "                                            & (shl_data_pm_1_step['time'] == previous_time)].iloc[0]['f_1_step_pred_price']\n",
    "        # pre-process: ccyy-mm-hh:mm:ss\n",
    "        f_actual_datetime = shl_global_parm_ccyy_mm + ' ' + current_time\n",
    "#         f_actual_price4pm = shl_data_history_ts_process['bid-price'][i] -  shl_global_parm_base_price\n",
    "        f_actual_price4pm = previous_pred_price -  shl_global_parm_base_price\n",
    "        print('*INFO* f_actual_datetime   : %s ' %  f_actual_datetime)\n",
    "        print('*INFO* previous_pred_price: %s ' %  previous_pred_price)\n",
    "        print('*INFO* f_actual_price4pm   : %d ' % f_actual_price4pm)\n",
    "\n",
    "        # get Seasonality-Index\n",
    "        f_actual_si = shl_intra_fetch_si(shl_global_parm_ccyy_mm\n",
    "                                             ,current_time\n",
    "                                             ,shl_data_parm_si)\n",
    "        try:\n",
    "            f_1_step_si = shl_intra_fetch_si(shl_global_parm_ccyy_mm\n",
    "                                                 ,f_1_step_time\n",
    "                                                 ,shl_data_parm_si)\n",
    "        except:\n",
    "            f_1_step_si = shl_intra_fetch_si(shl_global_parm_ccyy_mm\n",
    "                                                 ,current_time\n",
    "                                                 ,shl_data_parm_si)            \n",
    "\n",
    "        print('*INFO* f_actual_si         : %0.10f ' %  f_actual_si)\n",
    "        # get de-seasoned price: price4pmsi\n",
    "        f_actual_price4pmsi = f_actual_price4pm / f_actual_si\n",
    "        print('*INFO* f_actual_price4pmsi : %0.10f ' % f_actual_price4pmsi)\n",
    "\n",
    "        f_current_step_pred_les = shl_data_pm_1_step[(shl_data_pm_1_step['ccyy-mm'] == shl_data_history_ts_process['ccyy-mm'][i]) \\\n",
    "                                                    & (shl_data_pm_1_step['time'] ==previous_time)].iloc[0]['f_1_step_pred_les']\n",
    "        f_current_step_pred_les_misc = shl_data_pm_1_step[(shl_data_pm_1_step['ccyy-mm'] == shl_data_history_ts_process['ccyy-mm'][i]) \\\n",
    "                                                    & (shl_data_pm_1_step['time'] ==previous_time)].iloc[0]['f_1_step_pred_adj_misc']\n",
    "        f_current_step_pred_price_inc = shl_data_pm_1_step[(shl_data_pm_1_step['ccyy-mm'] == shl_data_history_ts_process['ccyy-mm'][i]) \\\n",
    "                                                    & (shl_data_pm_1_step['time'] ==previous_time)].iloc[0]['f_1_step_pred_price_inc']\n",
    "        f_current_step_pred_price = shl_data_pm_1_step[(shl_data_pm_1_step['ccyy-mm'] == shl_data_history_ts_process['ccyy-mm'][i]) \\\n",
    "                                                    & (shl_data_pm_1_step['time'] ==previous_time)].iloc[0]['f_1_step_pred_price']\n",
    "        f_current_step_pred_price_rounded = shl_data_pm_1_step[(shl_data_pm_1_step['ccyy-mm'] == shl_data_history_ts_process['ccyy-mm'][i]) \\\n",
    "                                                    & (shl_data_pm_1_step['time'] ==previous_time)].iloc[0]['f_1_step_pred_price_rounded']\n",
    "        f_current_step_pred_dynamic_increment = shl_data_pm_1_step[(shl_data_pm_1_step['ccyy-mm'] == shl_data_history_ts_process['ccyy-mm'][i]) \\\n",
    "                                                    & (shl_data_pm_1_step['time'] ==previous_time)].iloc[0]['f_1_step_pred_dynamic_increment']\n",
    "        f_current_step_pred_set_price_rounded = shl_data_pm_1_step[(shl_data_pm_1_step['ccyy-mm'] == shl_data_history_ts_process['ccyy-mm'][i]) \\\n",
    "                                                    & (shl_data_pm_1_step['time'] ==previous_time)].iloc[0]['f_1_step_pred_set_price_rounded']\n",
    "        \n",
    "        f_current_step_error = f_current_step_pred_price_inc - f_actual_price4pm # current second forecast error\n",
    "        \n",
    "\n",
    "        f_1_step_pred_les_level = shl_global_parm_alpha * f_actual_price4pmsi \\\n",
    "                                    + (1 - shl_global_parm_alpha) * (previous_pred_les_level + previous_pred_les_trend)\n",
    "        print('     f_1_step_pred_les_level  : %f' % f_1_step_pred_les_level)\n",
    "        f_1_step_pred_les_trend = shl_global_parm_beta * (f_1_step_pred_les_level - previous_pred_les_level) \\\n",
    "                                    + (1 - shl_global_parm_beta) * previous_pred_les_trend\n",
    "        print('     f_1_step_pred_les_trend  : %f' % f_1_step_pred_les_trend)\n",
    "        f_1_step_pred_les = f_1_step_pred_les_level + f_1_step_pred_les_trend\n",
    "        \n",
    "#         f_1_step_pred_adj_misc = 0\n",
    "        f_1_step_pred_adj_misc = shl_global_parm_short_weight_misc * shl_global_parm_short_weight * (sec+2) * shl_global_parm_gamma\n",
    "        \n",
    "#         f_1_step_pred_price_inc = (f_1_step_pred_les + f_1_step_pred_adj_misc) * f_actual_si\n",
    "        f_1_step_pred_price_inc = (f_1_step_pred_les + f_1_step_pred_adj_misc) * f_1_step_si\n",
    "        f_1_step_pred_price = f_1_step_pred_price_inc + shl_global_parm_base_price\n",
    "        f_1_step_pred_price_rounded = round(f_1_step_pred_price/100, 0) * 100\n",
    "        f_1_step_pred_dynamic_increment = shl_global_parm_dynamic_increment\n",
    "        f_1_step_pred_set_price_rounded = f_1_step_pred_price_rounded + f_1_step_pred_dynamic_increment \n",
    "\n",
    "#         write results to shl_pm dataframe\n",
    "        shl_data_pm_1_step_current = {\n",
    "                             'ccyy-mm' : shl_global_parm_ccyy_mm\n",
    "                            ,'time' : current_time\n",
    "                            ,'bid' : previous_pred_price\n",
    "                            ,'datetime' : f_actual_datetime\n",
    "                            ,'f_actual_price4pm' : f_actual_price4pm\n",
    "                            ,'f_actual_si' : f_actual_si\n",
    "                            ,'f_1_step_si' : f_1_step_si\n",
    "                            ,'f_actual_price4pmsi' :  f_actual_price4pmsi\n",
    "                            ,'f_1_step_pred_les_level' : f_1_step_pred_les_level\n",
    "                            ,'f_1_step_pred_les_trend' : f_1_step_pred_les_trend\n",
    "                            ,'f_1_step_pred_les' : f_1_step_pred_les\n",
    "                            ,'f_1_step_pred_adj_misc' : f_1_step_pred_adj_misc\n",
    "                            ,'f_1_step_pred_price_inc' : f_1_step_pred_price_inc\n",
    "                            ,'f_1_step_pred_price' : f_1_step_pred_price\n",
    "                            ,'f_1_step_pred_price_rounded' : f_1_step_pred_price_rounded\n",
    "                            ,'f_1_step_pred_dynamic_increment' : f_1_step_pred_dynamic_increment # +200 or + 300\n",
    "                            ,'f_1_step_pred_set_price_rounded' : f_1_step_pred_set_price_rounded\n",
    "                            ,'f_current_step_pred_les' : f_current_step_pred_les\n",
    "                            ,'f_current_step_pred_les_misc' : f_current_step_pred_les_misc\n",
    "                            ,'f_current_step_pred_price_inc' : f_current_step_pred_price_inc\n",
    "                            ,'f_current_step_pred_price' : f_current_step_pred_price\n",
    "                            ,'f_current_step_pred_price_rounded' : f_current_step_pred_price_rounded\n",
    "                            ,'f_current_step_pred_dynamic_increment' : f_current_step_pred_dynamic_increment # +200 or + 300\n",
    "                            ,'f_current_step_pred_set_price_rounded' : f_current_step_pred_set_price_rounded\n",
    "                            ,'f_current_step_error' : f_current_step_error\n",
    "                            }\n",
    "        print('---------------------------')\n",
    "        shl_data_pm_1_step =  shl_data_pm_1_step.append(shl_data_pm_1_step_current, ignore_index=True)\n",
    "        \n",
    "    return shl_data_pm_1_step"
   ]
  },
  {
   "cell_type": "code",
   "execution_count": null,
   "metadata": {
    "scrolled": true
   },
   "outputs": [],
   "source": [
    "shl_data_pm_1_step_k_step = predict_k_step_price(shl_data_pm_1_step, shl_global_parm_ccyy_mm, '11:29:51', 10)"
   ]
  },
  {
   "cell_type": "code",
   "execution_count": null,
   "metadata": {
    "scrolled": true
   },
   "outputs": [],
   "source": [
    "shl_data_pm_1_step_k_step['f_current_step_pred_les_misc'].tail(11)"
   ]
  },
  {
   "cell_type": "code",
   "execution_count": null,
   "metadata": {},
   "outputs": [],
   "source": [
    "# bid is predicted bid-price from shl_pm\n",
    "plt.figure(figsize=(12,6))\n",
    "plt.plot(shl_data_pm_1_step_k_step['bid'])\n",
    "# plt.plot(shl_data_pm_1_step_k_step['f_1_step_pred_price'].shift(1))\n",
    "plt.plot(shl_data_pm_1_step_k_step['f_current_step_pred_price'])\n",
    "\n",
    "# bid is actual bid-price from raw dataset\n",
    "shl_data_actual_bid = shl_data_history_ts_process[shl_global_parm_ccyy_mm_offset:shl_global_parm_ccyy_mm_offset+61].copy()\n",
    "shl_data_actual_bid.reset_index(inplace=True)\n",
    "plt.figure(figsize=(12,6))\n",
    "plt.plot(shl_data_actual_bid['bid-price'])\n",
    "# plt.plot(shl_data_pm_1_step_k_step['f_1_step_pred_price'].shift(1))\n",
    "plt.plot(shl_data_pm_1_step_k_step['f_current_step_pred_price'])\n",
    "# plt.plot(shl_data_pm_1_step_k_step['bid'])\n"
   ]
  },
  {
   "cell_type": "markdown",
   "metadata": {},
   "source": [
    "### End of prediction module: shl_pm"
   ]
  },
  {
   "cell_type": "code",
   "execution_count": null,
   "metadata": {
    "collapsed": true
   },
   "outputs": [],
   "source": []
  },
  {
   "cell_type": "code",
   "execution_count": null,
   "metadata": {},
   "outputs": [],
   "source": [
    "# actual price & oredicted price & error\n",
    "pd.concat([shl_data_actual_bid['bid-price'].tail(11), shl_data_pm_1_step_k_step['f_current_step_pred_price'].tail(11), shl_data_pm_1_step_k_step['f_current_step_pred_price'].tail(11) - shl_data_actual_bid['bid-price'].tail(11)], axis=1, join='inner')\n"
   ]
  },
  {
   "cell_type": "code",
   "execution_count": null,
   "metadata": {},
   "outputs": [],
   "source": [
    "shl_data_pm_1_step_k_step.iloc[57]\n",
    "# shl_data_pm_1_step_k_step.iloc[50:61]"
   ]
  },
  {
   "cell_type": "code",
   "execution_count": null,
   "metadata": {
    "collapsed": true
   },
   "outputs": [],
   "source": []
  },
  {
   "cell_type": "markdown",
   "metadata": {},
   "source": [
    "\n",
    "# End of shl_sm"
   ]
  },
  {
   "cell_type": "code",
   "execution_count": null,
   "metadata": {
    "collapsed": true
   },
   "outputs": [],
   "source": []
  },
  {
   "cell_type": "code",
   "execution_count": null,
   "metadata": {
    "collapsed": true
   },
   "outputs": [],
   "source": []
  },
  {
   "cell_type": "code",
   "execution_count": null,
   "metadata": {
    "collapsed": true
   },
   "outputs": [],
   "source": []
  },
  {
   "cell_type": "code",
   "execution_count": null,
   "metadata": {
    "collapsed": true
   },
   "outputs": [],
   "source": []
  },
  {
   "cell_type": "code",
   "execution_count": null,
   "metadata": {
    "collapsed": true
   },
   "outputs": [],
   "source": []
  },
  {
   "cell_type": "code",
   "execution_count": null,
   "metadata": {
    "collapsed": true
   },
   "outputs": [],
   "source": []
  },
  {
   "cell_type": "code",
   "execution_count": null,
   "metadata": {
    "collapsed": true
   },
   "outputs": [],
   "source": []
  },
  {
   "cell_type": "code",
   "execution_count": null,
   "metadata": {
    "collapsed": true
   },
   "outputs": [],
   "source": []
  },
  {
   "cell_type": "code",
   "execution_count": null,
   "metadata": {
    "collapsed": true
   },
   "outputs": [],
   "source": []
  },
  {
   "cell_type": "code",
   "execution_count": null,
   "metadata": {
    "collapsed": true
   },
   "outputs": [],
   "source": []
  },
  {
   "cell_type": "code",
   "execution_count": null,
   "metadata": {
    "collapsed": true
   },
   "outputs": [],
   "source": []
  },
  {
   "cell_type": "code",
   "execution_count": null,
   "metadata": {
    "collapsed": true
   },
   "outputs": [],
   "source": []
  },
  {
   "cell_type": "code",
   "execution_count": null,
   "metadata": {
    "collapsed": true
   },
   "outputs": [],
   "source": []
  },
  {
   "cell_type": "code",
   "execution_count": null,
   "metadata": {
    "collapsed": true
   },
   "outputs": [],
   "source": []
  },
  {
   "cell_type": "markdown",
   "metadata": {},
   "source": [
    "---"
   ]
  },
  {
   "cell_type": "markdown",
   "metadata": {},
   "source": [
    "### The End"
   ]
  }
 ],
 "metadata": {
  "kernelspec": {
   "display_name": "Python 3",
   "language": "python",
   "name": "python3"
  },
  "language_info": {
   "codemirror_mode": {
    "name": "ipython",
    "version": 3
   },
   "file_extension": ".py",
   "mimetype": "text/x-python",
   "name": "python",
   "nbconvert_exporter": "python",
   "pygments_lexer": "ipython3",
   "version": "3.5.1"
  }
 },
 "nbformat": 4,
 "nbformat_minor": 1
}
