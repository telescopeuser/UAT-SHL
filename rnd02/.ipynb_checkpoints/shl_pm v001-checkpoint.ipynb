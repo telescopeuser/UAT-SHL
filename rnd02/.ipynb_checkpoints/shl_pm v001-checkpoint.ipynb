{
 "cells": [
  {
   "cell_type": "markdown",
   "metadata": {},
   "source": [
    "### SHL github project: uat_shl\n",
    "\n",
    "* training module: shl_tm\n",
    "\n",
    "* prediction module: shl_pm\n",
    "\n",
    "* simulation module: shl_sm\n",
    "\n",
    "* misc module: shl_mm\n",
    "\n",
    "\n",
    "### data feeds:\n",
    "\n",
    "* historical bidding price, per second, time series\n",
    "\n",
    "* live bidding price, per second, time series\n",
    "\n",
    "### parameter lookup table: python dictionary\n",
    "\n",
    "* parm_si (seasonality index per second)\n",
    "\n",
    "* parm_month (parameter like alpha, beta, gamma, etc. per month)"
   ]
  },
  {
   "cell_type": "markdown",
   "metadata": {},
   "source": [
    "# [1] Import useful reference packages"
   ]
  },
  {
   "cell_type": "markdown",
   "metadata": {},
   "source": [
    "### Initialization"
   ]
  },
  {
   "cell_type": "code",
   "execution_count": 1,
   "metadata": {
    "collapsed": true
   },
   "outputs": [],
   "source": [
    "# function to fetch Seasonality-Index\n",
    "def shl_intra_fetch_si(ccyy_mm, time, shl_data_parm_si):\n",
    "#     return shl_data_parm_si[(shl_data_parm_si['ccyy-mm'] == '2017-09') & (shl_data_parm_si['time'] == '11:29:00')]\n",
    "    return shl_data_parm_si[(shl_data_parm_si['ccyy-mm'] == ccyy_mm) & (shl_data_parm_si['time'] == time)].iloc[0]['si']\n"
   ]
  },
  {
   "cell_type": "code",
   "execution_count": 2,
   "metadata": {
    "collapsed": true
   },
   "outputs": [],
   "source": [
    "# function to fetch Dynamic-Increment\n",
    "def shl_intra_fetch_di(ccyy_mm, shl_data_parm_month):\n",
    "    return shl_data_parm_month[shl_data_parm_month['ccyy-mm'] == ccyy_mm].iloc[0]['di']\n"
   ]
  },
  {
   "cell_type": "code",
   "execution_count": 3,
   "metadata": {
    "collapsed": true
   },
   "outputs": [],
   "source": [
    "def shl_intra_fetch_previous_n_sec_time_as_str(shl_data_time_field, n):\n",
    "    return str((pd.to_datetime(shl_data_time_field, format='%H:%M:%S') - pd.Timedelta(seconds=n)).time())\n",
    "\n",
    "def shl_intra_fetch_future_n_sec_time_as_str(shl_data_time_field, n):\n",
    "    return str((pd.to_datetime(shl_data_time_field, format='%H:%M:%S') - pd.Timedelta(seconds=-n)).time())\n"
   ]
  },
  {
   "cell_type": "code",
   "execution_count": 51,
   "metadata": {},
   "outputs": [],
   "source": [
    "def shl_initialize(in_ccyy_mm='2017-07'):\n",
    "    print()\n",
    "    print('+-----------------------------------------------+')\n",
    "    print('| shl_initialize()                              |')\n",
    "    print('+-----------------------------------------------+')\n",
    "    print()\n",
    "    import pandas as pd\n",
    "    global shl_data_parm_si\n",
    "    global shl_data_parm_month\n",
    "    shl_data_parm_si = pd.read_csv('data/parm_si.csv') \n",
    "    shl_data_parm_month = pd.read_csv('data/parm_month.csv') \n",
    "\n",
    "    global global_parm_ccyy_mm \n",
    "    global_parm_ccyy_mm = in_ccyy_mm\n",
    "    \n",
    "    # create default global base price\n",
    "    global global_parm_base_price\n",
    "    global_parm_base_price = 10000000\n",
    "\n",
    "    global global_parm_dynamic_increment\n",
    "    global_parm_dynamic_increment = shl_intra_fetch_di(global_parm_ccyy_mm, shl_data_parm_month)\n",
    "\n",
    "    global global_parm_alpha\n",
    "    global_parm_alpha = shl_data_parm_month[shl_data_parm_month['ccyy-mm'] == global_parm_ccyy_mm].iloc[0]['alpha']\n",
    "    global global_parm_beta\n",
    "    global_parm_beta  = shl_data_parm_month[shl_data_parm_month['ccyy-mm'] == global_parm_ccyy_mm].iloc[0]['beta']\n",
    "    global global_parm_gamma\n",
    "    global_parm_gamma = shl_data_parm_month[shl_data_parm_month['ccyy-mm'] == global_parm_ccyy_mm].iloc[0]['gamma']\n",
    "    global global_parm_sec57_weight\n",
    "    global_parm_sec57_weight = shl_data_parm_month[shl_data_parm_month['ccyy-mm'] == global_parm_ccyy_mm].iloc[0]['sec57-weight']\n",
    "    global global_parm_month_weight\n",
    "    global_parm_month_weight = shl_data_parm_month[shl_data_parm_month['ccyy-mm'] == global_parm_ccyy_mm].iloc[0]['month-weight']\n",
    "    global global_parm_short_weight\n",
    "    global_parm_short_weight = shl_data_parm_month[shl_data_parm_month['ccyy-mm'] == global_parm_ccyy_mm].iloc[0]['short-weight']\n",
    "\n",
    "    # create default average error between 46~50 seconds:\n",
    "    global global_parm_short_weight_misc\n",
    "    global_parm_short_weight_misc = 0\n",
    "\n",
    "    print('global_parm_ccyy_mm           : %s' % global_parm_ccyy_mm)\n",
    "    print('-------------------------------------------------')\n",
    "    print('global_parm_alpha             : %0.15f' % global_parm_alpha) # used in forecasting\n",
    "    print('global_parm_beta              : %0.15f' % global_parm_beta)  # used in forecasting\n",
    "    print('global_parm_gamma             : %0.15f' % global_parm_gamma) # used in forecasting\n",
    "    print('global_parm_sec57_weight      : %f' % global_parm_sec57_weight) # used in training a model\n",
    "    print('global_parm_month_weight      : %f' % global_parm_month_weight) # used in training a model\n",
    "    print('global_parm_short_weight      : %f' % global_parm_short_weight) # used in training a model\n",
    "    print('global_parm_dynamic_increment : %d' % global_parm_dynamic_increment)\n",
    "    print('-------------------------------------------------')\n",
    "\n",
    "#     plt.figure(figsize=(6,3)) # plot seasonality index\n",
    "#     plt.plot(shl_data_parm_si[(shl_data_parm_si['ccyy-mm'] == global_parm_ccyy_mm)]['si'])\n",
    "    \n",
    "    global shl_data_shl_pm\n",
    "    shl_data_shl_pm = pd.DataFrame() # initialize dataframe of prediction results\n",
    "    print()\n",
    "    print('prediction results dataframe: shl_data_shl_pm')\n",
    "    print(shl_data_shl_pm)\n",
    "\n",
    "    "
   ]
  },
  {
   "cell_type": "code",
   "execution_count": 62,
   "metadata": {},
   "outputs": [
    {
     "data": {
      "text/plain": [
       "'2017-07'"
      ]
     },
     "execution_count": 62,
     "metadata": {},
     "output_type": "execute_result"
    }
   ],
   "source": [
    "global_parm_ccyy_mm"
   ]
  },
  {
   "cell_type": "code",
   "execution_count": 52,
   "metadata": {
    "scrolled": true
   },
   "outputs": [
    {
     "name": "stdout",
     "output_type": "stream",
     "text": [
      "\n",
      "+-----------------------------------------------+\n",
      "| shl_initialize()                              |\n",
      "+-----------------------------------------------+\n",
      "\n",
      "global_parm_ccyy_mm           : 2017-07\n",
      "-------------------------------------------------\n",
      "global_parm_alpha             : 0.636279780099081\n",
      "global_parm_beta              : 0.237518711616408\n",
      "global_parm_gamma             : 0.223562510966253\n",
      "global_parm_sec57_weight      : 0.500000\n",
      "global_parm_month_weight      : 0.900000\n",
      "global_parm_short_weight      : 0.125000\n",
      "global_parm_dynamic_increment : 300\n",
      "-------------------------------------------------\n",
      "\n",
      "prediction results dataframe: shl_data_shl_pm\n",
      "Empty DataFrame\n",
      "Columns: []\n",
      "Index: []\n"
     ]
    }
   ],
   "source": [
    "shl_initialize()"
   ]
  },
  {
   "cell_type": "code",
   "execution_count": 53,
   "metadata": {},
   "outputs": [
    {
     "data": {
      "text/html": [
       "<div>\n",
       "<style>\n",
       "    .dataframe thead tr:only-child th {\n",
       "        text-align: right;\n",
       "    }\n",
       "\n",
       "    .dataframe thead th {\n",
       "        text-align: left;\n",
       "    }\n",
       "\n",
       "    .dataframe tbody tr th {\n",
       "        vertical-align: top;\n",
       "    }\n",
       "</style>\n",
       "<table border=\"1\" class=\"dataframe\">\n",
       "  <thead>\n",
       "    <tr style=\"text-align: right;\">\n",
       "      <th></th>\n",
       "    </tr>\n",
       "  </thead>\n",
       "  <tbody>\n",
       "  </tbody>\n",
       "</table>\n",
       "</div>"
      ],
      "text/plain": [
       "Empty DataFrame\n",
       "Columns: []\n",
       "Index: []"
      ]
     },
     "execution_count": 53,
     "metadata": {},
     "output_type": "execute_result"
    }
   ],
   "source": [
    "shl_data_shl_pm"
   ]
  },
  {
   "cell_type": "markdown",
   "metadata": {},
   "source": [
    "shl_predict_price(in_current_time, in_current_price, in_k_sec) # return k-seconrds Predicted Prices, in a list format"
   ]
  },
  {
   "cell_type": "markdown",
   "metadata": {
    "collapsed": true
   },
   "source": [
    "shl_predict_set_price(in_current_time, in_current_price, in_k_sec) # return k-second Predicted Price + Dynamic Increment, in a list format"
   ]
  },
  {
   "cell_type": "markdown",
   "metadata": {},
   "source": [
    "call k times of shl_predict_price()\n",
    "\n",
    "\n",
    "shl_data_shl_pm_itr = pd.DataFrame() # initialize prediction dataframe at 11:29:00\n"
   ]
  },
  {
   "cell_type": "code",
   "execution_count": 63,
   "metadata": {},
   "outputs": [],
   "source": [
    "def shl_predict_price(in_current_time, in_current_price, in_k_seconds=1):\n",
    "# 11:29:00~11:29:50\n",
    "\n",
    "    global shl_data_shl_pm\n",
    "    \n",
    "    global global_parm_short_weight_misc\n",
    "    global_parm_short_weight_misc = 0\n",
    "    \n",
    "    global global_parm_base_price\n",
    "\n",
    "\n",
    "    print()\n",
    "    print('+-----------------------------------------------+')\n",
    "    print('| shl_predict_price()                           |')\n",
    "    print('+-----------------------------------------------+')\n",
    "    print()\n",
    "    print('   current_ccyy_mm: %s' % global_parm_ccyy_mm) # str, format: ccyy-mm\n",
    "    print('in_current_time   : %s' % in_current_time) # str, format: hh:mm:ss\n",
    "    print('in_current_price  : %d' % in_current_price) # number, format: integer\n",
    "    print('in_k_seconds      : %d' % in_k_seconds) # number, format: integer\n",
    "    print('-------------------------------------------------')\n",
    "\n",
    "    \n",
    "    # capture & calculate 11:29:00 bid price - 1 as base price\n",
    "    if in_current_time == '11:29:00':\n",
    "        global_parm_base_price = in_current_price -1 \n",
    "        print('*INFO* At time [ %s ] Set global_parm_base_price : %d ' % (in_current_time, global_parm_base_price)) # Debug\n",
    "        \n",
    "#     f_actual_datetime = global_parm_ccyy_mm + ' ' + in_current_time\n",
    "#     print('*INFO* f_actual_datetime   : %s ' %  f_actual_datetime)\n",
    "\n",
    "    # get Seasonality-Index, for current second\n",
    "    f_actual_si = shl_intra_fetch_si(global_parm_ccyy_mm, in_current_time, shl_data_parm_si)\n",
    "    print('*INFO* f_actual_si         : %0.10f ' %  f_actual_si) # Debug\n",
    "    \n",
    "    # get Seasonality-Index, for current second + 1\n",
    "    f_1_step_time = shl_intra_fetch_future_n_sec_time_as_str(in_current_time, 1)\n",
    "    f_1_step_si = shl_intra_fetch_si(global_parm_ccyy_mm, f_1_step_time, shl_data_parm_si)\n",
    "    print('*INFO* f_1_step_si         : %0.10f ' %  f_1_step_si) # Debug\n",
    "    \n",
    "    # calculate price increment: f_actual_price4pm\n",
    "    f_actual_price4pm = in_current_price -  global_parm_base_price\n",
    "    print('*INFO* f_actual_price4pm   : %d ' % f_actual_price4pm) # Debug\n",
    "    \n",
    "    # calculate seasonality adjusted price increment: f_actual_price4pmsi\n",
    "    f_actual_price4pmsi = f_actual_price4pm / f_actual_si\n",
    "    print('*INFO* f_actual_price4pmsi : %0.10f ' % f_actual_price4pmsi) # Debug\n",
    "    \n",
    "\n",
    "    if in_current_time == '11:29:00':\n",
    "#         shl_data_shl_pm_itr = pd.DataFrame() # initialize prediction dataframe at 11:29:00\n",
    "        print('---- call prediction function shl_pm ---- %s' % in_current_time)\n",
    "        f_1_step_pred_les_level = f_actual_price4pmsi # special handling for 11:29:00\n",
    "        f_1_step_pred_les_trend = 0 # special handling for 11:29:00\n",
    "        f_1_step_pred_les = f_1_step_pred_les_level + f_1_step_pred_les_trend\n",
    "        f_1_step_pred_adj_misc = 0\n",
    "        f_1_step_pred_price_inc = (f_1_step_pred_les + f_1_step_pred_adj_misc) * f_1_step_si\n",
    "        f_1_step_pred_price = f_1_step_pred_price_inc + global_parm_base_price\n",
    "        f_1_step_pred_price_rounded = round(f_1_step_pred_price/100, 0) * 100\n",
    "        f_1_step_pred_set_price_rounded = f_1_step_pred_price_rounded + global_parm_dynamic_increment\n",
    "        \n",
    "    else:\n",
    "        print('---- call prediction function shl_pm ---- %s' % in_current_time)\n",
    "#         function to get average forecast error between 46~50 seconds: mean(f_current_step_error)\n",
    "        if in_current_time == '11:29:50':\n",
    "            global_parm_short_weight_misc = (shl_data_shl_pm.iloc[46:50]['f_current_step_error'].sum() \\\n",
    "                                             + f_current_step_error) / 5\n",
    "            print('*INFO* global_parm_short_weight_misc : %f' % global_parm_short_weight_misc)\n",
    "           \n",
    "        \n",
    "#         p_1_step_time = shl_intra_fetch_previous_n_sec_time_as_str(in_current_time, 1)\n",
    "        \n",
    "#         previous_pred_les_level = shl_data_shl_pm[(shl_data_shl_pm['ccyy-mm'] == global_parm_ccyy_mm) \\\n",
    "#                                             & (shl_data_shl_pm['time'] ==p_1_step_time)].iloc[0]['f_1_step_pred_les_level']\n",
    "#         print('     previous_pred_les_level : %f' % previous_pred_les_level)\n",
    "        \n",
    "#         previous_pred_les_trend = shl_data_shl_pm[(shl_data_shl_pm['ccyy-mm'] == global_parm_ccyy_mm) \\\n",
    "#                                             & (shl_data_shl_pm['time'] ==p_1_step_time)].iloc[0]['f_1_step_pred_les_trend']\n",
    "#         print('     previous_pred_les_trend : %f' % previous_pred_les_trend)\n",
    "        \n",
    "#         p_1_step_time = shl_intra_fetch_previous_n_sec_time_as_str(in_current_time, 1)\n",
    "        \n",
    "        previous_pred_les_level = shl_data_shl_pm[(shl_data_shl_pm['ccyy-mm'] == global_parm_ccyy_mm) \\\n",
    "                                            & (shl_data_shl_pm['time'] ==in_current_time)].iloc[0]['f_1_step_pred_les_level']\n",
    "        print('     previous_pred_les_level : %f' % previous_pred_les_level)\n",
    "        \n",
    "        previous_pred_les_trend = shl_data_shl_pm[(shl_data_shl_pm['ccyy-mm'] == global_parm_ccyy_mm) \\\n",
    "                                            & (shl_data_shl_pm['time'] ==in_current_time)].iloc[0]['f_1_step_pred_les_trend']\n",
    "        print('     previous_pred_les_trend : %f' % previous_pred_les_trend)\n",
    "\n",
    "            \n",
    "        f_1_step_pred_les_level = global_parm_alpha * f_actual_price4pmsi \\\n",
    "                                    + (1 - global_parm_alpha) * (previous_pred_les_level + previous_pred_les_trend)\n",
    "        print('     f_1_step_pred_les_level  : %f' % f_1_step_pred_les_level)\n",
    "        f_1_step_pred_les_trend = global_parm_beta * (f_1_step_pred_les_level - previous_pred_les_level) \\\n",
    "                                    + (1 - global_parm_beta) * previous_pred_les_trend\n",
    "        print('     f_1_step_pred_les_trend  : %f' % f_1_step_pred_les_trend)\n",
    "        \n",
    "        f_1_step_pred_les = f_1_step_pred_les_level + f_1_step_pred_les_trend\n",
    "        f_1_step_pred_adj_misc = global_parm_short_weight_misc * global_parm_short_weight * global_parm_gamma\n",
    "        f_1_step_pred_price_inc = (f_1_step_pred_les + f_1_step_pred_adj_misc) * f_1_step_si\n",
    "        f_1_step_pred_price = f_1_step_pred_price_inc + global_parm_base_price\n",
    "        f_1_step_pred_price_rounded = round(f_1_step_pred_price/100, 0) * 100\n",
    "        f_1_step_pred_set_price_rounded = f_1_step_pred_price_rounded + global_parm_dynamic_increment\n",
    "   \n",
    "        \n",
    "    # write results to shl_pm dataframe\n",
    "            \n",
    "    shl_data_shl_pm_itr_dict = {\n",
    "                         'ccyy-mm' : global_parm_ccyy_mm\n",
    "                        ,'time' : f_1_step_time # in_current_time + 1 second\n",
    "                        ,'bid' : in_current_price\n",
    "                        ,'f_actual_si' : f_actual_si\n",
    "                        ,'f_1_step_si' : f_1_step_si\n",
    "                        ,'f_actual_price4pm' : f_actual_price4pm\n",
    "                        ,'f_actual_price4pmsi' :  f_actual_price4pmsi\n",
    "                        ,'f_1_step_pred_les_level' : f_1_step_pred_les_level\n",
    "                        ,'f_1_step_pred_les_trend' : f_1_step_pred_les_trend\n",
    "                        ,'f_1_step_pred_les' : f_1_step_pred_les\n",
    "                        ,'f_1_step_pred_adj_misc' : f_1_step_pred_adj_misc\n",
    "                        ,'f_1_step_pred_price_inc' : f_1_step_pred_price_inc\n",
    "                        ,'f_1_step_pred_price' : f_1_step_pred_price\n",
    "                        ,'f_1_step_pred_price_rounded' : f_1_step_pred_price_rounded\n",
    "                        ,'f_1_step_pred_set_price_rounded' : f_1_step_pred_set_price_rounded\n",
    "                        }\n",
    "#     shl_data_shl_pm_itr =  shl_data_shl_pm_itr.append(shl_data_shl_pm_itr_dict, ignore_index=True)\n",
    "    shl_data_shl_pm     =  shl_data_shl_pm.append(shl_data_shl_pm_itr_dict, ignore_index=True)\n",
    "    return shl_data_shl_pm_itr_dict\n",
    "\n",
    "    "
   ]
  },
  {
   "cell_type": "code",
   "execution_count": 56,
   "metadata": {},
   "outputs": [
    {
     "name": "stdout",
     "output_type": "stream",
     "text": [
      "\n",
      "+-----------------------------------------------+\n",
      "| shl_predict_price()                           |\n",
      "+-----------------------------------------------+\n",
      "\n",
      "   current_ccyy_mm: 2017-07\n",
      "in_current_time   : 11:29:00\n",
      "in_current_price  : 90400\n",
      "in_k_seconds      : 1\n",
      "-------------------------------------------------\n",
      "*INFO* At time [ 11:29:00 ] Set global_parm_base_price : 90399 \n",
      "*INFO* f_actual_si         : 0.0023669570 \n",
      "*INFO* f_1_step_si         : 0.0223882810 \n",
      "*INFO* f_actual_price4pm   : 1 \n",
      "*INFO* f_actual_price4pmsi : 422.4833826724 \n",
      "---- call prediction function shl_pm ---- 11:29:00\n"
     ]
    },
    {
     "data": {
      "text/plain": [
       "{'bid': 90400,\n",
       " 'ccyy-mm': '2017-07',\n",
       " 'f_1_step_pred_adj_misc': 0,\n",
       " 'f_1_step_pred_les': 422.48338267235101,\n",
       " 'f_1_step_pred_les_level': 422.48338267235101,\n",
       " 'f_1_step_pred_les_trend': 0,\n",
       " 'f_1_step_pred_price': 90408.458676689101,\n",
       " 'f_1_step_pred_price_inc': 9.458676689099125,\n",
       " 'f_1_step_pred_price_rounded': 90400.0,\n",
       " 'f_1_step_pred_set_price_rounded': 90700.0,\n",
       " 'f_1_step_si': 0.022388280999999999,\n",
       " 'f_actual_price4pm': 1,\n",
       " 'f_actual_price4pmsi': 422.48338267235101,\n",
       " 'f_actual_si': 0.0023669570000000003,\n",
       " 'time': '11:29:01'}"
      ]
     },
     "execution_count": 56,
     "metadata": {},
     "output_type": "execute_result"
    }
   ],
   "source": [
    "shl_predict_price('11:29:00', 90400, 1)"
   ]
  },
  {
   "cell_type": "code",
   "execution_count": 64,
   "metadata": {},
   "outputs": [
    {
     "data": {
      "text/html": [
       "<div>\n",
       "<style>\n",
       "    .dataframe thead tr:only-child th {\n",
       "        text-align: right;\n",
       "    }\n",
       "\n",
       "    .dataframe thead th {\n",
       "        text-align: left;\n",
       "    }\n",
       "\n",
       "    .dataframe tbody tr th {\n",
       "        vertical-align: top;\n",
       "    }\n",
       "</style>\n",
       "<table border=\"1\" class=\"dataframe\">\n",
       "  <thead>\n",
       "    <tr style=\"text-align: right;\">\n",
       "      <th></th>\n",
       "      <th>bid</th>\n",
       "      <th>ccyy-mm</th>\n",
       "      <th>f_1_step_pred_adj_misc</th>\n",
       "      <th>f_1_step_pred_les</th>\n",
       "      <th>f_1_step_pred_les_level</th>\n",
       "      <th>f_1_step_pred_les_trend</th>\n",
       "      <th>f_1_step_pred_price</th>\n",
       "      <th>f_1_step_pred_price_inc</th>\n",
       "      <th>f_1_step_pred_price_rounded</th>\n",
       "      <th>f_1_step_pred_set_price_rounded</th>\n",
       "      <th>f_1_step_si</th>\n",
       "      <th>f_actual_price4pm</th>\n",
       "      <th>f_actual_price4pmsi</th>\n",
       "      <th>f_actual_si</th>\n",
       "      <th>time</th>\n",
       "    </tr>\n",
       "  </thead>\n",
       "  <tbody>\n",
       "    <tr>\n",
       "      <th>0</th>\n",
       "      <td>90400.0</td>\n",
       "      <td>2017-07</td>\n",
       "      <td>0.0</td>\n",
       "      <td>422.483383</td>\n",
       "      <td>422.483383</td>\n",
       "      <td>0.0</td>\n",
       "      <td>90408.458677</td>\n",
       "      <td>9.458677</td>\n",
       "      <td>90400.0</td>\n",
       "      <td>90700.0</td>\n",
       "      <td>0.022388</td>\n",
       "      <td>1.0</td>\n",
       "      <td>422.483383</td>\n",
       "      <td>0.002367</td>\n",
       "      <td>11:29:01</td>\n",
       "    </tr>\n",
       "  </tbody>\n",
       "</table>\n",
       "</div>"
      ],
      "text/plain": [
       "       bid  ccyy-mm  f_1_step_pred_adj_misc  f_1_step_pred_les  \\\n",
       "0  90400.0  2017-07                     0.0         422.483383   \n",
       "\n",
       "   f_1_step_pred_les_level  f_1_step_pred_les_trend  f_1_step_pred_price  \\\n",
       "0               422.483383                      0.0         90408.458677   \n",
       "\n",
       "   f_1_step_pred_price_inc  f_1_step_pred_price_rounded  \\\n",
       "0                 9.458677                      90400.0   \n",
       "\n",
       "   f_1_step_pred_set_price_rounded  f_1_step_si  f_actual_price4pm  \\\n",
       "0                          90700.0     0.022388                1.0   \n",
       "\n",
       "   f_actual_price4pmsi  f_actual_si      time  \n",
       "0           422.483383     0.002367  11:29:01  "
      ]
     },
     "execution_count": 64,
     "metadata": {},
     "output_type": "execute_result"
    }
   ],
   "source": [
    "shl_data_shl_pm"
   ]
  },
  {
   "cell_type": "code",
   "execution_count": 68,
   "metadata": {},
   "outputs": [
    {
     "name": "stdout",
     "output_type": "stream",
     "text": [
      "\n",
      "+-----------------------------------------------+\n",
      "| shl_predict_price()                           |\n",
      "+-----------------------------------------------+\n",
      "\n",
      "   current_ccyy_mm: 2017-07\n",
      "in_current_time   : 11:29:01\n",
      "in_current_price  : 90400\n",
      "in_k_seconds      : 3\n",
      "-------------------------------------------------\n",
      "*INFO* f_actual_si         : 0.0223882810 \n",
      "*INFO* f_1_step_si         : 0.0309107700 \n",
      "*INFO* f_actual_price4pm   : 1 \n",
      "*INFO* f_actual_price4pmsi : 44.6662251559 \n",
      "---- call prediction function shl_pm ---- 11:29:01\n",
      "     previous_pred_les_level : 422.483383\n",
      "     previous_pred_les_trend : 0.000000\n",
      "     f_1_step_pred_les_level  : 182.085965\n",
      "     f_1_step_pred_les_trend  : -57.098885\n"
     ]
    },
    {
     "data": {
      "text/plain": [
       "{'bid': 90400,\n",
       " 'ccyy-mm': '2017-07',\n",
       " 'f_1_step_pred_adj_misc': 0.0,\n",
       " 'f_1_step_pred_les': 124.98707979409099,\n",
       " 'f_1_step_pred_les_level': 182.08596477013626,\n",
       " 'f_1_step_pred_les_trend': -57.098884976045262,\n",
       " 'f_1_step_pred_price': 90402.863446876494,\n",
       " 'f_1_step_pred_price_inc': 3.863446876486794,\n",
       " 'f_1_step_pred_price_rounded': 90400.0,\n",
       " 'f_1_step_pred_set_price_rounded': 90700.0,\n",
       " 'f_1_step_si': 0.030910770000000001,\n",
       " 'f_actual_price4pm': 1,\n",
       " 'f_actual_price4pmsi': 44.66622515591974,\n",
       " 'f_actual_si': 0.022388280999999999,\n",
       " 'time': '11:29:02'}"
      ]
     },
     "execution_count": 68,
     "metadata": {},
     "output_type": "execute_result"
    }
   ],
   "source": [
    "shl_predict_price('11:29:01', 90400, 3)"
   ]
  },
  {
   "cell_type": "code",
   "execution_count": 69,
   "metadata": {},
   "outputs": [
    {
     "data": {
      "text/html": [
       "<div>\n",
       "<style>\n",
       "    .dataframe thead tr:only-child th {\n",
       "        text-align: right;\n",
       "    }\n",
       "\n",
       "    .dataframe thead th {\n",
       "        text-align: left;\n",
       "    }\n",
       "\n",
       "    .dataframe tbody tr th {\n",
       "        vertical-align: top;\n",
       "    }\n",
       "</style>\n",
       "<table border=\"1\" class=\"dataframe\">\n",
       "  <thead>\n",
       "    <tr style=\"text-align: right;\">\n",
       "      <th></th>\n",
       "      <th>bid</th>\n",
       "      <th>ccyy-mm</th>\n",
       "      <th>f_1_step_pred_adj_misc</th>\n",
       "      <th>f_1_step_pred_les</th>\n",
       "      <th>f_1_step_pred_les_level</th>\n",
       "      <th>f_1_step_pred_les_trend</th>\n",
       "      <th>f_1_step_pred_price</th>\n",
       "      <th>f_1_step_pred_price_inc</th>\n",
       "      <th>f_1_step_pred_price_rounded</th>\n",
       "      <th>f_1_step_pred_set_price_rounded</th>\n",
       "      <th>f_1_step_si</th>\n",
       "      <th>f_actual_price4pm</th>\n",
       "      <th>f_actual_price4pmsi</th>\n",
       "      <th>f_actual_si</th>\n",
       "      <th>time</th>\n",
       "    </tr>\n",
       "  </thead>\n",
       "  <tbody>\n",
       "    <tr>\n",
       "      <th>0</th>\n",
       "      <td>90400.0</td>\n",
       "      <td>2017-07</td>\n",
       "      <td>0.0</td>\n",
       "      <td>422.483383</td>\n",
       "      <td>422.483383</td>\n",
       "      <td>0.000000</td>\n",
       "      <td>90408.458677</td>\n",
       "      <td>9.458677</td>\n",
       "      <td>90400.0</td>\n",
       "      <td>90700.0</td>\n",
       "      <td>0.022388</td>\n",
       "      <td>1.0</td>\n",
       "      <td>422.483383</td>\n",
       "      <td>0.002367</td>\n",
       "      <td>11:29:01</td>\n",
       "    </tr>\n",
       "    <tr>\n",
       "      <th>1</th>\n",
       "      <td>90400.0</td>\n",
       "      <td>2017-07</td>\n",
       "      <td>0.0</td>\n",
       "      <td>124.987080</td>\n",
       "      <td>182.085965</td>\n",
       "      <td>-57.098885</td>\n",
       "      <td>90402.863447</td>\n",
       "      <td>3.863447</td>\n",
       "      <td>90400.0</td>\n",
       "      <td>90700.0</td>\n",
       "      <td>0.030911</td>\n",
       "      <td>1.0</td>\n",
       "      <td>44.666225</td>\n",
       "      <td>0.022388</td>\n",
       "      <td>11:29:02</td>\n",
       "    </tr>\n",
       "    <tr>\n",
       "      <th>2</th>\n",
       "      <td>90400.0</td>\n",
       "      <td>2017-07</td>\n",
       "      <td>0.0</td>\n",
       "      <td>124.987080</td>\n",
       "      <td>182.085965</td>\n",
       "      <td>-57.098885</td>\n",
       "      <td>90402.863447</td>\n",
       "      <td>3.863447</td>\n",
       "      <td>90400.0</td>\n",
       "      <td>90700.0</td>\n",
       "      <td>0.030911</td>\n",
       "      <td>1.0</td>\n",
       "      <td>44.666225</td>\n",
       "      <td>0.022388</td>\n",
       "      <td>11:29:02</td>\n",
       "    </tr>\n",
       "    <tr>\n",
       "      <th>3</th>\n",
       "      <td>90400.0</td>\n",
       "      <td>2017-07</td>\n",
       "      <td>0.0</td>\n",
       "      <td>124.987080</td>\n",
       "      <td>182.085965</td>\n",
       "      <td>-57.098885</td>\n",
       "      <td>90402.863447</td>\n",
       "      <td>3.863447</td>\n",
       "      <td>90400.0</td>\n",
       "      <td>90700.0</td>\n",
       "      <td>0.030911</td>\n",
       "      <td>1.0</td>\n",
       "      <td>44.666225</td>\n",
       "      <td>0.022388</td>\n",
       "      <td>11:29:02</td>\n",
       "    </tr>\n",
       "  </tbody>\n",
       "</table>\n",
       "</div>"
      ],
      "text/plain": [
       "       bid  ccyy-mm  f_1_step_pred_adj_misc  f_1_step_pred_les  \\\n",
       "0  90400.0  2017-07                     0.0         422.483383   \n",
       "1  90400.0  2017-07                     0.0         124.987080   \n",
       "2  90400.0  2017-07                     0.0         124.987080   \n",
       "3  90400.0  2017-07                     0.0         124.987080   \n",
       "\n",
       "   f_1_step_pred_les_level  f_1_step_pred_les_trend  f_1_step_pred_price  \\\n",
       "0               422.483383                 0.000000         90408.458677   \n",
       "1               182.085965               -57.098885         90402.863447   \n",
       "2               182.085965               -57.098885         90402.863447   \n",
       "3               182.085965               -57.098885         90402.863447   \n",
       "\n",
       "   f_1_step_pred_price_inc  f_1_step_pred_price_rounded  \\\n",
       "0                 9.458677                      90400.0   \n",
       "1                 3.863447                      90400.0   \n",
       "2                 3.863447                      90400.0   \n",
       "3                 3.863447                      90400.0   \n",
       "\n",
       "   f_1_step_pred_set_price_rounded  f_1_step_si  f_actual_price4pm  \\\n",
       "0                          90700.0     0.022388                1.0   \n",
       "1                          90700.0     0.030911                1.0   \n",
       "2                          90700.0     0.030911                1.0   \n",
       "3                          90700.0     0.030911                1.0   \n",
       "\n",
       "   f_actual_price4pmsi  f_actual_si      time  \n",
       "0           422.483383     0.002367  11:29:01  \n",
       "1            44.666225     0.022388  11:29:02  \n",
       "2            44.666225     0.022388  11:29:02  \n",
       "3            44.666225     0.022388  11:29:02  "
      ]
     },
     "execution_count": 69,
     "metadata": {},
     "output_type": "execute_result"
    }
   ],
   "source": [
    "shl_data_shl_pm"
   ]
  },
  {
   "cell_type": "code",
   "execution_count": 76,
   "metadata": {
    "scrolled": false
   },
   "outputs": [
    {
     "name": "stdout",
     "output_type": "stream",
     "text": [
      "\n",
      "11:29:00 90400 1\n",
      "\n",
      "+-----------------------------------------------+\n",
      "| shl_predict_price()                           |\n",
      "+-----------------------------------------------+\n",
      "\n",
      "   current_ccyy_mm: 2017-07\n",
      "in_current_time   : 11:29:00\n",
      "in_current_price  : 90400\n",
      "in_k_seconds      : 1\n",
      "-------------------------------------------------\n",
      "*INFO* At time [ 11:29:00 ] Set global_parm_base_price : 90399 \n",
      "*INFO* f_actual_si         : 0.0023669570 \n",
      "*INFO* f_1_step_si         : 0.0223882810 \n",
      "*INFO* f_actual_price4pm   : 1 \n",
      "*INFO* f_actual_price4pmsi : 422.4833826724 \n",
      "---- call prediction function shl_pm ---- 11:29:00\n",
      "\n",
      "11:29:01 90400 1\n",
      "\n",
      "+-----------------------------------------------+\n",
      "| shl_predict_price()                           |\n",
      "+-----------------------------------------------+\n",
      "\n",
      "   current_ccyy_mm: 2017-07\n",
      "in_current_time   : 11:29:01\n",
      "in_current_price  : 90400\n",
      "in_k_seconds      : 1\n",
      "-------------------------------------------------\n",
      "*INFO* f_actual_si         : 0.0223882810 \n",
      "*INFO* f_1_step_si         : 0.0309107700 \n",
      "*INFO* f_actual_price4pm   : 1 \n",
      "*INFO* f_actual_price4pmsi : 44.6662251559 \n",
      "---- call prediction function shl_pm ---- 11:29:01\n",
      "     previous_pred_les_level : 422.483383\n",
      "     previous_pred_les_trend : 0.000000\n",
      "     f_1_step_pred_les_level  : 182.085965\n",
      "     f_1_step_pred_les_trend  : -57.098885\n",
      "\n",
      "11:29:02 90400 1\n",
      "\n",
      "+-----------------------------------------------+\n",
      "| shl_predict_price()                           |\n",
      "+-----------------------------------------------+\n",
      "\n",
      "   current_ccyy_mm: 2017-07\n",
      "in_current_time   : 11:29:02\n",
      "in_current_price  : 90400\n",
      "in_k_seconds      : 1\n",
      "-------------------------------------------------\n",
      "*INFO* f_actual_si         : 0.0309107700 \n",
      "*INFO* f_1_step_si         : 0.0377696020 \n",
      "*INFO* f_actual_price4pm   : 1 \n",
      "*INFO* f_actual_price4pmsi : 32.3511837460 \n",
      "---- call prediction function shl_pm ---- 11:29:02\n",
      "     previous_pred_les_level : 182.085965\n",
      "     previous_pred_les_trend : -57.098885\n",
      "     f_1_step_pred_les_level  : 66.044732\n",
      "     f_1_step_pred_les_trend  : -71.098795\n",
      "\n",
      "11:29:03 90400 1\n",
      "\n",
      "+-----------------------------------------------+\n",
      "| shl_predict_price()                           |\n",
      "+-----------------------------------------------+\n",
      "\n",
      "   current_ccyy_mm: 2017-07\n",
      "in_current_time   : 11:29:03\n",
      "in_current_price  : 90400\n",
      "in_k_seconds      : 1\n",
      "-------------------------------------------------\n",
      "*INFO* f_actual_si         : 0.0377696020 \n",
      "*INFO* f_1_step_si         : 0.0457052300 \n",
      "*INFO* f_actual_price4pm   : 1 \n",
      "*INFO* f_actual_price4pmsi : 26.4763181778 \n",
      "---- call prediction function shl_pm ---- 11:29:03\n",
      "     previous_pred_les_level : 66.044732\n",
      "     previous_pred_les_trend : -71.098795\n",
      "     f_1_step_pred_les_level  : 15.008081\n",
      "     f_1_step_pred_les_trend  : -66.333661\n",
      "\n",
      "11:29:04 90400 1\n",
      "\n",
      "+-----------------------------------------------+\n",
      "| shl_predict_price()                           |\n",
      "+-----------------------------------------------+\n",
      "\n",
      "   current_ccyy_mm: 2017-07\n",
      "in_current_time   : 11:29:04\n",
      "in_current_price  : 90400\n",
      "in_k_seconds      : 1\n",
      "-------------------------------------------------\n",
      "*INFO* f_actual_si         : 0.0457052300 \n",
      "*INFO* f_1_step_si         : 0.0452799070 \n",
      "*INFO* f_actual_price4pm   : 1 \n",
      "*INFO* f_actual_price4pmsi : 21.8793341594 \n",
      "---- call prediction function shl_pm ---- 11:29:04\n",
      "     previous_pred_les_level : 15.008081\n",
      "     previous_pred_les_trend : -66.333661\n",
      "     f_1_step_pred_les_level  : -4.746773\n",
      "     f_1_step_pred_les_trend  : -55.270323\n",
      "\n",
      "11:29:05 90400 1\n",
      "\n",
      "+-----------------------------------------------+\n",
      "| shl_predict_price()                           |\n",
      "+-----------------------------------------------+\n",
      "\n",
      "   current_ccyy_mm: 2017-07\n",
      "in_current_time   : 11:29:05\n",
      "in_current_price  : 90400\n",
      "in_k_seconds      : 1\n",
      "-------------------------------------------------\n",
      "*INFO* f_actual_si         : 0.0452799070 \n",
      "*INFO* f_1_step_si         : 0.0807556680 \n",
      "*INFO* f_actual_price4pm   : 1 \n",
      "*INFO* f_actual_price4pmsi : 22.0848510135 \n",
      "---- call prediction function shl_pm ---- 11:29:05\n",
      "     previous_pred_les_level : -4.746773\n",
      "     previous_pred_les_trend : -55.270323\n",
      "     f_1_step_pred_les_level  : -7.777287\n",
      "     f_1_step_pred_les_trend  : -42.862391\n",
      "\n",
      "11:29:06 90400 1\n",
      "\n",
      "+-----------------------------------------------+\n",
      "| shl_predict_price()                           |\n",
      "+-----------------------------------------------+\n",
      "\n",
      "   current_ccyy_mm: 2017-07\n",
      "in_current_time   : 11:29:06\n",
      "in_current_price  : 90400\n",
      "in_k_seconds      : 1\n",
      "-------------------------------------------------\n",
      "*INFO* f_actual_si         : 0.0807556680 \n",
      "*INFO* f_1_step_si         : 0.0985017130 \n",
      "*INFO* f_actual_price4pm   : 1 \n",
      "*INFO* f_actual_price4pmsi : 12.3830317396 \n",
      "---- call prediction function shl_pm ---- 11:29:06\n",
      "     previous_pred_les_level : -7.777287\n",
      "     previous_pred_les_trend : -42.862391\n",
      "     f_1_step_pred_les_level  : -10.539602\n",
      "     f_1_step_pred_les_trend  : -33.337872\n",
      "\n",
      "11:29:07 90400 1\n",
      "\n",
      "+-----------------------------------------------+\n",
      "| shl_predict_price()                           |\n",
      "+-----------------------------------------------+\n",
      "\n",
      "   current_ccyy_mm: 2017-07\n",
      "in_current_time   : 11:29:07\n",
      "in_current_price  : 90400\n",
      "in_k_seconds      : 1\n",
      "-------------------------------------------------\n",
      "*INFO* f_actual_si         : 0.0985017130 \n",
      "*INFO* f_1_step_si         : 0.1361543100 \n",
      "*INFO* f_actual_price4pm   : 1 \n",
      "*INFO* f_actual_price4pmsi : 10.1521077100 \n",
      "---- call prediction function shl_pm ---- 11:29:07\n",
      "     previous_pred_les_level : -10.539602\n",
      "     previous_pred_les_trend : -33.337872\n",
      "     f_1_step_pred_les_level  : -9.499544\n",
      "     f_1_step_pred_les_trend  : -25.172470\n",
      "\n",
      "11:29:08 90400 1\n",
      "\n",
      "+-----------------------------------------------+\n",
      "| shl_predict_price()                           |\n",
      "+-----------------------------------------------+\n",
      "\n",
      "   current_ccyy_mm: 2017-07\n",
      "in_current_time   : 11:29:08\n",
      "in_current_price  : 90400\n",
      "in_k_seconds      : 1\n",
      "-------------------------------------------------\n",
      "*INFO* f_actual_si         : 0.1361543100 \n",
      "*INFO* f_1_step_si         : 0.2041642360 \n",
      "*INFO* f_actual_price4pm   : 1 \n",
      "*INFO* f_actual_price4pmsi : 7.3446077469 \n",
      "---- call prediction function shl_pm ---- 11:29:08\n",
      "     previous_pred_les_level : -9.499544\n",
      "     previous_pred_les_trend : -25.172470\n",
      "     f_1_step_pred_les_level  : -7.937687\n",
      "     f_1_step_pred_les_trend  : -18.822568\n",
      "\n",
      "11:29:09 90400 1\n",
      "\n",
      "+-----------------------------------------------+\n",
      "| shl_predict_price()                           |\n",
      "+-----------------------------------------------+\n",
      "\n",
      "   current_ccyy_mm: 2017-07\n",
      "in_current_time   : 11:29:09\n",
      "in_current_price  : 90400\n",
      "in_k_seconds      : 1\n",
      "-------------------------------------------------\n",
      "*INFO* f_actual_si         : 0.2041642360 \n",
      "*INFO* f_1_step_si         : 0.2310771670 \n",
      "*INFO* f_actual_price4pm   : 1 \n",
      "*INFO* f_actual_price4pmsi : 4.8980174961 \n",
      "---- call prediction function shl_pm ---- 11:29:09\n",
      "     previous_pred_les_level : -7.937687\n",
      "     previous_pred_les_trend : -18.822568\n",
      "     f_1_step_pred_les_level  : -6.616736\n",
      "     f_1_step_pred_les_trend  : -14.038105\n"
     ]
    }
   ],
   "source": [
    "shl_data_shl_pm = pd.DataFrame()\n",
    "for i in range(0,10):\n",
    "    print('\\n11:29:0'+str(i), 90400, 1)\n",
    "    shl_predict_price('11:29:0'+str(i), 90400, 1)"
   ]
  },
  {
   "cell_type": "code",
   "execution_count": null,
   "metadata": {
    "collapsed": true
   },
   "outputs": [],
   "source": []
  },
  {
   "cell_type": "code",
   "execution_count": 77,
   "metadata": {
    "collapsed": true
   },
   "outputs": [],
   "source": [
    "# shl_data_shl_pm = pd.DataFrame()"
   ]
  },
  {
   "cell_type": "code",
   "execution_count": 78,
   "metadata": {},
   "outputs": [
    {
     "data": {
      "text/html": [
       "<div>\n",
       "<style>\n",
       "    .dataframe thead tr:only-child th {\n",
       "        text-align: right;\n",
       "    }\n",
       "\n",
       "    .dataframe thead th {\n",
       "        text-align: left;\n",
       "    }\n",
       "\n",
       "    .dataframe tbody tr th {\n",
       "        vertical-align: top;\n",
       "    }\n",
       "</style>\n",
       "<table border=\"1\" class=\"dataframe\">\n",
       "  <thead>\n",
       "    <tr style=\"text-align: right;\">\n",
       "      <th></th>\n",
       "      <th>bid</th>\n",
       "      <th>ccyy-mm</th>\n",
       "      <th>f_1_step_pred_adj_misc</th>\n",
       "      <th>f_1_step_pred_les</th>\n",
       "      <th>f_1_step_pred_les_level</th>\n",
       "      <th>f_1_step_pred_les_trend</th>\n",
       "      <th>f_1_step_pred_price</th>\n",
       "      <th>f_1_step_pred_price_inc</th>\n",
       "      <th>f_1_step_pred_price_rounded</th>\n",
       "      <th>f_1_step_pred_set_price_rounded</th>\n",
       "      <th>f_1_step_si</th>\n",
       "      <th>f_actual_price4pm</th>\n",
       "      <th>f_actual_price4pmsi</th>\n",
       "      <th>f_actual_si</th>\n",
       "      <th>time</th>\n",
       "    </tr>\n",
       "  </thead>\n",
       "  <tbody>\n",
       "    <tr>\n",
       "      <th>0</th>\n",
       "      <td>90400.0</td>\n",
       "      <td>2017-07</td>\n",
       "      <td>0.0</td>\n",
       "      <td>422.483383</td>\n",
       "      <td>422.483383</td>\n",
       "      <td>0.000000</td>\n",
       "      <td>90408.458677</td>\n",
       "      <td>9.458677</td>\n",
       "      <td>90400.0</td>\n",
       "      <td>90700.0</td>\n",
       "      <td>0.022388</td>\n",
       "      <td>1.0</td>\n",
       "      <td>422.483383</td>\n",
       "      <td>0.002367</td>\n",
       "      <td>11:29:01</td>\n",
       "    </tr>\n",
       "    <tr>\n",
       "      <th>1</th>\n",
       "      <td>90400.0</td>\n",
       "      <td>2017-07</td>\n",
       "      <td>0.0</td>\n",
       "      <td>124.987080</td>\n",
       "      <td>182.085965</td>\n",
       "      <td>-57.098885</td>\n",
       "      <td>90402.863447</td>\n",
       "      <td>3.863447</td>\n",
       "      <td>90400.0</td>\n",
       "      <td>90700.0</td>\n",
       "      <td>0.030911</td>\n",
       "      <td>1.0</td>\n",
       "      <td>44.666225</td>\n",
       "      <td>0.022388</td>\n",
       "      <td>11:29:02</td>\n",
       "    </tr>\n",
       "    <tr>\n",
       "      <th>2</th>\n",
       "      <td>90400.0</td>\n",
       "      <td>2017-07</td>\n",
       "      <td>0.0</td>\n",
       "      <td>-5.054063</td>\n",
       "      <td>66.044732</td>\n",
       "      <td>-71.098795</td>\n",
       "      <td>90398.809110</td>\n",
       "      <td>-0.190890</td>\n",
       "      <td>90400.0</td>\n",
       "      <td>90700.0</td>\n",
       "      <td>0.037770</td>\n",
       "      <td>1.0</td>\n",
       "      <td>32.351184</td>\n",
       "      <td>0.030911</td>\n",
       "      <td>11:29:03</td>\n",
       "    </tr>\n",
       "    <tr>\n",
       "      <th>3</th>\n",
       "      <td>90400.0</td>\n",
       "      <td>2017-07</td>\n",
       "      <td>0.0</td>\n",
       "      <td>-51.325580</td>\n",
       "      <td>15.008081</td>\n",
       "      <td>-66.333661</td>\n",
       "      <td>90396.654153</td>\n",
       "      <td>-2.345847</td>\n",
       "      <td>90400.0</td>\n",
       "      <td>90700.0</td>\n",
       "      <td>0.045705</td>\n",
       "      <td>1.0</td>\n",
       "      <td>26.476318</td>\n",
       "      <td>0.037770</td>\n",
       "      <td>11:29:04</td>\n",
       "    </tr>\n",
       "    <tr>\n",
       "      <th>4</th>\n",
       "      <td>90400.0</td>\n",
       "      <td>2017-07</td>\n",
       "      <td>0.0</td>\n",
       "      <td>-60.017096</td>\n",
       "      <td>-4.746773</td>\n",
       "      <td>-55.270323</td>\n",
       "      <td>90396.282431</td>\n",
       "      <td>-2.717569</td>\n",
       "      <td>90400.0</td>\n",
       "      <td>90700.0</td>\n",
       "      <td>0.045280</td>\n",
       "      <td>1.0</td>\n",
       "      <td>21.879334</td>\n",
       "      <td>0.045705</td>\n",
       "      <td>11:29:05</td>\n",
       "    </tr>\n",
       "    <tr>\n",
       "      <th>5</th>\n",
       "      <td>90400.0</td>\n",
       "      <td>2017-07</td>\n",
       "      <td>0.0</td>\n",
       "      <td>-50.639678</td>\n",
       "      <td>-7.777287</td>\n",
       "      <td>-42.862391</td>\n",
       "      <td>90394.910559</td>\n",
       "      <td>-4.089441</td>\n",
       "      <td>90400.0</td>\n",
       "      <td>90700.0</td>\n",
       "      <td>0.080756</td>\n",
       "      <td>1.0</td>\n",
       "      <td>22.084851</td>\n",
       "      <td>0.045280</td>\n",
       "      <td>11:29:06</td>\n",
       "    </tr>\n",
       "    <tr>\n",
       "      <th>6</th>\n",
       "      <td>90400.0</td>\n",
       "      <td>2017-07</td>\n",
       "      <td>0.0</td>\n",
       "      <td>-43.877474</td>\n",
       "      <td>-10.539602</td>\n",
       "      <td>-33.337872</td>\n",
       "      <td>90394.677994</td>\n",
       "      <td>-4.322006</td>\n",
       "      <td>90400.0</td>\n",
       "      <td>90700.0</td>\n",
       "      <td>0.098502</td>\n",
       "      <td>1.0</td>\n",
       "      <td>12.383032</td>\n",
       "      <td>0.080756</td>\n",
       "      <td>11:29:07</td>\n",
       "    </tr>\n",
       "    <tr>\n",
       "      <th>7</th>\n",
       "      <td>90400.0</td>\n",
       "      <td>2017-07</td>\n",
       "      <td>0.0</td>\n",
       "      <td>-34.672014</td>\n",
       "      <td>-9.499544</td>\n",
       "      <td>-25.172470</td>\n",
       "      <td>90394.279256</td>\n",
       "      <td>-4.720744</td>\n",
       "      <td>90400.0</td>\n",
       "      <td>90700.0</td>\n",
       "      <td>0.136154</td>\n",
       "      <td>1.0</td>\n",
       "      <td>10.152108</td>\n",
       "      <td>0.098502</td>\n",
       "      <td>11:29:08</td>\n",
       "    </tr>\n",
       "    <tr>\n",
       "      <th>8</th>\n",
       "      <td>90400.0</td>\n",
       "      <td>2017-07</td>\n",
       "      <td>0.0</td>\n",
       "      <td>-26.760255</td>\n",
       "      <td>-7.937687</td>\n",
       "      <td>-18.822568</td>\n",
       "      <td>90393.536513</td>\n",
       "      <td>-5.463487</td>\n",
       "      <td>90400.0</td>\n",
       "      <td>90700.0</td>\n",
       "      <td>0.204164</td>\n",
       "      <td>1.0</td>\n",
       "      <td>7.344608</td>\n",
       "      <td>0.136154</td>\n",
       "      <td>11:29:09</td>\n",
       "    </tr>\n",
       "    <tr>\n",
       "      <th>9</th>\n",
       "      <td>90400.0</td>\n",
       "      <td>2017-07</td>\n",
       "      <td>0.0</td>\n",
       "      <td>-20.654841</td>\n",
       "      <td>-6.616736</td>\n",
       "      <td>-14.038105</td>\n",
       "      <td>90394.227138</td>\n",
       "      <td>-4.772862</td>\n",
       "      <td>90400.0</td>\n",
       "      <td>90700.0</td>\n",
       "      <td>0.231077</td>\n",
       "      <td>1.0</td>\n",
       "      <td>4.898017</td>\n",
       "      <td>0.204164</td>\n",
       "      <td>11:29:10</td>\n",
       "    </tr>\n",
       "  </tbody>\n",
       "</table>\n",
       "</div>"
      ],
      "text/plain": [
       "       bid  ccyy-mm  f_1_step_pred_adj_misc  f_1_step_pred_les  \\\n",
       "0  90400.0  2017-07                     0.0         422.483383   \n",
       "1  90400.0  2017-07                     0.0         124.987080   \n",
       "2  90400.0  2017-07                     0.0          -5.054063   \n",
       "3  90400.0  2017-07                     0.0         -51.325580   \n",
       "4  90400.0  2017-07                     0.0         -60.017096   \n",
       "5  90400.0  2017-07                     0.0         -50.639678   \n",
       "6  90400.0  2017-07                     0.0         -43.877474   \n",
       "7  90400.0  2017-07                     0.0         -34.672014   \n",
       "8  90400.0  2017-07                     0.0         -26.760255   \n",
       "9  90400.0  2017-07                     0.0         -20.654841   \n",
       "\n",
       "   f_1_step_pred_les_level  f_1_step_pred_les_trend  f_1_step_pred_price  \\\n",
       "0               422.483383                 0.000000         90408.458677   \n",
       "1               182.085965               -57.098885         90402.863447   \n",
       "2                66.044732               -71.098795         90398.809110   \n",
       "3                15.008081               -66.333661         90396.654153   \n",
       "4                -4.746773               -55.270323         90396.282431   \n",
       "5                -7.777287               -42.862391         90394.910559   \n",
       "6               -10.539602               -33.337872         90394.677994   \n",
       "7                -9.499544               -25.172470         90394.279256   \n",
       "8                -7.937687               -18.822568         90393.536513   \n",
       "9                -6.616736               -14.038105         90394.227138   \n",
       "\n",
       "   f_1_step_pred_price_inc  f_1_step_pred_price_rounded  \\\n",
       "0                 9.458677                      90400.0   \n",
       "1                 3.863447                      90400.0   \n",
       "2                -0.190890                      90400.0   \n",
       "3                -2.345847                      90400.0   \n",
       "4                -2.717569                      90400.0   \n",
       "5                -4.089441                      90400.0   \n",
       "6                -4.322006                      90400.0   \n",
       "7                -4.720744                      90400.0   \n",
       "8                -5.463487                      90400.0   \n",
       "9                -4.772862                      90400.0   \n",
       "\n",
       "   f_1_step_pred_set_price_rounded  f_1_step_si  f_actual_price4pm  \\\n",
       "0                          90700.0     0.022388                1.0   \n",
       "1                          90700.0     0.030911                1.0   \n",
       "2                          90700.0     0.037770                1.0   \n",
       "3                          90700.0     0.045705                1.0   \n",
       "4                          90700.0     0.045280                1.0   \n",
       "5                          90700.0     0.080756                1.0   \n",
       "6                          90700.0     0.098502                1.0   \n",
       "7                          90700.0     0.136154                1.0   \n",
       "8                          90700.0     0.204164                1.0   \n",
       "9                          90700.0     0.231077                1.0   \n",
       "\n",
       "   f_actual_price4pmsi  f_actual_si      time  \n",
       "0           422.483383     0.002367  11:29:01  \n",
       "1            44.666225     0.022388  11:29:02  \n",
       "2            32.351184     0.030911  11:29:03  \n",
       "3            26.476318     0.037770  11:29:04  \n",
       "4            21.879334     0.045705  11:29:05  \n",
       "5            22.084851     0.045280  11:29:06  \n",
       "6            12.383032     0.080756  11:29:07  \n",
       "7            10.152108     0.098502  11:29:08  \n",
       "8             7.344608     0.136154  11:29:09  \n",
       "9             4.898017     0.204164  11:29:10  "
      ]
     },
     "execution_count": 78,
     "metadata": {},
     "output_type": "execute_result"
    }
   ],
   "source": [
    "shl_data_shl_pm"
   ]
  },
  {
   "cell_type": "code",
   "execution_count": null,
   "metadata": {
    "collapsed": true
   },
   "outputs": [],
   "source": []
  },
  {
   "cell_type": "code",
   "execution_count": null,
   "metadata": {
    "collapsed": true
   },
   "outputs": [],
   "source": []
  },
  {
   "cell_type": "code",
   "execution_count": null,
   "metadata": {
    "collapsed": true
   },
   "outputs": [],
   "source": []
  },
  {
   "cell_type": "code",
   "execution_count": null,
   "metadata": {
    "collapsed": true
   },
   "outputs": [],
   "source": [
    "%matplotlib inline\n",
    "import matplotlib.pyplot as plt"
   ]
  },
  {
   "cell_type": "code",
   "execution_count": 19,
   "metadata": {
    "collapsed": true
   },
   "outputs": [],
   "source": [
    "import pandas as pd"
   ]
  },
  {
   "cell_type": "markdown",
   "metadata": {},
   "source": [
    "### Read raw data"
   ]
  },
  {
   "cell_type": "code",
   "execution_count": null,
   "metadata": {},
   "outputs": [],
   "source": [
    "shl_data_history_ts_process = pd.read_csv('data/history_ts.csv') \n",
    "shl_data_history_ts_process.tail()"
   ]
  },
  {
   "cell_type": "code",
   "execution_count": null,
   "metadata": {
    "scrolled": true
   },
   "outputs": [],
   "source": [
    "shl_data_history_table_process = pd.read_csv('data/history_table.csv') \n",
    "shl_data_history_table_process.tail()"
   ]
  },
  {
   "cell_type": "code",
   "execution_count": null,
   "metadata": {
    "scrolled": true
   },
   "outputs": [],
   "source": [
    "shl_data_parm_si = pd.read_csv('data/parm_si.csv') \n",
    "# print(shl_data_parm_si[(shl_data_parm_si['ccyy-mm'] == '2017-07') & (shl_data_parm_si['time'] == '11:29:00')].iloc[0]['si'])\n",
    "shl_data_parm_si.tail()"
   ]
  },
  {
   "cell_type": "code",
   "execution_count": null,
   "metadata": {
    "scrolled": false
   },
   "outputs": [],
   "source": [
    "shl_data_parm_month = pd.read_csv('data/parm_month.csv') \n",
    "# print(shl_data_parm_month[(shl_data_parm_month['ccyy-mm'] == '2017-07') & (shl_data_parm_month['time'] == '11:29:00')].iloc[0]['di'])\n",
    "shl_data_parm_month.tail()"
   ]
  },
  {
   "cell_type": "markdown",
   "metadata": {},
   "source": [
    "### Initialization"
   ]
  },
  {
   "cell_type": "code",
   "execution_count": null,
   "metadata": {
    "collapsed": true
   },
   "outputs": [],
   "source": [
    "# function to fetch Seasonality-Index\n",
    "def shl_intra_fetch_si(ccyy_mm, time, shl_data_parm_si):\n",
    "#     return shl_data_parm_si[(shl_data_parm_si['ccyy-mm'] == '2017-09') & (shl_data_parm_si['time'] == '11:29:00')]\n",
    "    return shl_data_parm_si[(shl_data_parm_si['ccyy-mm'] == ccyy_mm) & (shl_data_parm_si['time'] == time)].iloc[0]['si']\n"
   ]
  },
  {
   "cell_type": "code",
   "execution_count": null,
   "metadata": {
    "collapsed": true
   },
   "outputs": [],
   "source": [
    "# function to fetch Dynamic-Increment\n",
    "def shl_intra_fetch_di(ccyy_mm, shl_data_parm_month):\n",
    "#     print(shl_data_parm_month[shl_data_parm_month['ccyy-mm'] == '2017-07'].iloc[0]['di'])\n",
    "    return shl_data_parm_month[shl_data_parm_month['ccyy-mm'] == ccyy_mm].iloc[0]['di']\n"
   ]
  },
  {
   "cell_type": "code",
   "execution_count": null,
   "metadata": {
    "collapsed": true
   },
   "outputs": [],
   "source": [
    "def shl_intra_fetch_previous_n_sec_time_as_str(shl_data_time_field, n):\n",
    "    return str((pd.to_datetime(shl_data_time_field, format='%H:%M:%S') - pd.Timedelta(seconds=n)).time())\n",
    "# print(shl_intra_fetch_previous_n_sec_time_as_str('11:29:57',3))\n",
    "\n",
    "def shl_intra_fetch_future_n_sec_time_as_str(shl_data_time_field, n):\n",
    "    return str((pd.to_datetime(shl_data_time_field, format='%H:%M:%S') - pd.Timedelta(seconds=-n)).time())\n",
    "# print(shl_intra_fetch_future_n_sec_time_as_str('11:29:57',3))"
   ]
  },
  {
   "cell_type": "markdown",
   "metadata": {},
   "source": [
    "### shl_sm Simulation Module Parm:"
   ]
  },
  {
   "cell_type": "code",
   "execution_count": null,
   "metadata": {
    "collapsed": true
   },
   "outputs": [],
   "source": [
    "# which month to predict?\n",
    "global_parm_ccyy_mm = '2017-04'\n",
    "global_parm_ccyy_mm_offset = 1647\n",
    "\n",
    "# global_parm_ccyy_mm = '2017-05'\n",
    "# global_parm_ccyy_mm_offset = 1708\n",
    "\n",
    "# global_parm_ccyy_mm = '2017-06'\n",
    "# global_parm_ccyy_mm_offset = 1769\n",
    "\n",
    "# global_parm_ccyy_mm = '2017-07'\n",
    "# global_parm_ccyy_mm_offset = 1830\n",
    "\n"
   ]
  },
  {
   "cell_type": "markdown",
   "metadata": {},
   "source": [
    "### shl_pm Prediction Module Parm:"
   ]
  },
  {
   "cell_type": "code",
   "execution_count": null,
   "metadata": {
    "scrolled": false
   },
   "outputs": [],
   "source": [
    "# create default global base price\n",
    "global_parm_base_price = 10000000\n",
    "\n",
    "global_parm_dynamic_increment = shl_intra_fetch_di(global_parm_ccyy_mm, shl_data_parm_month)\n",
    "\n",
    "global_parm_alpha = shl_data_parm_month[shl_data_parm_month['ccyy-mm'] == global_parm_ccyy_mm].iloc[0]['alpha']\n",
    "global_parm_beta  = shl_data_parm_month[shl_data_parm_month['ccyy-mm'] == global_parm_ccyy_mm].iloc[0]['beta']\n",
    "global_parm_gamma = shl_data_parm_month[shl_data_parm_month['ccyy-mm'] == global_parm_ccyy_mm].iloc[0]['gamma']\n",
    "global_parm_sec57_weight = shl_data_parm_month[shl_data_parm_month['ccyy-mm'] == global_parm_ccyy_mm].iloc[0]['sec57-weight']\n",
    "global_parm_month_weight = shl_data_parm_month[shl_data_parm_month['ccyy-mm'] == global_parm_ccyy_mm].iloc[0]['month-weight']\n",
    "global_parm_short_weight = shl_data_parm_month[shl_data_parm_month['ccyy-mm'] == global_parm_ccyy_mm].iloc[0]['short-weight']\n",
    "\n",
    "# create default average error between 46~50 seconds:\n",
    "global_parm_short_weight_misc = 0\n",
    "\n",
    "print('=================================================')\n",
    "print('  Global Parameters for Month : %s' % global_parm_ccyy_mm)\n",
    "print('-------------------------------------------------')\n",
    "\n",
    "print('global_parm_dynamic_increment : %d' % global_parm_dynamic_increment)\n",
    "\n",
    "print('global_parm_alpha             : %0.15f' % global_parm_alpha) # used in forecasting\n",
    "print('global_parm_beta              : %0.15f' % global_parm_beta)  # used in forecasting\n",
    "print('global_parm_gamma             : %0.15f' % global_parm_gamma) # used in forecasting\n",
    "print('global_parm_sec57_weight      : %f' % global_parm_sec57_weight) # used in training a model\n",
    "print('global_parm_month_weight      : %f' % global_parm_month_weight) # used in training a model\n",
    "print('global_parm_short_weight      : %f' % global_parm_short_weight) # used in training a model\n",
    "print('=================================================')\n",
    "\n",
    "# plot seasonality index\n",
    "plt.figure(figsize=(6,3))\n",
    "plt.plot(shl_data_parm_si[(shl_data_parm_si['ccyy-mm'] == global_parm_ccyy_mm)]['si'])\n"
   ]
  },
  {
   "cell_type": "code",
   "execution_count": null,
   "metadata": {
    "collapsed": true
   },
   "outputs": [],
   "source": []
  },
  {
   "cell_type": "markdown",
   "metadata": {},
   "source": [
    "# Start of shl_sm"
   ]
  },
  {
   "cell_type": "code",
   "execution_count": null,
   "metadata": {
    "scrolled": true
   },
   "outputs": [],
   "source": [
    "# 11:29:00~11:29:50\n",
    "\n",
    "global_parm_short_weight_misc = 0\n",
    "\n",
    "# for i in range(1830, 1830+51): # use July 2015 data as simulatino\n",
    "for i in range(global_parm_ccyy_mm_offset, global_parm_ccyy_mm_offset+51): # use July 2015 data as simulatino\n",
    "    print('\\n<<<< Record No.: %5d >>>>' % i)\n",
    "    print(shl_data_history_ts_process['ccyy-mm'][i]) # format: ccyy-mm\n",
    "    print(shl_data_history_ts_process['time'][i]) # format: hh:mm:ss\n",
    "    print(shl_data_history_ts_process['bid-price'][i]) # format: integer\n",
    "#     print(shl_data_history_ts_process['ref-price'][i])\n",
    "    \n",
    "    # capture & calculate 11:29:00 bid price - 1 = base price\n",
    "    if shl_data_history_ts_process['time'][i] == '11:29:00':\n",
    "        global_parm_base_price = shl_data_history_ts_process['bid-price'][i] -1 \n",
    "        print('*INFO* global_parm_base_price : %d ' % global_parm_base_price)\n",
    "\n",
    "        \n",
    "    print('---- Pre-Process ---')\n",
    "    # pre-process: ccyy-mm-hh:mm:ss\n",
    "    f_actual_datetime = shl_data_history_ts_process['ccyy-mm'][i] + ' ' + shl_data_history_ts_process['time'][i]\n",
    "    f_actual_price4pm = shl_data_history_ts_process['bid-price'][i] -  global_parm_base_price\n",
    "    print('*INFO* f_actual_datetime   : %s ' %  f_actual_datetime)\n",
    "    print('*INFO* f_actual_price4pm   : %d ' % f_actual_price4pm)\n",
    "    \n",
    "    # get Seasonality-Index\n",
    "    f_actual_si = shl_intra_fetch_si(shl_data_history_ts_process['ccyy-mm'][i]\n",
    "                                         ,shl_data_history_ts_process['time'][i]\n",
    "                                         ,shl_data_parm_si)\n",
    "    print('*INFO* f_actual_si         : %0.10f ' %  f_actual_si)\n",
    "    f_1_step_si = shl_intra_fetch_si(shl_data_history_ts_process['ccyy-mm'][i]\n",
    "                                         ,shl_data_history_ts_process['time'][i+1]\n",
    "                                         ,shl_data_parm_si)\n",
    "    print('*INFO* f_1_step_si         : %0.10f ' %  f_1_step_si)\n",
    "    # get de-seasoned price: price4pmsi\n",
    "    f_actual_price4pmsi = f_actual_price4pm / f_actual_si\n",
    "    print('*INFO* f_actual_price4pmsi : %0.10f ' % f_actual_price4pmsi)\n",
    "    \n",
    "\n",
    "\n",
    "    if shl_data_history_ts_process['time'][i] == '11:29:00':\n",
    "        shl_data_shl_pm = pd.DataFrame() # initialize prediction dataframe at 11:29:00\n",
    "        print('---- call prediction function shl_pm ---- %s' % shl_data_history_ts_process['time'][i])\n",
    "        f_1_step_pred_les_level = f_actual_price4pmsi\n",
    "        f_1_step_pred_les_trend = 0\n",
    "        f_1_step_pred_les = f_1_step_pred_les_level + f_1_step_pred_les_trend\n",
    "        f_1_step_pred_adj_misc = 0\n",
    "#         f_1_step_pred_price_inc = (f_1_step_pred_les + f_1_step_pred_adj_misc) * f_actual_si\n",
    "        f_1_step_pred_price_inc = (f_1_step_pred_les + f_1_step_pred_adj_misc) * f_1_step_si\n",
    "        f_1_step_pred_price = f_1_step_pred_price_inc + global_parm_base_price\n",
    "        f_1_step_pred_price_rounded = round(f_1_step_pred_price/100, 0) * 100\n",
    "        f_1_step_pred_dynamic_increment = global_parm_dynamic_increment\n",
    "        f_1_step_pred_set_price_rounded = f_1_step_pred_price_rounded + f_1_step_pred_dynamic_increment\n",
    "        f_current_step_pred_les = f_1_step_pred_les\n",
    "        f_current_step_pred_les_misc = f_1_step_pred_adj_misc\n",
    "        f_current_step_pred_price_inc = f_1_step_pred_price_inc\n",
    "        f_current_step_pred_price = f_1_step_pred_price\n",
    "        f_current_step_pred_price_rounded = f_1_step_pred_price_rounded\n",
    "        f_current_step_pred_dynamic_increment = f_1_step_pred_dynamic_increment # +200 or + 300\n",
    "        f_current_step_pred_set_price_rounded = f_1_step_pred_set_price_rounded\n",
    "        f_current_step_error = f_current_step_pred_price_inc - f_actual_price4pm # current second forecast error\n",
    "    else:\n",
    "        previous_time = shl_intra_fetch_previous_n_sec_time_as_str(shl_data_history_ts_process['time'][i], 1)\n",
    "        previous_pred_les_level = shl_data_shl_pm[(shl_data_shl_pm['ccyy-mm'] == shl_data_history_ts_process['ccyy-mm'][i]) \\\n",
    "                                            & (shl_data_shl_pm['time'] ==previous_time)].iloc[0]['f_1_step_pred_les_level']\n",
    "        print('     previous_pred_les_level : %f' % previous_pred_les_level)\n",
    "        \n",
    "        previous_pred_les_trend = shl_data_shl_pm[(shl_data_shl_pm['ccyy-mm'] == shl_data_history_ts_process['ccyy-mm'][i]) \\\n",
    "                                            & (shl_data_shl_pm['time'] ==previous_time)].iloc[0]['f_1_step_pred_les_trend']\n",
    "        print('     previous_pred_les_trend : %f' % previous_pred_les_trend)\n",
    "        \n",
    "        f_current_step_pred_les = shl_data_shl_pm[(shl_data_shl_pm['ccyy-mm'] == shl_data_history_ts_process['ccyy-mm'][i]) \\\n",
    "                                                    & (shl_data_shl_pm['time'] ==previous_time)].iloc[0]['f_1_step_pred_les']\n",
    "        f_current_step_pred_les_misc = shl_data_shl_pm[(shl_data_shl_pm['ccyy-mm'] == shl_data_history_ts_process['ccyy-mm'][i]) \\\n",
    "                                                    & (shl_data_shl_pm['time'] ==previous_time)].iloc[0]['f_1_step_pred_adj_misc']\n",
    "        f_current_step_pred_price_inc = shl_data_shl_pm[(shl_data_shl_pm['ccyy-mm'] == shl_data_history_ts_process['ccyy-mm'][i]) \\\n",
    "                                                    & (shl_data_shl_pm['time'] ==previous_time)].iloc[0]['f_1_step_pred_price_inc']\n",
    "        f_current_step_pred_price = shl_data_shl_pm[(shl_data_shl_pm['ccyy-mm'] == shl_data_history_ts_process['ccyy-mm'][i]) \\\n",
    "                                                    & (shl_data_shl_pm['time'] ==previous_time)].iloc[0]['f_1_step_pred_price']\n",
    "        f_current_step_pred_price_rounded = shl_data_shl_pm[(shl_data_shl_pm['ccyy-mm'] == shl_data_history_ts_process['ccyy-mm'][i]) \\\n",
    "                                                    & (shl_data_shl_pm['time'] ==previous_time)].iloc[0]['f_1_step_pred_price_rounded']\n",
    "        f_current_step_pred_dynamic_increment = shl_data_shl_pm[(shl_data_shl_pm['ccyy-mm'] == shl_data_history_ts_process['ccyy-mm'][i]) \\\n",
    "                                                    & (shl_data_shl_pm['time'] ==previous_time)].iloc[0]['f_1_step_pred_dynamic_increment']\n",
    "        f_current_step_pred_set_price_rounded = shl_data_shl_pm[(shl_data_shl_pm['ccyy-mm'] == shl_data_history_ts_process['ccyy-mm'][i]) \\\n",
    "                                                    & (shl_data_shl_pm['time'] ==previous_time)].iloc[0]['f_1_step_pred_set_price_rounded']\n",
    "\n",
    "        f_current_step_error = f_current_step_pred_price_inc - f_actual_price4pm # current second forecast error\n",
    "            \n",
    "        if shl_data_history_ts_process['time'][i] == '11:29:50':\n",
    "            # function to get average forecast error between 46~50 seconds: mean(f_current_step_error)\n",
    "            global_parm_short_weight_misc = (shl_data_shl_pm.iloc[46:50]['f_current_step_error'].sum() \\\n",
    "                                             + f_current_step_error) / 5\n",
    "            print('*INFO* global_parm_short_weight_misc : %f' % global_parm_short_weight_misc)\n",
    "            \n",
    "#         call prediction functino shl_pm, forcaste next k=1 step\n",
    "        print('---- call prediction function shl_pm ---- %s' % shl_data_history_ts_process['time'][i])\n",
    "        \n",
    "        f_1_step_pred_les_level = global_parm_alpha * f_actual_price4pmsi \\\n",
    "                                    + (1 - global_parm_alpha) * (previous_pred_les_level + previous_pred_les_trend)\n",
    "        print('     f_1_step_pred_les_level  : %f' % f_1_step_pred_les_level)\n",
    "        f_1_step_pred_les_trend = global_parm_beta * (f_1_step_pred_les_level - previous_pred_les_level) \\\n",
    "                                    + (1 - global_parm_beta) * previous_pred_les_trend\n",
    "        print('     f_1_step_pred_les_trend  : %f' % f_1_step_pred_les_trend)\n",
    "        f_1_step_pred_les = f_1_step_pred_les_level + f_1_step_pred_les_trend\n",
    "        \n",
    "        f_1_step_pred_adj_misc = global_parm_short_weight_misc * global_parm_short_weight * global_parm_gamma\n",
    "        \n",
    "#         f_1_step_pred_price_inc = (f_1_step_pred_les + f_1_step_pred_adj_misc) * f_actual_si\n",
    "        f_1_step_pred_price_inc = (f_1_step_pred_les + f_1_step_pred_adj_misc) * f_1_step_si\n",
    "        f_1_step_pred_price = f_1_step_pred_price_inc + global_parm_base_price\n",
    "        f_1_step_pred_price_rounded = round(f_1_step_pred_price/100, 0) * 100\n",
    "        f_1_step_pred_dynamic_increment = global_parm_dynamic_increment\n",
    "        f_1_step_pred_set_price_rounded = f_1_step_pred_price_rounded + f_1_step_pred_dynamic_increment\n",
    "   \n",
    "        \n",
    "    # write results to shl_pm dataframe\n",
    "            \n",
    "    shl_data_shl_pm_current = {\n",
    "                         'ccyy-mm' : shl_data_history_ts_process['ccyy-mm'][i]\n",
    "                        ,'time' : shl_data_history_ts_process['time'][i]\n",
    "                        ,'bid' : shl_data_history_ts_process['bid-price'][i]\n",
    "                        ,'datetime' : f_actual_datetime\n",
    "                        ,'f_actual_price4pm' : f_actual_price4pm\n",
    "                        ,'f_actual_si' : f_actual_si\n",
    "                        ,'f_1_step_si' : f_1_step_si\n",
    "                        ,'f_actual_price4pmsi' :  f_actual_price4pmsi\n",
    "                        ,'f_1_step_pred_les_level' : f_1_step_pred_les_level\n",
    "                        ,'f_1_step_pred_les_trend' : f_1_step_pred_les_trend\n",
    "                        ,'f_1_step_pred_les' : f_1_step_pred_les\n",
    "                        ,'f_1_step_pred_adj_misc' : f_1_step_pred_adj_misc\n",
    "                        ,'f_1_step_pred_price_inc' : f_1_step_pred_price_inc\n",
    "                        ,'f_1_step_pred_price' : f_1_step_pred_price\n",
    "                        ,'f_1_step_pred_price_rounded' : f_1_step_pred_price_rounded\n",
    "                        ,'f_1_step_pred_dynamic_increment' : f_1_step_pred_dynamic_increment # +200 or + 300\n",
    "                        ,'f_1_step_pred_set_price_rounded' : f_1_step_pred_set_price_rounded\n",
    "                        ,'f_current_step_pred_les' : f_current_step_pred_les\n",
    "                        ,'f_current_step_pred_les_misc' : f_current_step_pred_les_misc\n",
    "                        ,'f_current_step_pred_price_inc' : f_current_step_pred_price_inc\n",
    "                        ,'f_current_step_pred_price' : f_current_step_pred_price\n",
    "                        ,'f_current_step_pred_price_rounded' : f_current_step_pred_price_rounded\n",
    "                        ,'f_current_step_pred_dynamic_increment' : f_current_step_pred_dynamic_increment # +200 or + 300\n",
    "                        ,'f_current_step_pred_set_price_rounded' : f_current_step_pred_set_price_rounded\n",
    "                        ,'f_current_step_error' : f_current_step_error\n",
    "                        }\n",
    "    shl_data_shl_pm =  shl_data_shl_pm.append(shl_data_shl_pm_current, ignore_index=True)\n"
   ]
  },
  {
   "cell_type": "code",
   "execution_count": null,
   "metadata": {
    "scrolled": false
   },
   "outputs": [],
   "source": [
    "# shl_data_shl_pm.iloc[2]\n",
    "shl_data_shl_pm.head()"
   ]
  },
  {
   "cell_type": "code",
   "execution_count": null,
   "metadata": {
    "scrolled": true
   },
   "outputs": [],
   "source": [
    "shl_data_shl_pm.tail()"
   ]
  },
  {
   "cell_type": "code",
   "execution_count": null,
   "metadata": {},
   "outputs": [],
   "source": [
    "plt.figure(figsize=(12,6))\n",
    "plt.plot(shl_data_shl_pm['bid'])\n",
    "plt.plot(shl_data_shl_pm['f_current_step_pred_price'])\n",
    "# plt.plot(shl_data_shl_pm['f_1_step_pred_price'].shift(1))\n",
    "\n",
    "plt.figure(figsize=(12,6))\n",
    "plt.plot(shl_data_shl_pm['bid'])\n",
    "plt.plot(shl_data_shl_pm['f_current_step_pred_price'])\n",
    "plt.plot(shl_data_shl_pm['f_1_step_pred_price'])\n"
   ]
  },
  {
   "cell_type": "code",
   "execution_count": null,
   "metadata": {
    "collapsed": true
   },
   "outputs": [],
   "source": []
  },
  {
   "cell_type": "markdown",
   "metadata": {},
   "source": [
    "### Start of prediction module: shl_pm"
   ]
  },
  {
   "cell_type": "code",
   "execution_count": null,
   "metadata": {
    "collapsed": true
   },
   "outputs": [],
   "source": [
    "# 11:29:51~\n",
    "def predict_k_step_price(shl_data_shl_pm, ccyy_mm, time, k):\n",
    "    print('month & time  : ', ccyy_mm, time)\n",
    "    print()\n",
    "    \n",
    "#     shl_data_shl_pm_k = pd.DataFrame() # initialize prediction dataframe\n",
    "    for sec in range(0, k):\n",
    "        \n",
    "        \n",
    "        print('delta second(s) : ', sec)\n",
    "        current_time  = shl_intra_fetch_future_n_sec_time_as_str(time, sec)\n",
    "        print('current_time  : %s' % current_time)\n",
    "        f_1_step_time  = shl_intra_fetch_future_n_sec_time_as_str(current_time, 1)\n",
    "        print('f_1_step_time  : %s' % f_1_step_time)\n",
    "        previous_time = shl_intra_fetch_previous_n_sec_time_as_str(current_time, 1)\n",
    "        print('previous_time : %s' % previous_time)\n",
    "\n",
    "        previous_pred_les_level = shl_data_shl_pm[(shl_data_shl_pm['ccyy-mm'] == global_parm_ccyy_mm) \\\n",
    "                                            & (shl_data_shl_pm['time'] ==previous_time)].iloc[0]['f_1_step_pred_les_level']\n",
    "        print('     previous_pred_les_level : %f' % previous_pred_les_level)\n",
    "        \n",
    "        previous_pred_les_trend = shl_data_shl_pm[(shl_data_shl_pm['ccyy-mm'] == global_parm_ccyy_mm) \\\n",
    "                                            & (shl_data_shl_pm['time'] ==previous_time)].iloc[0]['f_1_step_pred_les_trend']\n",
    "        print('     previous_pred_les_trend : %f' % previous_pred_les_trend)\n",
    "\n",
    "\n",
    "        print('---- Pre-Process ---')\n",
    "        ############ use predicted value for boost-trap\n",
    "        previous_pred_price = shl_data_shl_pm[(shl_data_shl_pm['ccyy-mm'] == global_parm_ccyy_mm) \\\n",
    "                                            & (shl_data_shl_pm['time'] == previous_time)].iloc[0]['f_1_step_pred_price']\n",
    "        # pre-process: ccyy-mm-hh:mm:ss\n",
    "        f_actual_datetime = global_parm_ccyy_mm + ' ' + current_time\n",
    "#         f_actual_price4pm = shl_data_history_ts_process['bid-price'][i] -  global_parm_base_price\n",
    "        f_actual_price4pm = previous_pred_price -  global_parm_base_price\n",
    "        print('*INFO* f_actual_datetime   : %s ' %  f_actual_datetime)\n",
    "        print('*INFO* previous_pred_price: %s ' %  previous_pred_price)\n",
    "        print('*INFO* f_actual_price4pm   : %d ' % f_actual_price4pm)\n",
    "\n",
    "        # get Seasonality-Index\n",
    "        f_actual_si = shl_intra_fetch_si(global_parm_ccyy_mm\n",
    "                                             ,current_time\n",
    "                                             ,shl_data_parm_si)\n",
    "        try:\n",
    "            f_1_step_si = shl_intra_fetch_si(global_parm_ccyy_mm\n",
    "                                                 ,f_1_step_time\n",
    "                                                 ,shl_data_parm_si)\n",
    "        except:\n",
    "            f_1_step_si = shl_intra_fetch_si(global_parm_ccyy_mm\n",
    "                                                 ,current_time\n",
    "                                                 ,shl_data_parm_si)            \n",
    "\n",
    "        print('*INFO* f_actual_si         : %0.10f ' %  f_actual_si)\n",
    "        # get de-seasoned price: price4pmsi\n",
    "        f_actual_price4pmsi = f_actual_price4pm / f_actual_si\n",
    "        print('*INFO* f_actual_price4pmsi : %0.10f ' % f_actual_price4pmsi)\n",
    "\n",
    "        f_current_step_pred_les = shl_data_shl_pm[(shl_data_shl_pm['ccyy-mm'] == shl_data_history_ts_process['ccyy-mm'][i]) \\\n",
    "                                                    & (shl_data_shl_pm['time'] ==previous_time)].iloc[0]['f_1_step_pred_les']\n",
    "        f_current_step_pred_les_misc = shl_data_shl_pm[(shl_data_shl_pm['ccyy-mm'] == shl_data_history_ts_process['ccyy-mm'][i]) \\\n",
    "                                                    & (shl_data_shl_pm['time'] ==previous_time)].iloc[0]['f_1_step_pred_adj_misc']\n",
    "        f_current_step_pred_price_inc = shl_data_shl_pm[(shl_data_shl_pm['ccyy-mm'] == shl_data_history_ts_process['ccyy-mm'][i]) \\\n",
    "                                                    & (shl_data_shl_pm['time'] ==previous_time)].iloc[0]['f_1_step_pred_price_inc']\n",
    "        f_current_step_pred_price = shl_data_shl_pm[(shl_data_shl_pm['ccyy-mm'] == shl_data_history_ts_process['ccyy-mm'][i]) \\\n",
    "                                                    & (shl_data_shl_pm['time'] ==previous_time)].iloc[0]['f_1_step_pred_price']\n",
    "        f_current_step_pred_price_rounded = shl_data_shl_pm[(shl_data_shl_pm['ccyy-mm'] == shl_data_history_ts_process['ccyy-mm'][i]) \\\n",
    "                                                    & (shl_data_shl_pm['time'] ==previous_time)].iloc[0]['f_1_step_pred_price_rounded']\n",
    "        f_current_step_pred_dynamic_increment = shl_data_shl_pm[(shl_data_shl_pm['ccyy-mm'] == shl_data_history_ts_process['ccyy-mm'][i]) \\\n",
    "                                                    & (shl_data_shl_pm['time'] ==previous_time)].iloc[0]['f_1_step_pred_dynamic_increment']\n",
    "        f_current_step_pred_set_price_rounded = shl_data_shl_pm[(shl_data_shl_pm['ccyy-mm'] == shl_data_history_ts_process['ccyy-mm'][i]) \\\n",
    "                                                    & (shl_data_shl_pm['time'] ==previous_time)].iloc[0]['f_1_step_pred_set_price_rounded']\n",
    "        \n",
    "        f_current_step_error = f_current_step_pred_price_inc - f_actual_price4pm # current second forecast error\n",
    "        \n",
    "\n",
    "        f_1_step_pred_les_level = global_parm_alpha * f_actual_price4pmsi \\\n",
    "                                    + (1 - global_parm_alpha) * (previous_pred_les_level + previous_pred_les_trend)\n",
    "        print('     f_1_step_pred_les_level  : %f' % f_1_step_pred_les_level)\n",
    "        f_1_step_pred_les_trend = global_parm_beta * (f_1_step_pred_les_level - previous_pred_les_level) \\\n",
    "                                    + (1 - global_parm_beta) * previous_pred_les_trend\n",
    "        print('     f_1_step_pred_les_trend  : %f' % f_1_step_pred_les_trend)\n",
    "        f_1_step_pred_les = f_1_step_pred_les_level + f_1_step_pred_les_trend\n",
    "        \n",
    "#         f_1_step_pred_adj_misc = 0\n",
    "        f_1_step_pred_adj_misc = global_parm_short_weight_misc * global_parm_short_weight * (sec+2) * global_parm_gamma\n",
    "        \n",
    "#         f_1_step_pred_price_inc = (f_1_step_pred_les + f_1_step_pred_adj_misc) * f_actual_si\n",
    "        f_1_step_pred_price_inc = (f_1_step_pred_les + f_1_step_pred_adj_misc) * f_1_step_si\n",
    "        f_1_step_pred_price = f_1_step_pred_price_inc + global_parm_base_price\n",
    "        f_1_step_pred_price_rounded = round(f_1_step_pred_price/100, 0) * 100\n",
    "        f_1_step_pred_dynamic_increment = global_parm_dynamic_increment\n",
    "        f_1_step_pred_set_price_rounded = f_1_step_pred_price_rounded + f_1_step_pred_dynamic_increment \n",
    "\n",
    "#         write results to shl_pm dataframe\n",
    "        shl_data_shl_pm_current = {\n",
    "                             'ccyy-mm' : global_parm_ccyy_mm\n",
    "                            ,'time' : current_time\n",
    "                            ,'bid' : previous_pred_price\n",
    "                            ,'datetime' : f_actual_datetime\n",
    "                            ,'f_actual_price4pm' : f_actual_price4pm\n",
    "                            ,'f_actual_si' : f_actual_si\n",
    "                            ,'f_1_step_si' : f_1_step_si\n",
    "                            ,'f_actual_price4pmsi' :  f_actual_price4pmsi\n",
    "                            ,'f_1_step_pred_les_level' : f_1_step_pred_les_level\n",
    "                            ,'f_1_step_pred_les_trend' : f_1_step_pred_les_trend\n",
    "                            ,'f_1_step_pred_les' : f_1_step_pred_les\n",
    "                            ,'f_1_step_pred_adj_misc' : f_1_step_pred_adj_misc\n",
    "                            ,'f_1_step_pred_price_inc' : f_1_step_pred_price_inc\n",
    "                            ,'f_1_step_pred_price' : f_1_step_pred_price\n",
    "                            ,'f_1_step_pred_price_rounded' : f_1_step_pred_price_rounded\n",
    "                            ,'f_1_step_pred_dynamic_increment' : f_1_step_pred_dynamic_increment # +200 or + 300\n",
    "                            ,'f_1_step_pred_set_price_rounded' : f_1_step_pred_set_price_rounded\n",
    "                            ,'f_current_step_pred_les' : f_current_step_pred_les\n",
    "                            ,'f_current_step_pred_les_misc' : f_current_step_pred_les_misc\n",
    "                            ,'f_current_step_pred_price_inc' : f_current_step_pred_price_inc\n",
    "                            ,'f_current_step_pred_price' : f_current_step_pred_price\n",
    "                            ,'f_current_step_pred_price_rounded' : f_current_step_pred_price_rounded\n",
    "                            ,'f_current_step_pred_dynamic_increment' : f_current_step_pred_dynamic_increment # +200 or + 300\n",
    "                            ,'f_current_step_pred_set_price_rounded' : f_current_step_pred_set_price_rounded\n",
    "                            ,'f_current_step_error' : f_current_step_error\n",
    "                            }\n",
    "        print('---------------------------')\n",
    "        shl_data_shl_pm =  shl_data_shl_pm.append(shl_data_shl_pm_current, ignore_index=True)\n",
    "        \n",
    "    return shl_data_shl_pm"
   ]
  },
  {
   "cell_type": "code",
   "execution_count": null,
   "metadata": {
    "scrolled": true
   },
   "outputs": [],
   "source": [
    "shl_data_shl_pm_k_step = predict_k_step_price(shl_data_shl_pm, global_parm_ccyy_mm, '11:29:51', 10)"
   ]
  },
  {
   "cell_type": "code",
   "execution_count": null,
   "metadata": {
    "scrolled": true
   },
   "outputs": [],
   "source": [
    "shl_data_shl_pm_k_step['f_current_step_pred_les_misc'].tail(11)"
   ]
  },
  {
   "cell_type": "code",
   "execution_count": null,
   "metadata": {},
   "outputs": [],
   "source": [
    "# bid is predicted bid-price from shl_pm\n",
    "plt.figure(figsize=(12,6))\n",
    "plt.plot(shl_data_shl_pm_k_step['bid'])\n",
    "# plt.plot(shl_data_shl_pm_k_step['f_1_step_pred_price'].shift(1))\n",
    "plt.plot(shl_data_shl_pm_k_step['f_current_step_pred_price'])\n",
    "\n",
    "# bid is actual bid-price from raw dataset\n",
    "shl_data_actual_bid = shl_data_history_ts_process[global_parm_ccyy_mm_offset:global_parm_ccyy_mm_offset+61].copy()\n",
    "shl_data_actual_bid.reset_index(inplace=True)\n",
    "plt.figure(figsize=(12,6))\n",
    "plt.plot(shl_data_actual_bid['bid-price'])\n",
    "# plt.plot(shl_data_shl_pm_k_step['f_1_step_pred_price'].shift(1))\n",
    "plt.plot(shl_data_shl_pm_k_step['f_current_step_pred_price'])\n",
    "# plt.plot(shl_data_shl_pm_k_step['bid'])\n"
   ]
  },
  {
   "cell_type": "markdown",
   "metadata": {},
   "source": [
    "### End of prediction module: shl_pm"
   ]
  },
  {
   "cell_type": "code",
   "execution_count": null,
   "metadata": {
    "collapsed": true
   },
   "outputs": [],
   "source": []
  },
  {
   "cell_type": "code",
   "execution_count": null,
   "metadata": {},
   "outputs": [],
   "source": [
    "# actual price & oredicted price & error\n",
    "pd.concat([shl_data_actual_bid['bid-price'].tail(11), shl_data_shl_pm_k_step['f_current_step_pred_price'].tail(11), shl_data_shl_pm_k_step['f_current_step_pred_price'].tail(11) - shl_data_actual_bid['bid-price'].tail(11)], axis=1, join='inner')\n"
   ]
  },
  {
   "cell_type": "code",
   "execution_count": null,
   "metadata": {},
   "outputs": [],
   "source": [
    "shl_data_shl_pm_k_step.iloc[57]\n",
    "# shl_data_shl_pm_k_step.iloc[50:61]"
   ]
  },
  {
   "cell_type": "code",
   "execution_count": null,
   "metadata": {
    "collapsed": true
   },
   "outputs": [],
   "source": []
  },
  {
   "cell_type": "markdown",
   "metadata": {},
   "source": [
    "\n",
    "# End of shl_sm"
   ]
  },
  {
   "cell_type": "code",
   "execution_count": null,
   "metadata": {
    "collapsed": true
   },
   "outputs": [],
   "source": []
  },
  {
   "cell_type": "code",
   "execution_count": null,
   "metadata": {
    "collapsed": true
   },
   "outputs": [],
   "source": []
  },
  {
   "cell_type": "code",
   "execution_count": null,
   "metadata": {
    "collapsed": true
   },
   "outputs": [],
   "source": []
  },
  {
   "cell_type": "code",
   "execution_count": null,
   "metadata": {
    "collapsed": true
   },
   "outputs": [],
   "source": []
  },
  {
   "cell_type": "code",
   "execution_count": null,
   "metadata": {
    "collapsed": true
   },
   "outputs": [],
   "source": []
  },
  {
   "cell_type": "code",
   "execution_count": null,
   "metadata": {
    "collapsed": true
   },
   "outputs": [],
   "source": []
  },
  {
   "cell_type": "code",
   "execution_count": null,
   "metadata": {
    "collapsed": true
   },
   "outputs": [],
   "source": []
  },
  {
   "cell_type": "code",
   "execution_count": null,
   "metadata": {
    "collapsed": true
   },
   "outputs": [],
   "source": []
  },
  {
   "cell_type": "code",
   "execution_count": null,
   "metadata": {
    "collapsed": true
   },
   "outputs": [],
   "source": []
  },
  {
   "cell_type": "code",
   "execution_count": null,
   "metadata": {
    "collapsed": true
   },
   "outputs": [],
   "source": []
  },
  {
   "cell_type": "code",
   "execution_count": null,
   "metadata": {
    "collapsed": true
   },
   "outputs": [],
   "source": []
  },
  {
   "cell_type": "code",
   "execution_count": null,
   "metadata": {
    "collapsed": true
   },
   "outputs": [],
   "source": []
  },
  {
   "cell_type": "code",
   "execution_count": null,
   "metadata": {
    "collapsed": true
   },
   "outputs": [],
   "source": []
  },
  {
   "cell_type": "code",
   "execution_count": null,
   "metadata": {
    "collapsed": true
   },
   "outputs": [],
   "source": []
  },
  {
   "cell_type": "markdown",
   "metadata": {},
   "source": [
    "---"
   ]
  },
  {
   "cell_type": "markdown",
   "metadata": {},
   "source": [
    "### The End"
   ]
  }
 ],
 "metadata": {
  "kernelspec": {
   "display_name": "Python 3",
   "language": "python",
   "name": "python3"
  },
  "language_info": {
   "codemirror_mode": {
    "name": "ipython",
    "version": 3
   },
   "file_extension": ".py",
   "mimetype": "text/x-python",
   "name": "python",
   "nbconvert_exporter": "python",
   "pygments_lexer": "ipython3",
   "version": "3.5.1"
  }
 },
 "nbformat": 4,
 "nbformat_minor": 1
}
