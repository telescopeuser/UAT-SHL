{
 "cells": [
  {
   "cell_type": "markdown",
   "metadata": {},
   "source": [
    "By: 顾 瞻 GU Zhan (Sam)\n",
    "\n",
    "Sep 2017"
   ]
  },
  {
   "cell_type": "markdown",
   "metadata": {},
   "source": [
    "### SHL github project: uat_shl\n",
    "\n",
    "* training module: shl_tm\n",
    "\n",
    "* prediction module: shl_pm\n",
    "\n",
    "* simulation module: shl_sm\n",
    "\n",
    "* misc module: shl_mm\n",
    "\n",
    "\n",
    "### data feeds:\n",
    "\n",
    "* historical bidding price, per second, time series\n",
    "\n",
    "* live bidding price, per second, time series\n",
    "\n",
    "### parameter lookup table: python dictionary\n",
    "\n"
   ]
  },
  {
   "cell_type": "code",
   "execution_count": 1,
   "metadata": {},
   "outputs": [],
   "source": [
    "import pandas as pd"
   ]
  },
  {
   "cell_type": "markdown",
   "metadata": {},
   "source": [
    "### Read raw data"
   ]
  },
  {
   "cell_type": "code",
   "execution_count": 14,
   "metadata": {},
   "outputs": [
    {
     "data": {
      "text/html": [
       "<div>\n",
       "<style>\n",
       "    .dataframe thead tr:only-child th {\n",
       "        text-align: right;\n",
       "    }\n",
       "\n",
       "    .dataframe thead th {\n",
       "        text-align: left;\n",
       "    }\n",
       "\n",
       "    .dataframe tbody tr th {\n",
       "        vertical-align: top;\n",
       "    }\n",
       "</style>\n",
       "<table border=\"1\" class=\"dataframe\">\n",
       "  <thead>\n",
       "    <tr style=\"text-align: right;\">\n",
       "      <th></th>\n",
       "      <th>ccyy-mm</th>\n",
       "      <th>time</th>\n",
       "      <th>bid-price</th>\n",
       "      <th>ref-price</th>\n",
       "    </tr>\n",
       "  </thead>\n",
       "  <tbody>\n",
       "    <tr>\n",
       "      <th>1886</th>\n",
       "      <td>2017-07</td>\n",
       "      <td>11:29:56</td>\n",
       "      <td>92100</td>\n",
       "      <td>89800</td>\n",
       "    </tr>\n",
       "    <tr>\n",
       "      <th>1887</th>\n",
       "      <td>2017-07</td>\n",
       "      <td>11:29:57</td>\n",
       "      <td>92100</td>\n",
       "      <td>89800</td>\n",
       "    </tr>\n",
       "    <tr>\n",
       "      <th>1888</th>\n",
       "      <td>2017-07</td>\n",
       "      <td>11:29:58</td>\n",
       "      <td>92100</td>\n",
       "      <td>89800</td>\n",
       "    </tr>\n",
       "    <tr>\n",
       "      <th>1889</th>\n",
       "      <td>2017-07</td>\n",
       "      <td>11:29:59</td>\n",
       "      <td>92200</td>\n",
       "      <td>89800</td>\n",
       "    </tr>\n",
       "    <tr>\n",
       "      <th>1890</th>\n",
       "      <td>2017-07</td>\n",
       "      <td>11:30:00</td>\n",
       "      <td>92200</td>\n",
       "      <td>89800</td>\n",
       "    </tr>\n",
       "  </tbody>\n",
       "</table>\n",
       "</div>"
      ],
      "text/plain": [
       "      ccyy-mm      time  bid-price  ref-price\n",
       "1886  2017-07  11:29:56      92100      89800\n",
       "1887  2017-07  11:29:57      92100      89800\n",
       "1888  2017-07  11:29:58      92100      89800\n",
       "1889  2017-07  11:29:59      92200      89800\n",
       "1890  2017-07  11:30:00      92200      89800"
      ]
     },
     "execution_count": 14,
     "metadata": {},
     "output_type": "execute_result"
    }
   ],
   "source": [
    "# df_history_ts_process = pd.read_csv('data/history_ts.csv') \n",
    "df_history_ts_process.tail()"
   ]
  },
  {
   "cell_type": "code",
   "execution_count": 3,
   "metadata": {
    "scrolled": true
   },
   "outputs": [
    {
     "data": {
      "text/html": [
       "<div>\n",
       "<style>\n",
       "    .dataframe thead tr:only-child th {\n",
       "        text-align: right;\n",
       "    }\n",
       "\n",
       "    .dataframe thead th {\n",
       "        text-align: left;\n",
       "    }\n",
       "\n",
       "    .dataframe tbody tr th {\n",
       "        vertical-align: top;\n",
       "    }\n",
       "</style>\n",
       "<table border=\"1\" class=\"dataframe\">\n",
       "  <thead>\n",
       "    <tr style=\"text-align: right;\">\n",
       "      <th></th>\n",
       "      <th>ccyy-mm</th>\n",
       "      <th>volume-plate</th>\n",
       "      <th>deal-price-low</th>\n",
       "      <th>deal-price-avg</th>\n",
       "      <th>deal-early-second</th>\n",
       "      <th>volume-bidder</th>\n",
       "    </tr>\n",
       "  </thead>\n",
       "  <tbody>\n",
       "    <tr>\n",
       "      <th>26</th>\n",
       "      <td>2017-03</td>\n",
       "      <td>10356</td>\n",
       "      <td>87800</td>\n",
       "      <td>87916</td>\n",
       "      <td>55</td>\n",
       "      <td>262010</td>\n",
       "    </tr>\n",
       "    <tr>\n",
       "      <th>27</th>\n",
       "      <td>2017-04</td>\n",
       "      <td>12196</td>\n",
       "      <td>89800</td>\n",
       "      <td>89850</td>\n",
       "      <td>59</td>\n",
       "      <td>252273</td>\n",
       "    </tr>\n",
       "    <tr>\n",
       "      <th>28</th>\n",
       "      <td>2017-05</td>\n",
       "      <td>10316</td>\n",
       "      <td>90100</td>\n",
       "      <td>90209</td>\n",
       "      <td>55</td>\n",
       "      <td>270197</td>\n",
       "    </tr>\n",
       "    <tr>\n",
       "      <th>29</th>\n",
       "      <td>2017-06</td>\n",
       "      <td>10312</td>\n",
       "      <td>89400</td>\n",
       "      <td>89532</td>\n",
       "      <td>45</td>\n",
       "      <td>244349</td>\n",
       "    </tr>\n",
       "    <tr>\n",
       "      <th>30</th>\n",
       "      <td>2017-07</td>\n",
       "      <td>10325</td>\n",
       "      <td>92200</td>\n",
       "      <td>92250</td>\n",
       "      <td>57</td>\n",
       "      <td>269189</td>\n",
       "    </tr>\n",
       "  </tbody>\n",
       "</table>\n",
       "</div>"
      ],
      "text/plain": [
       "    ccyy-mm  volume-plate  deal-price-low  deal-price-avg  deal-early-second  \\\n",
       "26  2017-03         10356           87800           87916                 55   \n",
       "27  2017-04         12196           89800           89850                 59   \n",
       "28  2017-05         10316           90100           90209                 55   \n",
       "29  2017-06         10312           89400           89532                 45   \n",
       "30  2017-07         10325           92200           92250                 57   \n",
       "\n",
       "    volume-bidder  \n",
       "26         262010  \n",
       "27         252273  \n",
       "28         270197  \n",
       "29         244349  \n",
       "30         269189  "
      ]
     },
     "execution_count": 3,
     "metadata": {},
     "output_type": "execute_result"
    }
   ],
   "source": [
    "df_history_table_process = pd.read_csv('data/history_table.csv') \n",
    "df_history_table_process.tail()"
   ]
  },
  {
   "cell_type": "code",
   "execution_count": 59,
   "metadata": {
    "scrolled": true
   },
   "outputs": [
    {
     "data": {
      "text/html": [
       "<div>\n",
       "<style>\n",
       "    .dataframe thead tr:only-child th {\n",
       "        text-align: right;\n",
       "    }\n",
       "\n",
       "    .dataframe thead th {\n",
       "        text-align: left;\n",
       "    }\n",
       "\n",
       "    .dataframe tbody tr th {\n",
       "        vertical-align: top;\n",
       "    }\n",
       "</style>\n",
       "<table border=\"1\" class=\"dataframe\">\n",
       "  <thead>\n",
       "    <tr style=\"text-align: right;\">\n",
       "      <th></th>\n",
       "      <th>ccyy-mm</th>\n",
       "      <th>time</th>\n",
       "      <th>SI</th>\n",
       "    </tr>\n",
       "  </thead>\n",
       "  <tbody>\n",
       "    <tr>\n",
       "      <th>2191</th>\n",
       "      <td>2017-12</td>\n",
       "      <td>11:29:56</td>\n",
       "      <td>1.0</td>\n",
       "    </tr>\n",
       "    <tr>\n",
       "      <th>2192</th>\n",
       "      <td>2017-12</td>\n",
       "      <td>11:29:57</td>\n",
       "      <td>1.0</td>\n",
       "    </tr>\n",
       "    <tr>\n",
       "      <th>2193</th>\n",
       "      <td>2017-12</td>\n",
       "      <td>11:29:58</td>\n",
       "      <td>1.0</td>\n",
       "    </tr>\n",
       "    <tr>\n",
       "      <th>2194</th>\n",
       "      <td>2017-12</td>\n",
       "      <td>11:29:59</td>\n",
       "      <td>1.0</td>\n",
       "    </tr>\n",
       "    <tr>\n",
       "      <th>2195</th>\n",
       "      <td>2017-12</td>\n",
       "      <td>11:30:00</td>\n",
       "      <td>1.0</td>\n",
       "    </tr>\n",
       "  </tbody>\n",
       "</table>\n",
       "</div>"
      ],
      "text/plain": [
       "      ccyy-mm      time   SI\n",
       "2191  2017-12  11:29:56  1.0\n",
       "2192  2017-12  11:29:57  1.0\n",
       "2193  2017-12  11:29:58  1.0\n",
       "2194  2017-12  11:29:59  1.0\n",
       "2195  2017-12  11:30:00  1.0"
      ]
     },
     "execution_count": 59,
     "metadata": {},
     "output_type": "execute_result"
    }
   ],
   "source": [
    "df_parm_si = pd.read_csv('data/parm_si.csv') \n",
    "df_parm_si.tail()"
   ]
  },
  {
   "cell_type": "code",
   "execution_count": 86,
   "metadata": {},
   "outputs": [
    {
     "data": {
      "text/plain": [
       "0.0023738380000000001"
      ]
     },
     "execution_count": 86,
     "metadata": {},
     "output_type": "execute_result"
    }
   ],
   "source": [
    "df_parm_si[(df_parm_si['ccyy-mm'] == '2017-08') & (df_parm_si['time'] == '11:29:00')].iloc[0]['SI']"
   ]
  },
  {
   "cell_type": "markdown",
   "metadata": {},
   "source": [
    "# Initialization"
   ]
  },
  {
   "cell_type": "code",
   "execution_count": 87,
   "metadata": {},
   "outputs": [],
   "source": [
    "# function to fetch Seasonality-Index\n",
    "def fetech_si(ccyy_mm, time, df_parm_si):\n",
    "#     return df_parm_si[(df_parm_si['ccyy-mm'] == '2017-09') & (df_parm_si['time'] == '11:29:00')]\n",
    "    return df_parm_si[(df_parm_si['ccyy-mm'] == ccyy_mm) & (df_parm_si['time'] == time)].iloc[0]['SI']\n"
   ]
  },
  {
   "cell_type": "code",
   "execution_count": null,
   "metadata": {},
   "outputs": [],
   "source": []
  },
  {
   "cell_type": "code",
   "execution_count": 88,
   "metadata": {
    "collapsed": true
   },
   "outputs": [],
   "source": [
    "\n",
    "# create global base price\n",
    "global_parm_base_price = 10000000\n",
    "\n",
    "# create predictino results dataframe: shl_pm\n",
    "df_shl_pm = pd.DataFrame()"
   ]
  },
  {
   "cell_type": "markdown",
   "metadata": {},
   "source": [
    "# Start of shl_sm"
   ]
  },
  {
   "cell_type": "code",
   "execution_count": 89,
   "metadata": {
    "scrolled": true
   },
   "outputs": [
    {
     "name": "stdout",
     "output_type": "stream",
     "text": [
      "\n",
      "<<<< Record No.:  1829 >>>>\n",
      "2017-06\n",
      "11:30:00\n",
      "89400\n",
      "---- Pre-Process ---\n",
      "#### current_datetime   : 2017-06 11:30:00 ####\n",
      "#### current_price4pm   : -9910600 ####\n",
      "#### current_si         : 3.0648617500 ####\n",
      "#### current_price4pmsi : -3233620.5703242570 ####\n",
      "---- call predicitno functino shl_pm ----\n",
      "\n",
      "<<<< Record No.:  1830 >>>>\n",
      "2017-07\n",
      "11:29:00\n",
      "90400\n",
      "#### global_parm_base_price : 90399 ####\n",
      "---- Pre-Process ---\n",
      "#### current_datetime   : 2017-07 11:29:00 ####\n",
      "#### current_price4pm   : 1 ####\n",
      "#### current_si         : 0.0023669570 ####\n",
      "#### current_price4pmsi : 422.4833826724 ####\n",
      "---- call predicitno functino shl_pm ----\n",
      "\n",
      "<<<< Record No.:  1831 >>>>\n",
      "2017-07\n",
      "11:29:01\n",
      "90400\n",
      "---- Pre-Process ---\n",
      "#### current_datetime   : 2017-07 11:29:01 ####\n",
      "#### current_price4pm   : 1 ####\n",
      "#### current_si         : 0.0223882810 ####\n",
      "#### current_price4pmsi : 44.6662251559 ####\n",
      "---- call predicitno functino shl_pm ----\n",
      "\n",
      "<<<< Record No.:  1832 >>>>\n",
      "2017-07\n",
      "11:29:02\n",
      "90400\n",
      "---- Pre-Process ---\n",
      "#### current_datetime   : 2017-07 11:29:02 ####\n",
      "#### current_price4pm   : 1 ####\n",
      "#### current_si         : 0.0309107700 ####\n",
      "#### current_price4pmsi : 32.3511837460 ####\n",
      "---- call predicitno functino shl_pm ----\n",
      "\n",
      "<<<< Record No.:  1833 >>>>\n",
      "2017-07\n",
      "11:29:03\n",
      "90400\n",
      "---- Pre-Process ---\n",
      "#### current_datetime   : 2017-07 11:29:03 ####\n",
      "#### current_price4pm   : 1 ####\n",
      "#### current_si         : 0.0377696020 ####\n",
      "#### current_price4pmsi : 26.4763181778 ####\n",
      "---- call predicitno functino shl_pm ----\n",
      "\n",
      "<<<< Record No.:  1834 >>>>\n",
      "2017-07\n",
      "11:29:04\n",
      "90400\n",
      "---- Pre-Process ---\n",
      "#### current_datetime   : 2017-07 11:29:04 ####\n",
      "#### current_price4pm   : 1 ####\n",
      "#### current_si         : 0.0457052300 ####\n",
      "#### current_price4pmsi : 21.8793341594 ####\n",
      "---- call predicitno functino shl_pm ----\n",
      "\n",
      "<<<< Record No.:  1835 >>>>\n",
      "2017-07\n",
      "11:29:05\n",
      "90400\n",
      "---- Pre-Process ---\n",
      "#### current_datetime   : 2017-07 11:29:05 ####\n",
      "#### current_price4pm   : 1 ####\n",
      "#### current_si         : 0.0452799070 ####\n",
      "#### current_price4pmsi : 22.0848510135 ####\n",
      "---- call predicitno functino shl_pm ----\n",
      "\n",
      "<<<< Record No.:  1836 >>>>\n",
      "2017-07\n",
      "11:29:06\n",
      "90400\n",
      "---- Pre-Process ---\n",
      "#### current_datetime   : 2017-07 11:29:06 ####\n",
      "#### current_price4pm   : 1 ####\n",
      "#### current_si         : 0.0807556680 ####\n",
      "#### current_price4pmsi : 12.3830317396 ####\n",
      "---- call predicitno functino shl_pm ----\n",
      "\n",
      "<<<< Record No.:  1837 >>>>\n",
      "2017-07\n",
      "11:29:07\n",
      "90400\n",
      "---- Pre-Process ---\n",
      "#### current_datetime   : 2017-07 11:29:07 ####\n",
      "#### current_price4pm   : 1 ####\n",
      "#### current_si         : 0.0985017130 ####\n",
      "#### current_price4pmsi : 10.1521077100 ####\n",
      "---- call predicitno functino shl_pm ----\n",
      "\n",
      "<<<< Record No.:  1838 >>>>\n",
      "2017-07\n",
      "11:29:08\n",
      "90400\n",
      "---- Pre-Process ---\n",
      "#### current_datetime   : 2017-07 11:29:08 ####\n",
      "#### current_price4pm   : 1 ####\n",
      "#### current_si         : 0.1361543100 ####\n",
      "#### current_price4pmsi : 7.3446077469 ####\n",
      "---- call predicitno functino shl_pm ----\n",
      "\n",
      "<<<< Record No.:  1839 >>>>\n",
      "2017-07\n",
      "11:29:09\n",
      "90400\n",
      "---- Pre-Process ---\n",
      "#### current_datetime   : 2017-07 11:29:09 ####\n",
      "#### current_price4pm   : 1 ####\n",
      "#### current_si         : 0.2041642360 ####\n",
      "#### current_price4pmsi : 4.8980174961 ####\n",
      "---- call predicitno functino shl_pm ----\n",
      "\n",
      "<<<< Record No.:  1840 >>>>\n",
      "2017-07\n",
      "11:29:10\n",
      "90500\n",
      "---- Pre-Process ---\n",
      "#### current_datetime   : 2017-07 11:29:10 ####\n",
      "#### current_price4pm   : 101 ####\n",
      "#### current_si         : 0.2310771670 ####\n",
      "#### current_price4pmsi : 437.0834267671 ####\n",
      "---- call predicitno functino shl_pm ----\n",
      "\n",
      "<<<< Record No.:  1841 >>>>\n",
      "2017-07\n",
      "11:29:11\n",
      "90500\n",
      "---- Pre-Process ---\n",
      "#### current_datetime   : 2017-07 11:29:11 ####\n",
      "#### current_price4pm   : 101 ####\n",
      "#### current_si         : 0.2910254840 ####\n",
      "#### current_price4pmsi : 347.0486454032 ####\n",
      "---- call predicitno functino shl_pm ----\n",
      "\n",
      "<<<< Record No.:  1842 >>>>\n",
      "2017-07\n",
      "11:29:12\n",
      "90500\n",
      "---- Pre-Process ---\n",
      "#### current_datetime   : 2017-07 11:29:12 ####\n",
      "#### current_price4pm   : 101 ####\n",
      "#### current_si         : 0.3431273480 ####\n",
      "#### current_price4pmsi : 294.3513555206 ####\n",
      "---- call predicitno functino shl_pm ----\n",
      "\n",
      "<<<< Record No.:  1843 >>>>\n",
      "2017-07\n",
      "11:29:13\n",
      "90600\n",
      "---- Pre-Process ---\n",
      "#### current_datetime   : 2017-07 11:29:13 ####\n",
      "#### current_price4pm   : 201 ####\n",
      "#### current_si         : 0.3510740950 ####\n",
      "#### current_price4pmsi : 572.5287136324 ####\n",
      "---- call predicitno functino shl_pm ----\n",
      "\n",
      "<<<< Record No.:  1844 >>>>\n",
      "2017-07\n",
      "11:29:14\n",
      "90600\n",
      "---- Pre-Process ---\n",
      "#### current_datetime   : 2017-07 11:29:14 ####\n",
      "#### current_price4pm   : 201 ####\n",
      "#### current_si         : 0.3706555480 ####\n",
      "#### current_price4pmsi : 542.2824535733 ####\n",
      "---- call predicitno functino shl_pm ----\n",
      "\n",
      "<<<< Record No.:  1845 >>>>\n",
      "2017-07\n",
      "11:29:15\n",
      "90600\n",
      "---- Pre-Process ---\n",
      "#### current_datetime   : 2017-07 11:29:15 ####\n",
      "#### current_price4pm   : 201 ####\n",
      "#### current_si         : 0.4011467510 ####\n",
      "#### current_price4pmsi : 501.0635122905 ####\n",
      "---- call predicitno functino shl_pm ----\n",
      "\n",
      "<<<< Record No.:  1846 >>>>\n",
      "2017-07\n",
      "11:29:16\n",
      "90700\n",
      "---- Pre-Process ---\n",
      "#### current_datetime   : 2017-07 11:29:16 ####\n",
      "#### current_price4pm   : 301 ####\n",
      "#### current_si         : 0.4120902590 ####\n",
      "#### current_price4pmsi : 730.4225067839 ####\n",
      "---- call predicitno functino shl_pm ----\n",
      "\n",
      "<<<< Record No.:  1847 >>>>\n",
      "2017-07\n",
      "11:29:17\n",
      "90700\n",
      "---- Pre-Process ---\n",
      "#### current_datetime   : 2017-07 11:29:17 ####\n",
      "#### current_price4pm   : 301 ####\n",
      "#### current_si         : 0.4535685080 ####\n",
      "#### current_price4pmsi : 663.6263203705 ####\n",
      "---- call predicitno functino shl_pm ----\n",
      "\n",
      "<<<< Record No.:  1848 >>>>\n",
      "2017-07\n",
      "11:29:18\n",
      "90700\n",
      "---- Pre-Process ---\n",
      "#### current_datetime   : 2017-07 11:29:18 ####\n",
      "#### current_price4pm   : 301 ####\n",
      "#### current_si         : 0.4836754840 ####\n",
      "#### current_price4pmsi : 622.3180830062 ####\n",
      "---- call predicitno functino shl_pm ----\n",
      "\n",
      "<<<< Record No.:  1849 >>>>\n",
      "2017-07\n",
      "11:29:19\n",
      "90700\n",
      "---- Pre-Process ---\n",
      "#### current_datetime   : 2017-07 11:29:19 ####\n",
      "#### current_price4pm   : 301 ####\n",
      "#### current_si         : 0.5045423610 ####\n",
      "#### current_price4pmsi : 596.5802344196 ####\n",
      "---- call predicitno functino shl_pm ----\n",
      "\n",
      "<<<< Record No.:  1850 >>>>\n",
      "2017-07\n",
      "11:29:20\n",
      "90700\n",
      "---- Pre-Process ---\n",
      "#### current_datetime   : 2017-07 11:29:20 ####\n",
      "#### current_price4pm   : 301 ####\n",
      "#### current_si         : 0.5273150370 ####\n",
      "#### current_price4pmsi : 570.8162651921 ####\n",
      "---- call predicitno functino shl_pm ----\n",
      "\n",
      "<<<< Record No.:  1851 >>>>\n",
      "2017-07\n",
      "11:29:21\n",
      "90700\n",
      "---- Pre-Process ---\n",
      "#### current_datetime   : 2017-07 11:29:21 ####\n",
      "#### current_price4pm   : 301 ####\n",
      "#### current_si         : 0.5666965740 ####\n",
      "#### current_price4pmsi : 531.1484378234 ####\n",
      "---- call predicitno functino shl_pm ----\n",
      "\n",
      "<<<< Record No.:  1852 >>>>\n",
      "2017-07\n",
      "11:29:22\n",
      "90700\n",
      "---- Pre-Process ---\n",
      "#### current_datetime   : 2017-07 11:29:22 ####\n",
      "#### current_price4pm   : 301 ####\n",
      "#### current_si         : 0.5783832890 ####\n",
      "#### current_price4pmsi : 520.4161422444 ####\n",
      "---- call predicitno functino shl_pm ----\n",
      "\n",
      "<<<< Record No.:  1853 >>>>\n",
      "2017-07\n",
      "11:29:23\n",
      "90700\n",
      "---- Pre-Process ---\n",
      "#### current_datetime   : 2017-07 11:29:23 ####\n",
      "#### current_price4pm   : 301 ####\n",
      "#### current_si         : 0.5903581650 ####\n",
      "#### current_price4pmsi : 509.8599762739 ####\n",
      "---- call predicitno functino shl_pm ----\n",
      "\n",
      "<<<< Record No.:  1854 >>>>\n",
      "2017-07\n",
      "11:29:24\n",
      "90700\n",
      "---- Pre-Process ---\n",
      "#### current_datetime   : 2017-07 11:29:24 ####\n",
      "#### current_price4pm   : 301 ####\n",
      "#### current_si         : 0.6203383340 ####\n",
      "#### current_price4pmsi : 485.2190869120 ####\n",
      "---- call predicitno functino shl_pm ----\n",
      "\n",
      "<<<< Record No.:  1855 >>>>\n",
      "2017-07\n",
      "11:29:25\n",
      "90700\n",
      "---- Pre-Process ---\n",
      "#### current_datetime   : 2017-07 11:29:25 ####\n",
      "#### current_price4pm   : 301 ####\n",
      "#### current_si         : 0.6624022500 ####\n",
      "#### current_price4pmsi : 454.4066690595 ####\n",
      "---- call predicitno functino shl_pm ----\n",
      "\n",
      "<<<< Record No.:  1856 >>>>\n",
      "2017-07\n",
      "11:29:26\n",
      "90700\n",
      "---- Pre-Process ---\n",
      "#### current_datetime   : 2017-07 11:29:26 ####\n",
      "#### current_price4pm   : 301 ####\n",
      "#### current_si         : 0.6803182270 ####\n",
      "#### current_price4pmsi : 442.4400053594 ####\n",
      "---- call predicitno functino shl_pm ----\n",
      "\n",
      "<<<< Record No.:  1857 >>>>\n",
      "2017-07\n",
      "11:29:27\n",
      "90700\n",
      "---- Pre-Process ---\n",
      "#### current_datetime   : 2017-07 11:29:27 ####\n",
      "#### current_price4pm   : 301 ####\n",
      "#### current_si         : 0.7013944910 ####\n",
      "#### current_price4pmsi : 429.1450871974 ####\n"
     ]
    },
    {
     "name": "stdout",
     "output_type": "stream",
     "text": [
      "---- call predicitno functino shl_pm ----\n",
      "\n",
      "<<<< Record No.:  1858 >>>>\n",
      "2017-07\n",
      "11:29:28\n",
      "90700\n",
      "---- Pre-Process ---\n",
      "#### current_datetime   : 2017-07 11:29:28 ####\n",
      "#### current_price4pm   : 301 ####\n",
      "#### current_si         : 0.7261122680 ####\n",
      "#### current_price4pmsi : 414.5364474134 ####\n",
      "---- call predicitno functino shl_pm ----\n",
      "\n",
      "<<<< Record No.:  1859 >>>>\n",
      "2017-07\n",
      "11:29:29\n",
      "90700\n",
      "---- Pre-Process ---\n",
      "#### current_datetime   : 2017-07 11:29:29 ####\n",
      "#### current_price4pm   : 301 ####\n",
      "#### current_si         : 0.7412284280 ####\n",
      "#### current_price4pmsi : 406.0826442021 ####\n",
      "---- call predicitno functino shl_pm ----\n",
      "\n",
      "<<<< Record No.:  1860 >>>>\n",
      "2017-07\n",
      "11:29:30\n",
      "90700\n",
      "---- Pre-Process ---\n",
      "#### current_datetime   : 2017-07 11:29:30 ####\n",
      "#### current_price4pm   : 301 ####\n",
      "#### current_si         : 0.7848751150 ####\n",
      "#### current_price4pmsi : 383.5005012231 ####\n",
      "---- call predicitno functino shl_pm ----\n",
      "\n",
      "<<<< Record No.:  1861 >>>>\n",
      "2017-07\n",
      "11:29:31\n",
      "90700\n",
      "---- Pre-Process ---\n",
      "#### current_datetime   : 2017-07 11:29:31 ####\n",
      "#### current_price4pm   : 301 ####\n",
      "#### current_si         : 0.7883406290 ####\n",
      "#### current_price4pmsi : 381.8146482972 ####\n",
      "---- call predicitno functino shl_pm ----\n",
      "\n",
      "<<<< Record No.:  1862 >>>>\n",
      "2017-07\n",
      "11:29:32\n",
      "90700\n",
      "---- Pre-Process ---\n",
      "#### current_datetime   : 2017-07 11:29:32 ####\n",
      "#### current_price4pm   : 301 ####\n",
      "#### current_si         : 0.8143918490 ####\n",
      "#### current_price4pmsi : 369.6009486952 ####\n",
      "---- call predicitno functino shl_pm ----\n",
      "\n",
      "<<<< Record No.:  1863 >>>>\n",
      "2017-07\n",
      "11:29:33\n",
      "90700\n",
      "---- Pre-Process ---\n",
      "#### current_datetime   : 2017-07 11:29:33 ####\n",
      "#### current_price4pm   : 301 ####\n",
      "#### current_si         : 0.8351005610 ####\n",
      "#### current_price4pmsi : 360.4356338111 ####\n",
      "---- call predicitno functino shl_pm ----\n",
      "\n",
      "<<<< Record No.:  1864 >>>>\n",
      "2017-07\n",
      "11:29:34\n",
      "90700\n",
      "---- Pre-Process ---\n",
      "#### current_datetime   : 2017-07 11:29:34 ####\n",
      "#### current_price4pm   : 301 ####\n",
      "#### current_si         : 0.8670445380 ####\n",
      "#### current_price4pmsi : 347.1563302784 ####\n",
      "---- call predicitno functino shl_pm ----\n",
      "\n",
      "<<<< Record No.:  1865 >>>>\n",
      "2017-07\n",
      "11:29:35\n",
      "90800\n",
      "---- Pre-Process ---\n",
      "#### current_datetime   : 2017-07 11:29:35 ####\n",
      "#### current_price4pm   : 401 ####\n",
      "#### current_si         : 0.9216129500 ####\n",
      "#### current_price4pmsi : 435.1067332550 ####\n",
      "---- call predicitno functino shl_pm ----\n",
      "\n",
      "<<<< Record No.:  1866 >>>>\n",
      "2017-07\n",
      "11:29:36\n",
      "90800\n",
      "---- Pre-Process ---\n",
      "#### current_datetime   : 2017-07 11:29:36 ####\n",
      "#### current_price4pm   : 401 ####\n",
      "#### current_si         : 0.9539289700 ####\n",
      "#### current_price4pmsi : 420.3667281433 ####\n",
      "---- call predicitno functino shl_pm ----\n",
      "\n",
      "<<<< Record No.:  1867 >>>>\n",
      "2017-07\n",
      "11:29:37\n",
      "90900\n",
      "---- Pre-Process ---\n",
      "#### current_datetime   : 2017-07 11:29:37 ####\n",
      "#### current_price4pm   : 501 ####\n",
      "#### current_si         : 0.9779660700 ####\n",
      "#### current_price4pmsi : 512.2877115767 ####\n",
      "---- call predicitno functino shl_pm ----\n",
      "\n",
      "<<<< Record No.:  1868 >>>>\n",
      "2017-07\n",
      "11:29:38\n",
      "91000\n",
      "---- Pre-Process ---\n",
      "#### current_datetime   : 2017-07 11:29:38 ####\n",
      "#### current_price4pm   : 601 ####\n",
      "#### current_si         : 0.9935136330 ####\n",
      "#### current_price4pmsi : 604.9237574982 ####\n",
      "---- call predicitno functino shl_pm ----\n",
      "\n",
      "<<<< Record No.:  1869 >>>>\n",
      "2017-07\n",
      "11:29:39\n",
      "91000\n",
      "---- Pre-Process ---\n",
      "#### current_datetime   : 2017-07 11:29:39 ####\n",
      "#### current_price4pm   : 601 ####\n",
      "#### current_si         : 1.0325517050 ####\n",
      "#### current_price4pmsi : 582.0531766978 ####\n",
      "---- call predicitno functino shl_pm ----\n",
      "\n",
      "<<<< Record No.:  1870 >>>>\n",
      "2017-07\n",
      "11:29:40\n",
      "91000\n",
      "---- Pre-Process ---\n",
      "#### current_datetime   : 2017-07 11:29:40 ####\n",
      "#### current_price4pm   : 601 ####\n",
      "#### current_si         : 1.0762695320 ####\n",
      "#### current_price4pmsi : 558.4103072055 ####\n",
      "---- call predicitno functino shl_pm ----\n",
      "\n",
      "<<<< Record No.:  1871 >>>>\n",
      "2017-07\n",
      "11:29:41\n",
      "91000\n",
      "---- Pre-Process ---\n",
      "#### current_datetime   : 2017-07 11:29:41 ####\n",
      "#### current_price4pm   : 601 ####\n",
      "#### current_si         : 1.1032848210 ####\n",
      "#### current_price4pmsi : 544.7369424110 ####\n",
      "---- call predicitno functino shl_pm ----\n",
      "\n",
      "<<<< Record No.:  1872 >>>>\n",
      "2017-07\n",
      "11:29:42\n",
      "91000\n",
      "---- Pre-Process ---\n",
      "#### current_datetime   : 2017-07 11:29:42 ####\n",
      "#### current_price4pm   : 601 ####\n",
      "#### current_si         : 1.1629896100 ####\n",
      "#### current_price4pmsi : 516.7715986732 ####\n",
      "---- call predicitno functino shl_pm ----\n",
      "\n",
      "<<<< Record No.:  1873 >>>>\n",
      "2017-07\n",
      "11:29:43\n",
      "91000\n",
      "---- Pre-Process ---\n",
      "#### current_datetime   : 2017-07 11:29:43 ####\n",
      "#### current_price4pm   : 601 ####\n",
      "#### current_si         : 1.2717913130 ####\n",
      "#### current_price4pmsi : 472.5618062151 ####\n",
      "---- call predicitno functino shl_pm ----\n",
      "\n",
      "<<<< Record No.:  1874 >>>>\n",
      "2017-07\n",
      "11:29:44\n",
      "91100\n",
      "---- Pre-Process ---\n",
      "#### current_datetime   : 2017-07 11:29:44 ####\n",
      "#### current_price4pm   : 701 ####\n",
      "#### current_si         : 1.3866613510 ####\n",
      "#### current_price4pmsi : 505.5307840624 ####\n",
      "---- call predicitno functino shl_pm ----\n",
      "\n",
      "<<<< Record No.:  1875 >>>>\n",
      "2017-07\n",
      "11:29:45\n",
      "91100\n",
      "---- Pre-Process ---\n",
      "#### current_datetime   : 2017-07 11:29:45 ####\n",
      "#### current_price4pm   : 701 ####\n",
      "#### current_si         : 1.4370894140 ####\n",
      "#### current_price4pmsi : 487.7914993813 ####\n",
      "---- call predicitno functino shl_pm ----\n",
      "\n",
      "<<<< Record No.:  1876 >>>>\n",
      "2017-07\n",
      "11:29:46\n",
      "91200\n",
      "---- Pre-Process ---\n",
      "#### current_datetime   : 2017-07 11:29:46 ####\n",
      "#### current_price4pm   : 801 ####\n",
      "#### current_si         : 1.5686206330 ####\n",
      "#### current_price4pmsi : 510.6397194764 ####\n",
      "---- call predicitno functino shl_pm ----\n",
      "\n",
      "<<<< Record No.:  1877 >>>>\n",
      "2017-07\n",
      "11:29:47\n",
      "91300\n",
      "---- Pre-Process ---\n",
      "#### current_datetime   : 2017-07 11:29:47 ####\n",
      "#### current_price4pm   : 901 ####\n",
      "#### current_si         : 1.6413910300 ####\n",
      "#### current_price4pmsi : 548.9246520374 ####\n",
      "---- call predicitno functino shl_pm ----\n",
      "\n",
      "<<<< Record No.:  1878 >>>>\n",
      "2017-07\n",
      "11:29:48\n",
      "91400\n",
      "---- Pre-Process ---\n",
      "#### current_datetime   : 2017-07 11:29:48 ####\n",
      "#### current_price4pm   : 1001 ####\n",
      "#### current_si         : 1.7490712830 ####\n",
      "#### current_price4pmsi : 572.3037189674 ####\n",
      "---- call predicitno functino shl_pm ----\n",
      "\n",
      "<<<< Record No.:  1879 >>>>\n",
      "2017-07\n",
      "11:29:49\n",
      "91400\n",
      "---- Pre-Process ---\n",
      "#### current_datetime   : 2017-07 11:29:49 ####\n",
      "#### current_price4pm   : 1001 ####\n",
      "#### current_si         : 1.7897347710 ####\n",
      "#### current_price4pmsi : 559.3007501557 ####\n",
      "---- call predicitno functino shl_pm ----\n",
      "\n",
      "<<<< Record No.:  1880 >>>>\n",
      "2017-07\n",
      "11:29:50\n",
      "91500\n",
      "---- Pre-Process ---\n",
      "#### current_datetime   : 2017-07 11:29:50 ####\n",
      "#### current_price4pm   : 1101 ####\n",
      "#### current_si         : 1.9329318490 ####\n",
      "#### current_price4pmsi : 569.6010444288 ####\n",
      "---- call predicitno functino shl_pm ----\n",
      "\n",
      "<<<< Record No.:  1881 >>>>\n",
      "2017-07\n",
      "11:29:51\n",
      "91600\n",
      "---- Pre-Process ---\n",
      "#### current_datetime   : 2017-07 11:29:51 ####\n",
      "#### current_price4pm   : 1201 ####\n",
      "#### current_si         : 2.0011852710 ####\n",
      "#### current_price4pmsi : 600.1443331630 ####\n",
      "---- call predicitno functino shl_pm ----\n",
      "\n",
      "<<<< Record No.:  1882 >>>>\n",
      "2017-07\n",
      "11:29:52\n",
      "91700\n",
      "---- Pre-Process ---\n",
      "#### current_datetime   : 2017-07 11:29:52 ####\n",
      "#### current_price4pm   : 1301 ####\n",
      "#### current_si         : 2.0661036070 ####\n",
      "#### current_price4pmsi : 629.6876863252 ####\n",
      "---- call predicitno functino shl_pm ----\n",
      "\n",
      "<<<< Record No.:  1883 >>>>\n",
      "2017-07\n",
      "11:29:53\n",
      "91800\n",
      "---- Pre-Process ---\n",
      "#### current_datetime   : 2017-07 11:29:53 ####\n",
      "#### current_price4pm   : 1401 ####\n",
      "#### current_si         : 2.1682095660 ####\n",
      "#### current_price4pmsi : 646.1552526883 ####\n",
      "---- call predicitno functino shl_pm ----\n",
      "\n",
      "<<<< Record No.:  1884 >>>>\n",
      "2017-07\n",
      "11:29:54\n",
      "91900\n",
      "---- Pre-Process ---\n",
      "#### current_datetime   : 2017-07 11:29:54 ####\n",
      "#### current_price4pm   : 1501 ####\n",
      "#### current_si         : 2.2903489060 ####\n",
      "#### current_price4pmsi : 655.3586643798 ####\n",
      "---- call predicitno functino shl_pm ----\n",
      "\n",
      "<<<< Record No.:  1885 >>>>\n",
      "2017-07\n",
      "11:29:55\n",
      "92000\n",
      "---- Pre-Process ---\n",
      "#### current_datetime   : 2017-07 11:29:55 ####\n",
      "#### current_price4pm   : 1601 ####\n",
      "#### current_si         : 2.4136021070 ####\n",
      "#### current_price4pmsi : 663.3239154692 ####\n",
      "---- call predicitno functino shl_pm ----\n",
      "\n",
      "<<<< Record No.:  1886 >>>>\n",
      "2017-07\n",
      "11:29:56\n",
      "92100\n",
      "---- Pre-Process ---\n",
      "#### current_datetime   : 2017-07 11:29:56 ####\n",
      "#### current_price4pm   : 1701 ####\n",
      "#### current_si         : 2.5506970550 ####\n",
      "#### current_price4pmsi : 666.8765295611 ####\n",
      "---- call predicitno functino shl_pm ----\n",
      "\n",
      "<<<< Record No.:  1887 >>>>\n",
      "2017-07\n",
      "11:29:57\n",
      "92100\n",
      "---- Pre-Process ---\n",
      "#### current_datetime   : 2017-07 11:29:57 ####\n",
      "#### current_price4pm   : 1701 ####\n",
      "#### current_si         : 2.7053908880 ####\n",
      "#### current_price4pmsi : 628.7446326314 ####\n"
     ]
    },
    {
     "name": "stdout",
     "output_type": "stream",
     "text": [
      "---- call predicitno functino shl_pm ----\n",
      "\n",
      "<<<< Record No.:  1888 >>>>\n",
      "2017-07\n",
      "11:29:58\n",
      "92100\n",
      "---- Pre-Process ---\n",
      "#### current_datetime   : 2017-07 11:29:58 ####\n",
      "#### current_price4pm   : 1701 ####\n",
      "#### current_si         : 2.7745487590 ####\n",
      "#### current_price4pmsi : 613.0726643323 ####\n",
      "---- call predicitno functino shl_pm ----\n",
      "\n",
      "<<<< Record No.:  1889 >>>>\n",
      "2017-07\n",
      "11:29:59\n",
      "92200\n",
      "---- Pre-Process ---\n",
      "#### current_datetime   : 2017-07 11:29:59 ####\n",
      "#### current_price4pm   : 1801 ####\n",
      "#### current_si         : 2.9291830210 ####\n",
      "#### current_price4pmsi : 614.8472072548 ####\n",
      "---- call predicitno functino shl_pm ----\n",
      "\n",
      "<<<< Record No.:  1890 >>>>\n",
      "2017-07\n",
      "11:30:00\n",
      "92200\n",
      "---- Pre-Process ---\n",
      "#### current_datetime   : 2017-07 11:30:00 ####\n",
      "#### current_price4pm   : 1801 ####\n",
      "#### current_si         : 3.0710424510 ####\n",
      "#### current_price4pmsi : 586.4458172545 ####\n",
      "---- call predicitno functino shl_pm ----\n"
     ]
    }
   ],
   "source": [
    "\n",
    "\n",
    "for i in range(1830-1, len(df_history_ts_process)): # use July 2015 data as simulatino\n",
    "    print('\\n<<<< Record No.: %5d >>>>' % i)\n",
    "    print(df_history_ts_process['ccyy-mm'][i]) # format: ccyy-mm\n",
    "    print(df_history_ts_process['time'][i]) # format: hh:mm:ss\n",
    "    print(df_history_ts_process['bid-price'][i]) # format: integer\n",
    "#     print(df_history_ts_process['ref-price'][i])\n",
    "    \n",
    "    # capture & calculate 11:29:00 bid price - 1 = base price\n",
    "    if df_history_ts_process['time'][i] == '11:29:00':\n",
    "        global_parm_base_price = df_history_ts_process['bid-price'][i] -1 \n",
    "        print('#### global_parm_base_price : %d ####' % global_parm_base_price)\n",
    "        \n",
    "        # wrtie initial 11:29:00 record into shl_pm prediction dataframe\n",
    "        df_shl_pm = pd.DataFrame()\n",
    "        df_shl_pm_current = {\n",
    "                             'ccyy-mm' : df_history_ts_process['ccyy-mm'][i]\n",
    "                            ,'time' : df_history_ts_process['time'][i]\n",
    "                            ,'bid' : df_history_ts_process['bid-price'][i]\n",
    "                            ,'datetime' : current_datetime\n",
    "                            ,'price4pm' : current_price4pm\n",
    "                            ,'SI' : current_si\n",
    "                            ,'price4pmsi' :  current_price4pmsi\n",
    "                            ,'pred_price' : -999\n",
    "                            ,'pred_price_rounded' : -999\n",
    "                            ,'pred_dynamic_increment' : -999 # +200 or + 300\n",
    "                            ,'pred_set_price_rounded' : -999 # pred_price_rounded + pred_dynamic_increment\n",
    "                            }                    \n",
    "\n",
    "        \n",
    "    print('---- Pre-Process ---')\n",
    "    # pre-process: ccyy-mm-hh:mm:ss\n",
    "    current_datetime = df_history_ts_process['ccyy-mm'][i] + ' ' + df_history_ts_process['time'][i]\n",
    "    current_price4pm = df_history_ts_process['bid-price'][i] -  global_parm_base_price\n",
    "    print('#### current_datetime   : %s ####' %  current_datetime)\n",
    "    print('#### current_price4pm   : %d ####' % current_price4pm)\n",
    "    \n",
    "    # get Seasonality-Index\n",
    "    current_si = fetech_si(df_history_ts_process['ccyy-mm'][i]\n",
    "                                         ,df_history_ts_process['time'][i]\n",
    "                                         ,df_parm_si)\n",
    "    print('#### current_si         : %0.10f ####' %  current_si)\n",
    "    # get de-seasoned price: price4pmsi\n",
    "    current_price4pmsi = current_price4pm / current_si\n",
    "    print('#### current_price4pmsi : %0.10f ####' % current_price4pmsi)\n",
    "    \n",
    "\n",
    "    print('---- call predicitno functino shl_pm ----')\n",
    "\n",
    "    # call predicitno functino shl_pm\n",
    "    \n",
    "    \n",
    "    # write results to shl_pm dataframe\n",
    "            \n",
    "    df_shl_pm_current = {\n",
    "                         'ccyy-mm' : df_history_ts_process['ccyy-mm'][i]\n",
    "                        ,'time' : df_history_ts_process['time'][i]\n",
    "                        ,'bid' : df_history_ts_process['bid-price'][i]\n",
    "                        ,'datetime' : current_datetime\n",
    "                        ,'price4pm' : current_price4pm\n",
    "                        ,'SI' : current_si\n",
    "                        ,'price4pmsi' :  current_price4pmsi\n",
    "                        ,'pred_price' : -999\n",
    "                        ,'pred_price_rounded' : -999\n",
    "                        ,'pred_dynamic_increment' : -999 # +200 or + 300\n",
    "                        ,'pred_set_price_rounded' : -999 # pred_price_rounded + pred_dynamic_increment\n",
    "                        }\n",
    "    df_shl_pm =  df_shl_pm.append(df_shl_pm_current, ignore_index=True)\n"
   ]
  },
  {
   "cell_type": "code",
   "execution_count": 91,
   "metadata": {},
   "outputs": [
    {
     "data": {
      "text/html": [
       "<div>\n",
       "<style>\n",
       "    .dataframe thead tr:only-child th {\n",
       "        text-align: right;\n",
       "    }\n",
       "\n",
       "    .dataframe thead th {\n",
       "        text-align: left;\n",
       "    }\n",
       "\n",
       "    .dataframe tbody tr th {\n",
       "        vertical-align: top;\n",
       "    }\n",
       "</style>\n",
       "<table border=\"1\" class=\"dataframe\">\n",
       "  <thead>\n",
       "    <tr style=\"text-align: right;\">\n",
       "      <th></th>\n",
       "      <th>SI</th>\n",
       "      <th>bid</th>\n",
       "      <th>ccyy-mm</th>\n",
       "      <th>datetime</th>\n",
       "      <th>pred_dynamic_increment</th>\n",
       "      <th>pred_price</th>\n",
       "      <th>pred_price_rounded</th>\n",
       "      <th>pred_set_price_rounded</th>\n",
       "      <th>price4pm</th>\n",
       "      <th>price4pmsi</th>\n",
       "      <th>time</th>\n",
       "    </tr>\n",
       "  </thead>\n",
       "  <tbody>\n",
       "    <tr>\n",
       "      <th>57</th>\n",
       "      <td>2.550697</td>\n",
       "      <td>92100.0</td>\n",
       "      <td>2017-07</td>\n",
       "      <td>2017-07 11:29:56</td>\n",
       "      <td>-999.0</td>\n",
       "      <td>-999.0</td>\n",
       "      <td>-999.0</td>\n",
       "      <td>-999.0</td>\n",
       "      <td>1701.0</td>\n",
       "      <td>666.876530</td>\n",
       "      <td>11:29:56</td>\n",
       "    </tr>\n",
       "    <tr>\n",
       "      <th>58</th>\n",
       "      <td>2.705391</td>\n",
       "      <td>92100.0</td>\n",
       "      <td>2017-07</td>\n",
       "      <td>2017-07 11:29:57</td>\n",
       "      <td>-999.0</td>\n",
       "      <td>-999.0</td>\n",
       "      <td>-999.0</td>\n",
       "      <td>-999.0</td>\n",
       "      <td>1701.0</td>\n",
       "      <td>628.744633</td>\n",
       "      <td>11:29:57</td>\n",
       "    </tr>\n",
       "    <tr>\n",
       "      <th>59</th>\n",
       "      <td>2.774549</td>\n",
       "      <td>92100.0</td>\n",
       "      <td>2017-07</td>\n",
       "      <td>2017-07 11:29:58</td>\n",
       "      <td>-999.0</td>\n",
       "      <td>-999.0</td>\n",
       "      <td>-999.0</td>\n",
       "      <td>-999.0</td>\n",
       "      <td>1701.0</td>\n",
       "      <td>613.072664</td>\n",
       "      <td>11:29:58</td>\n",
       "    </tr>\n",
       "    <tr>\n",
       "      <th>60</th>\n",
       "      <td>2.929183</td>\n",
       "      <td>92200.0</td>\n",
       "      <td>2017-07</td>\n",
       "      <td>2017-07 11:29:59</td>\n",
       "      <td>-999.0</td>\n",
       "      <td>-999.0</td>\n",
       "      <td>-999.0</td>\n",
       "      <td>-999.0</td>\n",
       "      <td>1801.0</td>\n",
       "      <td>614.847207</td>\n",
       "      <td>11:29:59</td>\n",
       "    </tr>\n",
       "    <tr>\n",
       "      <th>61</th>\n",
       "      <td>3.071042</td>\n",
       "      <td>92200.0</td>\n",
       "      <td>2017-07</td>\n",
       "      <td>2017-07 11:30:00</td>\n",
       "      <td>-999.0</td>\n",
       "      <td>-999.0</td>\n",
       "      <td>-999.0</td>\n",
       "      <td>-999.0</td>\n",
       "      <td>1801.0</td>\n",
       "      <td>586.445817</td>\n",
       "      <td>11:30:00</td>\n",
       "    </tr>\n",
       "  </tbody>\n",
       "</table>\n",
       "</div>"
      ],
      "text/plain": [
       "          SI      bid  ccyy-mm          datetime  pred_dynamic_increment  \\\n",
       "57  2.550697  92100.0  2017-07  2017-07 11:29:56                  -999.0   \n",
       "58  2.705391  92100.0  2017-07  2017-07 11:29:57                  -999.0   \n",
       "59  2.774549  92100.0  2017-07  2017-07 11:29:58                  -999.0   \n",
       "60  2.929183  92200.0  2017-07  2017-07 11:29:59                  -999.0   \n",
       "61  3.071042  92200.0  2017-07  2017-07 11:30:00                  -999.0   \n",
       "\n",
       "    pred_price  pred_price_rounded  pred_set_price_rounded  price4pm  \\\n",
       "57      -999.0              -999.0                  -999.0    1701.0   \n",
       "58      -999.0              -999.0                  -999.0    1701.0   \n",
       "59      -999.0              -999.0                  -999.0    1701.0   \n",
       "60      -999.0              -999.0                  -999.0    1801.0   \n",
       "61      -999.0              -999.0                  -999.0    1801.0   \n",
       "\n",
       "    price4pmsi      time  \n",
       "57  666.876530  11:29:56  \n",
       "58  628.744633  11:29:57  \n",
       "59  613.072664  11:29:58  \n",
       "60  614.847207  11:29:59  \n",
       "61  586.445817  11:30:00  "
      ]
     },
     "execution_count": 91,
     "metadata": {},
     "output_type": "execute_result"
    }
   ],
   "source": [
    "df_shl_pm.tail()"
   ]
  },
  {
   "cell_type": "code",
   "execution_count": null,
   "metadata": {
    "collapsed": true
   },
   "outputs": [],
   "source": []
  },
  {
   "cell_type": "code",
   "execution_count": null,
   "metadata": {
    "collapsed": true
   },
   "outputs": [],
   "source": []
  },
  {
   "cell_type": "code",
   "execution_count": null,
   "metadata": {
    "collapsed": true
   },
   "outputs": [],
   "source": []
  },
  {
   "cell_type": "markdown",
   "metadata": {},
   "source": [
    "\n",
    "# End of shl_sm"
   ]
  },
  {
   "cell_type": "code",
   "execution_count": null,
   "metadata": {
    "collapsed": true
   },
   "outputs": [],
   "source": [
    "\n",
    "# create global base price\n",
    "\n",
    "# create predictino results dataframe: shl_pm\n",
    "df_shl_pm = pd.DataFrame()\n"
   ]
  },
  {
   "cell_type": "code",
   "execution_count": null,
   "metadata": {
    "collapsed": true
   },
   "outputs": [],
   "source": [
    "# append into predictino results dataframe: shl_pm\n",
    "\n",
    "\n"
   ]
  },
  {
   "cell_type": "code",
   "execution_count": null,
   "metadata": {
    "collapsed": true
   },
   "outputs": [],
   "source": []
  },
  {
   "cell_type": "code",
   "execution_count": null,
   "metadata": {
    "collapsed": true
   },
   "outputs": [],
   "source": [
    "df_shl_pm = pd.DataFrame()"
   ]
  },
  {
   "cell_type": "code",
   "execution_count": 40,
   "metadata": {},
   "outputs": [],
   "source": [
    "\n",
    "d = {\n",
    "     'ccyy-mm' : df_history_ts_process['ccyy-mm'][1830]\n",
    "    ,'time' : df_history_ts_process['time'][1830]\n",
    "    ,'bid' : 1.8\n",
    "}\n"
   ]
  },
  {
   "cell_type": "code",
   "execution_count": 42,
   "metadata": {},
   "outputs": [],
   "source": [
    "df_shl_pm = df_shl_pm.append(d, ignore_index=True)"
   ]
  },
  {
   "cell_type": "code",
   "execution_count": 43,
   "metadata": {},
   "outputs": [
    {
     "data": {
      "text/html": [
       "<div>\n",
       "<style>\n",
       "    .dataframe thead tr:only-child th {\n",
       "        text-align: right;\n",
       "    }\n",
       "\n",
       "    .dataframe thead th {\n",
       "        text-align: left;\n",
       "    }\n",
       "\n",
       "    .dataframe tbody tr th {\n",
       "        vertical-align: top;\n",
       "    }\n",
       "</style>\n",
       "<table border=\"1\" class=\"dataframe\">\n",
       "  <thead>\n",
       "    <tr style=\"text-align: right;\">\n",
       "      <th></th>\n",
       "      <th>bid</th>\n",
       "      <th>ccyy-mm</th>\n",
       "      <th>time</th>\n",
       "    </tr>\n",
       "  </thead>\n",
       "  <tbody>\n",
       "    <tr>\n",
       "      <th>0</th>\n",
       "      <td>1.8</td>\n",
       "      <td>2017-07</td>\n",
       "      <td>11:29:00</td>\n",
       "    </tr>\n",
       "    <tr>\n",
       "      <th>1</th>\n",
       "      <td>1.8</td>\n",
       "      <td>2017-07</td>\n",
       "      <td>11:29:00</td>\n",
       "    </tr>\n",
       "  </tbody>\n",
       "</table>\n",
       "</div>"
      ],
      "text/plain": [
       "   bid  ccyy-mm      time\n",
       "0  1.8  2017-07  11:29:00\n",
       "1  1.8  2017-07  11:29:00"
      ]
     },
     "execution_count": 43,
     "metadata": {},
     "output_type": "execute_result"
    }
   ],
   "source": [
    "df_shl_pm"
   ]
  },
  {
   "cell_type": "code",
   "execution_count": null,
   "metadata": {
    "collapsed": true
   },
   "outputs": [],
   "source": []
  },
  {
   "cell_type": "code",
   "execution_count": null,
   "metadata": {
    "collapsed": true
   },
   "outputs": [],
   "source": []
  },
  {
   "cell_type": "code",
   "execution_count": null,
   "metadata": {
    "collapsed": true
   },
   "outputs": [],
   "source": []
  },
  {
   "cell_type": "markdown",
   "metadata": {},
   "source": [
    "# Start of prediction module: shl_pm"
   ]
  },
  {
   "cell_type": "code",
   "execution_count": null,
   "metadata": {
    "collapsed": true
   },
   "outputs": [],
   "source": []
  },
  {
   "cell_type": "code",
   "execution_count": null,
   "metadata": {
    "collapsed": true
   },
   "outputs": [],
   "source": []
  },
  {
   "cell_type": "code",
   "execution_count": null,
   "metadata": {
    "collapsed": true
   },
   "outputs": [],
   "source": []
  },
  {
   "cell_type": "code",
   "execution_count": null,
   "metadata": {
    "collapsed": true
   },
   "outputs": [],
   "source": []
  },
  {
   "cell_type": "code",
   "execution_count": null,
   "metadata": {
    "collapsed": true
   },
   "outputs": [],
   "source": []
  },
  {
   "cell_type": "markdown",
   "metadata": {},
   "source": [
    "# End of prediction module: shl_pm"
   ]
  },
  {
   "cell_type": "code",
   "execution_count": null,
   "metadata": {
    "collapsed": true
   },
   "outputs": [],
   "source": []
  },
  {
   "cell_type": "markdown",
   "metadata": {},
   "source": [
    "# [1] Import useful reference packages"
   ]
  },
  {
   "cell_type": "code",
   "execution_count": null,
   "metadata": {},
   "outputs": [],
   "source": [
    "# from __future__ import print_function, division\n",
    "%matplotlib inline\n",
    "import numpy as np\n",
    "import matplotlib.pyplot as plt\n",
    "import seaborn as sns; sns.set()\n",
    "import pandas as pd\n",
    "import operator\n",
    "from scipy import interp\n",
    "from itertools import cycle\n",
    "from sklearn import svm\n",
    "from sklearn.utils.validation import check_random_state\n",
    "from sklearn.model_selection import StratifiedKFold, cross_val_score\n",
    "from sklearn.preprocessing import StandardScaler\n",
    "\n",
    "from sklearn.ensemble import GradientBoostingRegressor\n",
    "from sklearn.ensemble import RandomForestRegressor\n",
    "from sklearn.ensemble import AdaBoostRegressor\n",
    "from sklearn.ensemble import ExtraTreesRegressor\n",
    "from sklearn.ensemble import BaggingRegressor\n",
    "from sklearn.linear_model import LinearRegression\n",
    "from sklearn.neighbors import KNeighborsRegressor\n",
    "from sklearn.ensemble import GradientBoostingClassifier\n",
    "from sklearn.ensemble import RandomForestClassifier\n",
    "from sklearn.ensemble import AdaBoostClassifier\n",
    "from sklearn.ensemble import ExtraTreesClassifier\n",
    "from sklearn.ensemble import BaggingClassifier\n",
    "from sklearn.linear_model import LogisticRegression\n",
    "from sklearn.neighbors import KNeighborsClassifier\n",
    "\n",
    "from sklearn.metrics import roc_curve, auc\n",
    "from statsmodels.graphics.mosaicplot import mosaic\n",
    "print(__doc__)"
   ]
  },
  {
   "cell_type": "markdown",
   "metadata": {},
   "source": [
    "# [2] Data pre-porcessing\n",
    "Explore and visualize data"
   ]
  },
  {
   "cell_type": "markdown",
   "metadata": {},
   "source": [
    "### Parameters"
   ]
  },
  {
   "cell_type": "code",
   "execution_count": null,
   "metadata": {
    "scrolled": true
   },
   "outputs": [],
   "source": [
    "parm_calculate_base_price_second = 15 # Use the current month's bid-price as base-price at this seconds. Later to derive increment-price\n",
    "parm_calculate_target_second = 7 # How many seconds in future to predict: target variable\n",
    "parm_calculate_prev_bp = 15 # Number of previous price/increment to include, i.e. previous 2sec, 3sec, 4sec, 5sec ... 15sec\n",
    "parm_calculate_mv = 15 # Number of  previous price/increment Moving Average to calculate, i.e. previous 2sec, 3sec, 4sec, 5sec ... 15sec\n",
    "parm_calculate_prev_month = 3 # Number of previous month to include (need to remove earliest x month from training data)\n",
    "print('parm_calculate_base_price_second : %3d seconds' % parm_calculate_base_price_second)\n",
    "print('parm_calculate_target_second     : %3d seconds' % parm_calculate_target_second)\n",
    "print('parm_calculate_prev_bp           : %3d seconds' % parm_calculate_prev_bp)\n",
    "print('parm_calculate_mv                : %3d seconds' % parm_calculate_mv)\n",
    "print('parm_calculate_prev_month        : %3d months' % parm_calculate_prev_month)\n",
    "\n",
    "print('' )\n",
    "parm_ts_cycle = 61 # seconds/records per month\n",
    "print('parm_ts_cycle                    : %3d seconds' % parm_ts_cycle)\n",
    "parm_ts_month = int(len(df_history_ts_process) / parm_ts_cycle)\n",
    "print('parm_ts_month                    : %3d months' %  parm_ts_month)\n",
    "\n",
    "parm_record_cut_row_head = max(parm_calculate_base_price_second, parm_calculate_prev_bp, parm_calculate_mv)\n",
    "parm_record_cut_row_tail = parm_calculate_target_second\n",
    "parm_record_cut_month_head = parm_calculate_prev_month + 1\n",
    "\n",
    "parm_ts_valid_cycle = parm_ts_cycle - parm_record_cut_row_head - parm_record_cut_row_tail\n",
    "print('parm_ts_valid_cycle              : %3d seconds' % parm_ts_valid_cycle)\n",
    "parm_ts_valid_month = parm_ts_month - parm_record_cut_month_head\n",
    "print('parm_ts_valid_month              : %3d months' % parm_ts_valid_month)\n",
    "\n",
    "if parm_record_cut_month_head < 10:\n",
    "    parm_record_cut_ccyy = pd.to_datetime('2015-0'+str(parm_record_cut_month_head))\n",
    "else:\n",
    "    parm_record_cut_ccyy = pd.to_datetime('2015-'+str(parm_record_cut_month_head))\n",
    "\n",
    "print('' )\n",
    "print('parm_record_cut_ccyy             : %s' % parm_record_cut_ccyy)\n",
    "\n",
    "print('parm_record_cut_month_head       : %3d months' % parm_record_cut_month_head)\n",
    "print('parm_record_cut_row_head         : %3d seconds' % parm_record_cut_row_head)\n",
    "print('parm_record_cut_row_tail         : %3d seconds' % parm_record_cut_row_tail)\n",
    "print('' )\n",
    "\n",
    "\n",
    "\n"
   ]
  },
  {
   "cell_type": "code",
   "execution_count": null,
   "metadata": {},
   "outputs": [],
   "source": [
    "df_history_ts_process.head()"
   ]
  },
  {
   "cell_type": "code",
   "execution_count": null,
   "metadata": {
    "collapsed": true
   },
   "outputs": [],
   "source": []
  },
  {
   "cell_type": "markdown",
   "metadata": {},
   "source": [
    "### Prepare derived features"
   ]
  },
  {
   "cell_type": "markdown",
   "metadata": {},
   "source": [
    "### Process: df_history_ts_process"
   ]
  },
  {
   "cell_type": "code",
   "execution_count": null,
   "metadata": {
    "collapsed": true
   },
   "outputs": [],
   "source": [
    "# date of current month\n",
    "df_history_ts_process['date-curr'] = df_history_ts_process.apply(lambda row: pd.to_datetime(row['ccyy-mm']), axis=1)\n",
    "\n",
    "# date of previous month\n",
    "df_history_ts_process['date-prev'] = df_history_ts_process.apply(lambda row: row['date-curr'] - pd.offsets.MonthBegin(1), axis=1)\n",
    "\n",
    "\n",
    "# Year\n",
    "df_history_ts_process['year'] = df_history_ts_process.apply(lambda row: row['ccyy-mm'][0:4], axis=1)\n",
    "\n",
    "# Month\n",
    "df_history_ts_process['month'] = df_history_ts_process.apply(lambda row: row['ccyy-mm'][5:7], axis=1)\n",
    "\n",
    "# Hour\n",
    "df_history_ts_process['hour'] = df_history_ts_process.apply(lambda row: row['time'][0:2], axis=1)\n",
    "\n",
    "# Minute\n",
    "df_history_ts_process['minute'] = df_history_ts_process.apply(lambda row: row['time'][3:5], axis=1)\n",
    "\n",
    "# Second\n",
    "df_history_ts_process['second'] = df_history_ts_process.apply(lambda row: row['time'][6:8], axis=1)\n",
    "\n",
    "\n",
    "# datetime of current month\n",
    "df_history_ts_process['datetime-curr'] = df_history_ts_process.apply(lambda row: str(row['date-curr']) + ' ' + row['time'], axis=1)\n",
    "\n",
    "# datetime of previous month\n",
    "df_history_ts_process['datetime-prev'] = df_history_ts_process.apply(lambda row: str(row['date-prev']) + ' ' + row['time'], axis=1)\n"
   ]
  },
  {
   "cell_type": "code",
   "execution_count": null,
   "metadata": {},
   "outputs": [],
   "source": [
    "df_history_ts_process.tail()"
   ]
  },
  {
   "cell_type": "code",
   "execution_count": null,
   "metadata": {
    "collapsed": true,
    "scrolled": true
   },
   "outputs": [],
   "source": [
    "# df_history_ts_process\n",
    "# df_history_ts_process[1768:]"
   ]
  },
  {
   "cell_type": "code",
   "execution_count": null,
   "metadata": {
    "scrolled": false
   },
   "outputs": [],
   "source": [
    "# new ['base-price']\n",
    "gap = 1 # only one new feature/column\n",
    "\n",
    "for gap in range(1, gap+1):\n",
    "    col_name = 'base-price'+str(parm_calculate_base_price_second)+'sec'\n",
    "    col_name_base_price = col_name\n",
    "    col_data = pd.DataFrame(columns=[col_name])\n",
    "    print('Creating : ', col_name)  \n",
    "\n",
    "    for month in range(0, parm_ts_month):\n",
    "        for i in range(0, parm_ts_cycle):\n",
    "            col_data.loc[month*parm_ts_cycle+i] = df_history_ts_process['bid-price'][month*parm_ts_cycle+parm_calculate_base_price_second]\n",
    "  \n",
    "    df_history_ts_process[col_name] = col_data\n",
    "\n",
    "print('Total records processed : ', len(col_data))  "
   ]
  },
  {
   "cell_type": "code",
   "execution_count": null,
   "metadata": {
    "collapsed": true,
    "scrolled": true
   },
   "outputs": [],
   "source": [
    "# df_history_ts_process\n",
    "# df_history_ts_process[1768:]"
   ]
  },
  {
   "cell_type": "code",
   "execution_count": null,
   "metadata": {
    "collapsed": true
   },
   "outputs": [],
   "source": [
    "# new ['increment-price'] = ['bid-price'] - ['base-price']\n",
    "\n",
    "df_history_ts_process['increment-price'] = df_history_ts_process.apply(lambda row: row['bid-price'] - row[col_name_base_price], axis=1)"
   ]
  },
  {
   "cell_type": "code",
   "execution_count": null,
   "metadata": {
    "collapsed": true,
    "scrolled": true
   },
   "outputs": [],
   "source": [
    "# df_history_ts_process\n",
    "# df_history_ts_process[1768:]"
   ]
  },
  {
   "cell_type": "code",
   "execution_count": null,
   "metadata": {},
   "outputs": [],
   "source": [
    "plt.figure()\n",
    "plt.plot(df_history_ts_process['bid-price'])\n",
    "plt.plot(df_history_ts_process[col_name_base_price])\n",
    "plt.plot()\n",
    "plt.figure()\n",
    "plt.plot(df_history_ts_process['increment-price'])\n",
    "plt.plot()"
   ]
  },
  {
   "cell_type": "markdown",
   "metadata": {
    "collapsed": true
   },
   "source": [
    "### ['increment-price-target']"
   ]
  },
  {
   "cell_type": "code",
   "execution_count": null,
   "metadata": {},
   "outputs": [],
   "source": [
    "# previous N sec ['increment-price-target']\n",
    "\n",
    "for gap in range(1, 2):\n",
    "    col_name = 'increment-price-target'\n",
    "    col_data = pd.DataFrame(columns=[col_name])\n",
    "    print('Creating : ', col_name)  \n",
    "\n",
    "    for month in range(0, parm_ts_month):\n",
    "    #     print('month : ', month)\n",
    "        for i in range(0, (parm_ts_cycle - parm_calculate_target_second)):\n",
    "            col_data.loc[month*parm_ts_cycle+i] = df_history_ts_process['increment-price'][month*parm_ts_cycle+i+parm_calculate_target_second]\n",
    "        for i in range((parm_ts_cycle - parm_calculate_target_second), parm_ts_cycle):\n",
    "            col_data.loc[month*parm_ts_cycle+i] = 0\n",
    "  \n",
    "    df_history_ts_process[col_name] = col_data\n",
    "\n",
    "print('Total records processed : ', len(col_data))  "
   ]
  },
  {
   "cell_type": "code",
   "execution_count": null,
   "metadata": {
    "scrolled": false
   },
   "outputs": [],
   "source": [
    "plt.figure()\n",
    "plt.plot(df_history_ts_process['increment-price'])\n",
    "plt.plot(df_history_ts_process['increment-price-target'])\n",
    "plt.plot()\n",
    "\n",
    "plt.figure()\n",
    "plt.plot(df_history_ts_process['increment-price'][1768:])\n",
    "plt.plot(df_history_ts_process['increment-price-target'][1768:])\n",
    "plt.plot()"
   ]
  },
  {
   "cell_type": "code",
   "execution_count": null,
   "metadata": {
    "collapsed": true
   },
   "outputs": [],
   "source": []
  },
  {
   "cell_type": "code",
   "execution_count": null,
   "metadata": {
    "scrolled": false
   },
   "outputs": [],
   "source": [
    "# previous 'parm_calculate_prev_bp' sec ['increment-price']\n",
    "gap = parm_calculate_prev_bp\n",
    "\n",
    "for gap in range(1, gap+1):\n",
    "    col_name = 'increment-price-prev'+str(gap)+'sec'\n",
    "    col_data = pd.DataFrame(columns=[col_name])\n",
    "#     col_data_zeros = pd.DataFrame({col_name: np.zeros(gap)})\n",
    "    print('Creating : ', col_name)  \n",
    "\n",
    "    for month in range(0, parm_ts_month):\n",
    "    #     print('month : ', month)\n",
    "#         col_data.append(col_data_zeros)\n",
    "        for i in range(0, gap):\n",
    "            col_data.loc[month*parm_ts_cycle+i] = 0\n",
    "        for i in range(gap, parm_ts_cycle):\n",
    "            col_data.loc[month*parm_ts_cycle+i] = df_history_ts_process['increment-price'][month*parm_ts_cycle+i-gap]\n",
    "  \n",
    "    df_history_ts_process[col_name] = col_data\n",
    "\n",
    "print('Total records processed : ', len(col_data))  "
   ]
  },
  {
   "cell_type": "code",
   "execution_count": null,
   "metadata": {
    "scrolled": true
   },
   "outputs": [],
   "source": [
    "# previous 'parm_calculate_mv' sec Moving Average ['increment-price']\n",
    "\n",
    "gap = parm_calculate_mv\n",
    "\n",
    "for gap in range(2, gap+1): # MV starts from 2 seconds, till parm_calculate_mv\n",
    "    col_name = 'increment-price-mv'+str(gap)+'sec'\n",
    "    col_data = pd.DataFrame(columns=[col_name])\n",
    "    print('Creating : ', col_name)  \n",
    "\n",
    "    for month in range(0, parm_ts_month):\n",
    "    #     print('month : ', month)\n",
    "        for i in range(0, gap):\n",
    "            col_data.loc[month*parm_ts_cycle+i] = 0\n",
    "        for i in range(gap, parm_ts_cycle):\n",
    "            col_data.loc[month*parm_ts_cycle+i] = \\\n",
    "            np.mean(df_history_ts_process['increment-price'][month*parm_ts_cycle+i-gap:month*parm_ts_cycle+i])\n",
    "  \n",
    "    df_history_ts_process[col_name] = col_data\n",
    "\n",
    "print('Total records processed : ', len(col_data)) "
   ]
  },
  {
   "cell_type": "code",
   "execution_count": null,
   "metadata": {
    "collapsed": true,
    "scrolled": true
   },
   "outputs": [],
   "source": [
    "# df_history_ts_process[1768:]"
   ]
  },
  {
   "cell_type": "code",
   "execution_count": null,
   "metadata": {},
   "outputs": [],
   "source": [
    "plt.figure()\n",
    "plt.plot(df_history_ts_process['increment-price'][1768:])\n",
    "plt.plot(df_history_ts_process['increment-price-prev3sec'][1768:])\n",
    "plt.plot(df_history_ts_process['increment-price-prev7sec'][1768:])\n",
    "plt.plot(df_history_ts_process['increment-price-prev11sec'][1768:])\n",
    "plt.plot(df_history_ts_process['increment-price-prev15sec'][1768:])\n",
    "plt.plot()"
   ]
  },
  {
   "cell_type": "code",
   "execution_count": null,
   "metadata": {},
   "outputs": [],
   "source": [
    "plt.figure()\n",
    "plt.plot(df_history_ts_process['increment-price'][1768:])\n",
    "plt.plot(df_history_ts_process['increment-price-mv3sec'][1768:])\n",
    "plt.plot(df_history_ts_process['increment-price-mv7sec'][1768:])\n",
    "plt.plot(df_history_ts_process['increment-price-mv11sec'][1768:])\n",
    "plt.plot(df_history_ts_process['increment-price-mv15sec'][1768:])\n",
    "plt.plot()"
   ]
  },
  {
   "cell_type": "code",
   "execution_count": null,
   "metadata": {
    "collapsed": true
   },
   "outputs": [],
   "source": []
  },
  {
   "cell_type": "markdown",
   "metadata": {
    "collapsed": true
   },
   "source": [
    "### Process: df_history_table_process"
   ]
  },
  {
   "cell_type": "code",
   "execution_count": null,
   "metadata": {},
   "outputs": [],
   "source": [
    "df_history_table_process.tail()"
   ]
  },
  {
   "cell_type": "code",
   "execution_count": null,
   "metadata": {
    "collapsed": true
   },
   "outputs": [],
   "source": [
    "# date of current month\n",
    "df_history_table_process['date-curr'] = df_history_table_process.apply(lambda row: pd.to_datetime(row['ccyy-mm']), axis=1)\n",
    "df_history_table_process['d-avg-low-price'] = df_history_table_process.apply(lambda row: row['deal-price-avg'] - row['deal-price-low'], axis=1)\n",
    "df_history_table_process['ratio-bid'] = df_history_table_process.apply(lambda row: row['volume-plate'] / row['volume-bidder'], axis=1)"
   ]
  },
  {
   "cell_type": "code",
   "execution_count": null,
   "metadata": {},
   "outputs": [],
   "source": [
    "df_history_table_process.tail()"
   ]
  },
  {
   "cell_type": "markdown",
   "metadata": {},
   "source": [
    "### Merge dataframe"
   ]
  },
  {
   "cell_type": "code",
   "execution_count": null,
   "metadata": {
    "collapsed": true
   },
   "outputs": [],
   "source": [
    "df_history_ts_process_tmp2 = df_history_ts_process.copy()"
   ]
  },
  {
   "cell_type": "code",
   "execution_count": null,
   "metadata": {
    "collapsed": true
   },
   "outputs": [],
   "source": [
    "df_history_ts_process = df_history_ts_process_tmp2.copy()"
   ]
  },
  {
   "cell_type": "code",
   "execution_count": null,
   "metadata": {
    "collapsed": true
   },
   "outputs": [],
   "source": [
    "# look up current month table data: 'volume-plate', 'ratio-bid'\n",
    "df_history_ts_process = pd.merge(df_history_ts_process, df_history_table_process[['date-curr', 'volume-plate', 'ratio-bid']], how = 'left', left_on = 'date-curr', right_on = 'date-curr', suffixes=['', '_table'])"
   ]
  },
  {
   "cell_type": "code",
   "execution_count": null,
   "metadata": {},
   "outputs": [],
   "source": [
    "for i in range(0, len(df_history_ts_process.columns)): print(df_history_ts_process.columns[i])"
   ]
  },
  {
   "cell_type": "code",
   "execution_count": null,
   "metadata": {
    "collapsed": true
   },
   "outputs": [],
   "source": [
    "# look up pevious month table data: 'volume-plate', 'ratio-bid', 'deal-early-second', 'deal-price-avg', 'd-avg-low-price'\n",
    "df_history_ts_process = pd.merge(df_history_ts_process, df_history_table_process[['date-curr', 'volume-plate', 'ratio-bid', 'deal-early-second', 'deal-price-avg', 'd-avg-low-price']], how = 'left', left_on = 'date-prev', right_on = 'date-curr', suffixes=['', '_m0'])"
   ]
  },
  {
   "cell_type": "code",
   "execution_count": null,
   "metadata": {
    "collapsed": true
   },
   "outputs": [],
   "source": [
    "df_history_ts_process['d-increment-avg-low-price_m0'] = df_history_ts_process.apply(lambda row: row['increment-price'] - row['d-avg-low-price'], axis=1)\n"
   ]
  },
  {
   "cell_type": "code",
   "execution_count": null,
   "metadata": {
    "scrolled": false
   },
   "outputs": [],
   "source": [
    "for i in range(0, len(df_history_ts_process.columns)): print(df_history_ts_process.columns[i])"
   ]
  },
  {
   "cell_type": "markdown",
   "metadata": {},
   "source": [
    "### Shift to copy previous 'parm_calculate_prev_month' month's data into current row"
   ]
  },
  {
   "cell_type": "code",
   "execution_count": null,
   "metadata": {
    "collapsed": true
   },
   "outputs": [],
   "source": [
    "# df_history_ts_process = df_history_ts_process_lookup.copy()"
   ]
  },
  {
   "cell_type": "code",
   "execution_count": null,
   "metadata": {},
   "outputs": [],
   "source": [
    "df_history_ts_process_lookup = df_history_ts_process.copy()\n",
    "df_history_ts_process_lookup.tail()"
   ]
  },
  {
   "cell_type": "code",
   "execution_count": null,
   "metadata": {
    "scrolled": false
   },
   "outputs": [],
   "source": [
    "# _m1\n",
    "df_history_ts_process = pd.merge(df_history_ts_process, df_history_ts_process_lookup[[ \\\n",
    "        'datetime-curr', 'datetime-prev', \n",
    "        'base-price15sec', 'increment-price', 'increment-price-target',\n",
    "        'increment-price-prev1sec', 'increment-price-prev2sec',\n",
    "        'increment-price-prev3sec', 'increment-price-prev4sec',\n",
    "        'increment-price-prev5sec', 'increment-price-prev6sec',\n",
    "        'increment-price-prev7sec', 'increment-price-prev8sec',\n",
    "        'increment-price-prev9sec', 'increment-price-prev10sec',\n",
    "        'increment-price-prev11sec', 'increment-price-prev12sec',\n",
    "        'increment-price-prev13sec', 'increment-price-prev14sec',\n",
    "        'increment-price-prev15sec', \n",
    "        'increment-price-mv2sec',\n",
    "        'increment-price-mv3sec', 'increment-price-mv4sec',\n",
    "        'increment-price-mv5sec', 'increment-price-mv6sec',\n",
    "        'increment-price-mv7sec', 'increment-price-mv8sec',\n",
    "        'increment-price-mv9sec', 'increment-price-mv10sec',\n",
    "        'increment-price-mv11sec', 'increment-price-mv12sec',\n",
    "        'increment-price-mv13sec', 'increment-price-mv14sec',\n",
    "        'increment-price-mv15sec', \n",
    "        'volume-plate_m0', \n",
    "        'ratio-bid_m0', \n",
    "        'deal-early-second',\n",
    "        'deal-price-avg',\n",
    "        'd-avg-low-price',\n",
    "        'd-increment-avg-low-price_m0'\n",
    "        ]], how = 'left', left_on = 'datetime-prev', right_on = 'datetime-curr', suffixes=['', '_m1'])\n",
    "df_history_ts_process.tail()"
   ]
  },
  {
   "cell_type": "code",
   "execution_count": null,
   "metadata": {},
   "outputs": [],
   "source": [
    "# _m2\n",
    "df_history_ts_process = pd.merge(df_history_ts_process, df_history_ts_process_lookup[[ \\\n",
    "        'datetime-curr', 'datetime-prev', \n",
    "        'base-price15sec', 'increment-price', 'increment-price-target',\n",
    "        'increment-price-prev1sec', 'increment-price-prev2sec',\n",
    "        'increment-price-prev3sec', 'increment-price-prev4sec',\n",
    "        'increment-price-prev5sec', 'increment-price-prev6sec',\n",
    "        'increment-price-prev7sec', 'increment-price-prev8sec',\n",
    "        'increment-price-prev9sec', 'increment-price-prev10sec',\n",
    "        'increment-price-prev11sec', 'increment-price-prev12sec',\n",
    "        'increment-price-prev13sec', 'increment-price-prev14sec',\n",
    "        'increment-price-prev15sec', \n",
    "        'increment-price-mv2sec',\n",
    "        'increment-price-mv3sec', 'increment-price-mv4sec',\n",
    "        'increment-price-mv5sec', 'increment-price-mv6sec',\n",
    "        'increment-price-mv7sec', 'increment-price-mv8sec',\n",
    "        'increment-price-mv9sec', 'increment-price-mv10sec',\n",
    "        'increment-price-mv11sec', 'increment-price-mv12sec',\n",
    "        'increment-price-mv13sec', 'increment-price-mv14sec',\n",
    "        'increment-price-mv15sec', \n",
    "        'volume-plate_m0', \n",
    "        'ratio-bid_m0', \n",
    "        'deal-early-second',\n",
    "        'deal-price-avg',\n",
    "        'd-avg-low-price',\n",
    "        'd-increment-avg-low-price_m0'                                                                                   \n",
    "        ]], how = 'left', left_on = 'datetime-prev_m1', right_on = 'datetime-curr', suffixes=['', '_m2'])\n",
    "df_history_ts_process.tail()"
   ]
  },
  {
   "cell_type": "code",
   "execution_count": null,
   "metadata": {},
   "outputs": [],
   "source": [
    "# _m3\n",
    "df_history_ts_process = pd.merge(df_history_ts_process, df_history_ts_process_lookup[[ \\\n",
    "        'datetime-curr', 'datetime-prev', \n",
    "        'base-price15sec', 'increment-price', 'increment-price-target',\n",
    "        'increment-price-prev1sec', 'increment-price-prev2sec',\n",
    "        'increment-price-prev3sec', 'increment-price-prev4sec',\n",
    "        'increment-price-prev5sec', 'increment-price-prev6sec',\n",
    "        'increment-price-prev7sec', 'increment-price-prev8sec',\n",
    "        'increment-price-prev9sec', 'increment-price-prev10sec',\n",
    "        'increment-price-prev11sec', 'increment-price-prev12sec',\n",
    "        'increment-price-prev13sec', 'increment-price-prev14sec',\n",
    "        'increment-price-prev15sec', \n",
    "        'increment-price-mv2sec',\n",
    "        'increment-price-mv3sec', 'increment-price-mv4sec',\n",
    "        'increment-price-mv5sec', 'increment-price-mv6sec',\n",
    "        'increment-price-mv7sec', 'increment-price-mv8sec',\n",
    "        'increment-price-mv9sec', 'increment-price-mv10sec',\n",
    "        'increment-price-mv11sec', 'increment-price-mv12sec',\n",
    "        'increment-price-mv13sec', 'increment-price-mv14sec',\n",
    "        'increment-price-mv15sec', \n",
    "        'volume-plate_m0', \n",
    "        'ratio-bid_m0', \n",
    "        'deal-early-second',\n",
    "        'deal-price-avg',\n",
    "        'd-avg-low-price',\n",
    "        'd-increment-avg-low-price_m0'                                                                                  \n",
    "        ]], how = 'left', left_on = 'datetime-prev_m2', right_on = 'datetime-curr', suffixes=['', '_m3'])\n",
    "df_history_ts_process.tail()"
   ]
  },
  {
   "cell_type": "code",
   "execution_count": null,
   "metadata": {
    "scrolled": false
   },
   "outputs": [],
   "source": [
    "plt.figure()\n",
    "plt.plot(df_history_ts_process['increment-price-mv10sec'][1768:])\n",
    "plt.plot(df_history_ts_process['increment-price-mv10sec_m1'][1768:])\n",
    "plt.plot(df_history_ts_process['increment-price-mv10sec_m2'][1768:])\n",
    "plt.plot(df_history_ts_process['increment-price-mv10sec_m3'][1768:])\n",
    "plt.figure()\n",
    "plt.plot(df_history_ts_process['increment-price-prev10sec'][1768:])\n",
    "plt.plot(df_history_ts_process['increment-price-prev10sec_m1'][1768:])\n",
    "plt.plot(df_history_ts_process['increment-price-prev10sec_m2'][1768:])\n",
    "plt.plot(df_history_ts_process['increment-price-prev10sec_m3'][1768:])\n",
    "plt.figure()\n",
    "plt.plot(df_history_ts_process['increment-price'][1768:])\n",
    "plt.plot(df_history_ts_process['increment-price_m1'][1768:])\n",
    "plt.plot(df_history_ts_process['increment-price_m2'][1768:])\n",
    "plt.plot(df_history_ts_process['increment-price_m3'][1768:])\n",
    "plt.figure()\n",
    "plt.plot(df_history_ts_process['increment-price-target'][1768:])\n",
    "plt.plot(df_history_ts_process['increment-price-target_m1'][1768:])\n",
    "plt.plot(df_history_ts_process['increment-price-target_m2'][1768:])\n",
    "plt.plot(df_history_ts_process['increment-price-target_m3'][1768:])\n",
    "\n",
    "plt.plot()"
   ]
  },
  {
   "cell_type": "code",
   "execution_count": null,
   "metadata": {
    "collapsed": true
   },
   "outputs": [],
   "source": []
  },
  {
   "cell_type": "markdown",
   "metadata": {},
   "source": [
    "### Housekeeping to remove some invald data during pre-processing"
   ]
  },
  {
   "cell_type": "code",
   "execution_count": null,
   "metadata": {
    "scrolled": false
   },
   "outputs": [],
   "source": [
    "for i in range(0, len(df_history_ts_process.columns)): print(df_history_ts_process.columns[i])"
   ]
  },
  {
   "cell_type": "code",
   "execution_count": null,
   "metadata": {
    "collapsed": true
   },
   "outputs": [],
   "source": [
    "# housekeeping: delete some columns\n",
    "# df_history_ts_process.drop('date-curr_y', axis=1, inplace=True)"
   ]
  },
  {
   "cell_type": "code",
   "execution_count": null,
   "metadata": {},
   "outputs": [],
   "source": [
    "parm_record_cut_ccyy"
   ]
  },
  {
   "cell_type": "code",
   "execution_count": null,
   "metadata": {
    "collapsed": true
   },
   "outputs": [],
   "source": [
    "# remove first 'parm_record_cut_ccyy' months from dataset\n",
    "df_history_ts_process = df_history_ts_process[df_history_ts_process['date-curr'] > parm_record_cut_ccyy]"
   ]
  },
  {
   "cell_type": "code",
   "execution_count": null,
   "metadata": {
    "collapsed": true
   },
   "outputs": [],
   "source": [
    "# total 61 seconds/rows per month:\n",
    "# remove first 'parm_record_cut_row_head' reconds\n",
    "# remove last 'parm_record_cut_row_tail' reconds\n",
    "df_history_ts_process = df_history_ts_process[df_history_ts_process['second'] >= str(parm_record_cut_row_head) ]\n",
    "df_history_ts_process = df_history_ts_process[df_history_ts_process['second'] <= str(60 - parm_record_cut_row_tail) ]\n",
    "# df_history_ts_process = df_history_ts_process[df_history_ts_process['second'] > parm_record_cut_row_head ]"
   ]
  },
  {
   "cell_type": "code",
   "execution_count": null,
   "metadata": {
    "collapsed": true
   },
   "outputs": [],
   "source": [
    "# Reset index after housekeeping\n",
    "df_history_ts_process = df_history_ts_process.reset_index(drop=True)"
   ]
  },
  {
   "cell_type": "code",
   "execution_count": null,
   "metadata": {},
   "outputs": [],
   "source": [
    "df_history_ts_process.head()"
   ]
  },
  {
   "cell_type": "code",
   "execution_count": null,
   "metadata": {},
   "outputs": [],
   "source": [
    "df_history_ts_process.tail()"
   ]
  },
  {
   "cell_type": "code",
   "execution_count": null,
   "metadata": {
    "scrolled": false
   },
   "outputs": [],
   "source": [
    "plt.figure()\n",
    "plt.plot(df_history_ts_process['increment-price'][974:])\n",
    "plt.plot(df_history_ts_process['increment-price-mv3sec'][974:])\n",
    "plt.plot(df_history_ts_process['increment-price-mv7sec'][974:])\n",
    "plt.plot(df_history_ts_process['increment-price-mv11sec'][974:])\n",
    "plt.plot(df_history_ts_process['increment-price-mv15sec'][974:])\n",
    "plt.figure()\n",
    "plt.plot(df_history_ts_process['increment-price-mv15sec'][974:])\n",
    "plt.plot(df_history_ts_process['increment-price-mv15sec_m1'][974:])\n",
    "plt.plot(df_history_ts_process['increment-price-mv15sec_m2'][974:])\n",
    "plt.plot(df_history_ts_process['increment-price-mv15sec_m3'][974:])\n",
    "plt.plot()"
   ]
  },
  {
   "cell_type": "code",
   "execution_count": null,
   "metadata": {
    "collapsed": true
   },
   "outputs": [],
   "source": []
  },
  {
   "cell_type": "markdown",
   "metadata": {},
   "source": [
    "# [3] Modeling Part 2: Python scikit-learn"
   ]
  },
  {
   "cell_type": "markdown",
   "metadata": {},
   "source": [
    "### Models to use:\n",
    "\n",
    "* GradientBoostingClassifier\n",
    "* RandomForestClassifier\n",
    "* AdaBoostClassifier\n",
    "* ExtraTreesClassifier\n",
    "* BaggingClassifier\n",
    "* LogisticRegression\n",
    "* SVM kernal RBF\n",
    "* SVM kernal Linear\n",
    "* KNeighborsClassifier\n"
   ]
  },
  {
   "cell_type": "markdown",
   "metadata": {},
   "source": [
    "### Import pre-processed data"
   ]
  },
  {
   "cell_type": "code",
   "execution_count": null,
   "metadata": {
    "collapsed": true
   },
   "outputs": [],
   "source": [
    "# plt.plot(df_history_ts_process['d-avg-low-price'])\n",
    "# plt.figure()\n",
    "# plt.figure()\n",
    "# plt.plot(df_history_ts_process['d-avg-low-price_m1'])\n",
    "# plt.figure()\n",
    "# plt.plot(df_history_ts_process['d-avg-low-price_m2'])\n",
    "# plt.figure()\n",
    "# plt.plot(df_history_ts_process['d-avg-low-price_m3'])\n"
   ]
  },
  {
   "cell_type": "code",
   "execution_count": null,
   "metadata": {
    "scrolled": false
   },
   "outputs": [],
   "source": [
    "for i in range(0, len(df_history_ts_process.columns)): print(df_history_ts_process.columns[i])"
   ]
  },
  {
   "cell_type": "code",
   "execution_count": null,
   "metadata": {
    "collapsed": true
   },
   "outputs": [],
   "source": [
    "X = df_history_ts_process[[\n",
    "#          ,'ccyy-mm'\n",
    "#         ,'time'\n",
    "#         ,'bid-price'\n",
    "#         ,'date-curr'\n",
    "#         ,'date-prev'\n",
    "#         ,'year'\n",
    "         'month'\n",
    "#         ,'hour'\n",
    "#         ,'minute'\n",
    "        ,'second'\n",
    "#         ,'datetime-curr'\n",
    "#         ,'datetime-prev'\n",
    "        ,'base-price15sec'\n",
    "        ,'increment-price'\n",
    "#         ,'increment-price-target'   # <<<<<<< This is target \n",
    "        ,'increment-price-prev1sec'\n",
    "        ,'increment-price-prev2sec'\n",
    "        ,'increment-price-prev3sec'\n",
    "        ,'increment-price-prev4sec'\n",
    "        ,'increment-price-prev5sec'\n",
    "        ,'increment-price-prev6sec'\n",
    "        ,'increment-price-prev7sec'\n",
    "        ,'increment-price-prev8sec'\n",
    "        ,'increment-price-prev9sec'\n",
    "        ,'increment-price-prev10sec'\n",
    "        ,'increment-price-prev11sec'\n",
    "        ,'increment-price-prev12sec'\n",
    "        ,'increment-price-prev13sec'\n",
    "        ,'increment-price-prev14sec'\n",
    "        ,'increment-price-prev15sec'\n",
    "        ,'increment-price-mv2sec'\n",
    "        ,'increment-price-mv3sec'\n",
    "        ,'increment-price-mv4sec'\n",
    "        ,'increment-price-mv5sec'\n",
    "        ,'increment-price-mv6sec'\n",
    "        ,'increment-price-mv7sec'\n",
    "        ,'increment-price-mv8sec'\n",
    "        ,'increment-price-mv9sec'\n",
    "        ,'increment-price-mv10sec'\n",
    "        ,'increment-price-mv11sec'\n",
    "        ,'increment-price-mv12sec'\n",
    "        ,'increment-price-mv13sec'\n",
    "        ,'increment-price-mv14sec'\n",
    "        ,'increment-price-mv15sec'\n",
    "        ,'volume-plate'\n",
    "        ,'ratio-bid'\n",
    "#         ,'date-curr_m0'\n",
    "        ,'volume-plate_m0'\n",
    "        ,'ratio-bid_m0'\n",
    "        ,'deal-early-second'\n",
    "        ,'deal-price-avg'\n",
    "        ,'d-avg-low-price'\n",
    "        ,'d-increment-avg-low-price_m0'\n",
    "    \n",
    "#         ,'datetime-curr_m1'\n",
    "#         ,'datetime-prev_m1'\n",
    "        ,'base-price15sec_m1'\n",
    "        ,'increment-price_m1'\n",
    "        ,'increment-price-target_m1'\n",
    "        ,'increment-price-prev1sec_m1'\n",
    "        ,'increment-price-prev2sec_m1'\n",
    "        ,'increment-price-prev3sec_m1'\n",
    "        ,'increment-price-prev4sec_m1'\n",
    "        ,'increment-price-prev5sec_m1'\n",
    "        ,'increment-price-prev6sec_m1'\n",
    "        ,'increment-price-prev7sec_m1'\n",
    "        ,'increment-price-prev8sec_m1'\n",
    "        ,'increment-price-prev9sec_m1'\n",
    "        ,'increment-price-prev10sec_m1'\n",
    "        ,'increment-price-prev11sec_m1'\n",
    "        ,'increment-price-prev12sec_m1'\n",
    "        ,'increment-price-prev13sec_m1'\n",
    "        ,'increment-price-prev14sec_m1'\n",
    "        ,'increment-price-prev15sec_m1'\n",
    "        ,'increment-price-mv2sec_m1'\n",
    "        ,'increment-price-mv3sec_m1'\n",
    "        ,'increment-price-mv4sec_m1'\n",
    "        ,'increment-price-mv5sec_m1'\n",
    "        ,'increment-price-mv6sec_m1'\n",
    "        ,'increment-price-mv7sec_m1'\n",
    "        ,'increment-price-mv8sec_m1'\n",
    "        ,'increment-price-mv9sec_m1'\n",
    "        ,'increment-price-mv10sec_m1'\n",
    "        ,'increment-price-mv11sec_m1'\n",
    "        ,'increment-price-mv12sec_m1'\n",
    "        ,'increment-price-mv13sec_m1'\n",
    "        ,'increment-price-mv14sec_m1'\n",
    "        ,'increment-price-mv15sec_m1'\n",
    "        ,'volume-plate_m0_m1'\n",
    "        ,'ratio-bid_m0_m1'\n",
    "        ,'deal-early-second_m1'\n",
    "        ,'deal-price-avg_m1'\n",
    "        ,'d-avg-low-price_m1'\n",
    "        ,'d-increment-avg-low-price_m0_m1'\n",
    "\n",
    "#         ,'datetime-curr_m2'\n",
    "#         ,'datetime-prev_m2'\n",
    "        ,'base-price15sec_m2'\n",
    "        ,'increment-price_m2'\n",
    "        ,'increment-price-target_m2'\n",
    "        ,'increment-price-prev1sec_m2'\n",
    "        ,'increment-price-prev2sec_m2'\n",
    "        ,'increment-price-prev3sec_m2'\n",
    "        ,'increment-price-prev4sec_m2'\n",
    "        ,'increment-price-prev5sec_m2'\n",
    "        ,'increment-price-prev6sec_m2'\n",
    "        ,'increment-price-prev7sec_m2'\n",
    "        ,'increment-price-prev8sec_m2'\n",
    "        ,'increment-price-prev9sec_m2'\n",
    "        ,'increment-price-prev10sec_m2'\n",
    "        ,'increment-price-prev11sec_m2'\n",
    "        ,'increment-price-prev12sec_m2'\n",
    "        ,'increment-price-prev13sec_m2'\n",
    "        ,'increment-price-prev14sec_m2'\n",
    "        ,'increment-price-prev15sec_m2'\n",
    "        ,'increment-price-mv2sec_m2'\n",
    "        ,'increment-price-mv3sec_m2'\n",
    "        ,'increment-price-mv4sec_m2'\n",
    "        ,'increment-price-mv5sec_m2'\n",
    "        ,'increment-price-mv6sec_m2'\n",
    "        ,'increment-price-mv7sec_m2'\n",
    "        ,'increment-price-mv8sec_m2'\n",
    "        ,'increment-price-mv9sec_m2'\n",
    "        ,'increment-price-mv10sec_m2'\n",
    "        ,'increment-price-mv11sec_m2'\n",
    "        ,'increment-price-mv12sec_m2'\n",
    "        ,'increment-price-mv13sec_m2'\n",
    "        ,'increment-price-mv14sec_m2'\n",
    "        ,'increment-price-mv15sec_m2'\n",
    "        ,'volume-plate_m0_m2'\n",
    "        ,'ratio-bid_m0_m2'\n",
    "        ,'deal-early-second_m2'\n",
    "        ,'deal-price-avg_m2'\n",
    "        ,'d-avg-low-price_m2'\n",
    "        ,'d-increment-avg-low-price_m0_m2'\n",
    "\n",
    "#         ,'datetime-curr_m3'\n",
    "#         ,'datetime-prev_m3'\n",
    "        ,'base-price15sec_m3'\n",
    "        ,'increment-price_m3'\n",
    "        ,'increment-price-target_m3'\n",
    "        ,'increment-price-prev1sec_m3'\n",
    "        ,'increment-price-prev2sec_m3'\n",
    "        ,'increment-price-prev3sec_m3'\n",
    "        ,'increment-price-prev4sec_m3'\n",
    "        ,'increment-price-prev5sec_m3'\n",
    "        ,'increment-price-prev6sec_m3'\n",
    "        ,'increment-price-prev7sec_m3'\n",
    "        ,'increment-price-prev8sec_m3'\n",
    "        ,'increment-price-prev9sec_m3'\n",
    "        ,'increment-price-prev10sec_m3'\n",
    "        ,'increment-price-prev11sec_m3'\n",
    "        ,'increment-price-prev12sec_m3'\n",
    "        ,'increment-price-prev13sec_m3'\n",
    "        ,'increment-price-prev14sec_m3'\n",
    "        ,'increment-price-prev15sec_m3'\n",
    "        ,'increment-price-mv2sec_m3'\n",
    "        ,'increment-price-mv3sec_m3'\n",
    "        ,'increment-price-mv4sec_m3'\n",
    "        ,'increment-price-mv5sec_m3'\n",
    "        ,'increment-price-mv6sec_m3'\n",
    "        ,'increment-price-mv7sec_m3'\n",
    "        ,'increment-price-mv8sec_m3'\n",
    "        ,'increment-price-mv9sec_m3'\n",
    "        ,'increment-price-mv10sec_m3'\n",
    "        ,'increment-price-mv11sec_m3'\n",
    "        ,'increment-price-mv12sec_m3'\n",
    "        ,'increment-price-mv13sec_m3'\n",
    "        ,'increment-price-mv14sec_m3'\n",
    "        ,'increment-price-mv15sec_m3'\n",
    "        ,'volume-plate_m0_m3'\n",
    "        ,'ratio-bid_m0_m3'\n",
    "        ,'deal-early-second_m3'\n",
    "        ,'deal-price-avg_m3'\n",
    "        ,'d-avg-low-price_m3'\n",
    "        ,'d-increment-avg-low-price_m0_m3'\n",
    "        ]]\n",
    "\n",
    "X_col = X.columns # get the column list\n",
    "\n",
    "# X = StandardScaler().fit_transform(X.as_matrix())\n",
    "X = X.as_matrix()\n",
    "\n",
    "# y = StandardScaler().fit_transform(df_wnv_raw[['increment-price-target']].as_matrix()).reshape(len(df_wnv_raw),)\n",
    "y = df_history_ts_process[['increment-price-target']].as_matrix().reshape(len(df_history_ts_process),)\n"
   ]
  },
  {
   "cell_type": "code",
   "execution_count": null,
   "metadata": {
    "scrolled": true
   },
   "outputs": [],
   "source": [
    "X_col"
   ]
  },
  {
   "cell_type": "code",
   "execution_count": null,
   "metadata": {},
   "outputs": [],
   "source": [
    "plt.figure()\n",
    "plt.plot(X)\n",
    "plt.figure()\n",
    "plt.plot(y)\n"
   ]
  },
  {
   "cell_type": "markdown",
   "metadata": {},
   "source": [
    "# [4] Evaluation\n",
    "### K-fold Cross-Validation"
   ]
  },
  {
   "cell_type": "code",
   "execution_count": null,
   "metadata": {
    "collapsed": true
   },
   "outputs": [],
   "source": [
    "rng = check_random_state(0)"
   ]
  },
  {
   "cell_type": "code",
   "execution_count": null,
   "metadata": {
    "collapsed": true,
    "scrolled": true
   },
   "outputs": [],
   "source": [
    "# GB\n",
    "classifier_GB = GradientBoostingRegressor(n_estimators=1500, # score: 0.94608 (AUC 0.81419), learning_rate=0.001, max_features=8 <<< Best\n",
    "#                                    loss='deviance',\n",
    "#                                    subsample=1,\n",
    "#                                    max_depth=5,\n",
    "#                                    min_samples_split=20,\n",
    "                                   learning_rate=0.002,\n",
    "#                                    max_features=10,\n",
    "                                   random_state=rng)"
   ]
  },
  {
   "cell_type": "code",
   "execution_count": null,
   "metadata": {
    "collapsed": true
   },
   "outputs": [],
   "source": [
    "# AB\n",
    "classifier_AB = AdaBoostRegressor(n_estimators=1500, # score: 0.93948 (AUC 0.88339), learning_rate=0.004 <<< Best\n",
    "                                   learning_rate=0.002,\n",
    "                                   random_state=rng)"
   ]
  },
  {
   "cell_type": "code",
   "execution_count": null,
   "metadata": {
    "collapsed": true
   },
   "outputs": [],
   "source": [
    "# RF\n",
    "classifier_RF = RandomForestRegressor(n_estimators=1500, # score: 0.94207 (AUC 0.81870), max_depth=3, min_samples_split=20, <<< Best\n",
    "#                                     max_features=10,\n",
    "#                                     max_depth=3,\n",
    "#                                     min_samples_split=20,\n",
    "                                    random_state=rng)"
   ]
  },
  {
   "cell_type": "code",
   "execution_count": null,
   "metadata": {
    "collapsed": true
   },
   "outputs": [],
   "source": [
    "# ET\n",
    "classifier_ET = ExtraTreesRegressor(n_estimators=1000, # score: 0.94655 (AUC 0.84364), max_depth=3, min_samples_split=20, max_features=10 <<< Best\n",
    "#                                     max_depth=3,\n",
    "#                                     min_samples_split=20,\n",
    "#                                     max_features=10,\n",
    "                                    random_state=rng)"
   ]
  },
  {
   "cell_type": "code",
   "execution_count": null,
   "metadata": {
    "collapsed": true
   },
   "outputs": [],
   "source": [
    "# BG\n",
    "classifier_BG = BaggingRegressor(n_estimators=500, # score: 0.70725 (AUC 0.63729) <<< Best\n",
    "#                                     max_features=10,\n",
    "                                    random_state=rng)"
   ]
  },
  {
   "cell_type": "markdown",
   "metadata": {},
   "source": [
    "### LR"
   ]
  },
  {
   "cell_type": "code",
   "execution_count": null,
   "metadata": {
    "collapsed": true
   },
   "outputs": [],
   "source": [
    "classifier_LR = LinearRegression() # score: 0.90199 (AUC 0.80569)"
   ]
  },
  {
   "cell_type": "markdown",
   "metadata": {},
   "source": [
    "### SVM Linear"
   ]
  },
  {
   "cell_type": "code",
   "execution_count": null,
   "metadata": {
    "collapsed": true
   },
   "outputs": [],
   "source": [
    "# classifier_SVCL = svm.SVC(kernel='linear', probability=True, random_state=rng) # score: 0.89976 (AUC 0.70524)\n",
    "classifier_SVRL = svm.SVR(kernel='linear') # score: 0.89976 (AUC 0.70524)"
   ]
  },
  {
   "cell_type": "markdown",
   "metadata": {},
   "source": [
    "### SVM"
   ]
  },
  {
   "cell_type": "code",
   "execution_count": null,
   "metadata": {
    "collapsed": true
   },
   "outputs": [],
   "source": [
    "classifier_SVRR = svm.SVR(kernel='rbf') # score: 0.80188 (AUC 0.50050)\n",
    "# classifier_SVRR = svm.SVR(kernel='poly') # score: 0.80188 (AUC 0.50050)"
   ]
  },
  {
   "cell_type": "markdown",
   "metadata": {},
   "source": [
    "### KNN"
   ]
  },
  {
   "cell_type": "code",
   "execution_count": null,
   "metadata": {},
   "outputs": [],
   "source": [
    "classifier_KNN = KNeighborsRegressor(n_neighbors=2) # score: 0.94018 (AUC 0.72792)\n",
    "cv = cross_val_score(classifier_KNN,\n",
    "                            X,\n",
    "                            y,\n",
    "                            cv=StratifiedKFold(parm_ts_valid_month))\n",
    "print('KNN CV score: {0:.5f}'.format(cv.mean()))"
   ]
  },
  {
   "cell_type": "code",
   "execution_count": null,
   "metadata": {
    "collapsed": true
   },
   "outputs": [],
   "source": []
  },
  {
   "cell_type": "markdown",
   "metadata": {},
   "source": [
    "### Select Model"
   ]
  },
  {
   "cell_type": "code",
   "execution_count": null,
   "metadata": {
    "collapsed": true
   },
   "outputs": [],
   "source": [
    "# classifier = classifier_GB     # 219.099617786\n",
    "# classifier = classifier_AB     # 230.101439444\n",
    "classifier = classifier_RF     # 197.955555556\n",
    "# classifier = classifier_ET     # \n",
    "# classifier = classifier_BG     # \n",
    "# classifier = classifier_LR     # \n",
    "# classifier = classifier_SVRL   # \n",
    "# classifier = classifier_SVRR   # "
   ]
  },
  {
   "cell_type": "markdown",
   "metadata": {},
   "source": [
    "### Split Data"
   ]
  },
  {
   "cell_type": "code",
   "execution_count": null,
   "metadata": {},
   "outputs": [],
   "source": [
    "n_splits = parm_ts_valid_cycle\n",
    "print('cycle seconds : %d' % n_splits)\n",
    "# n_splits=54 # 19 seconds/records for each bidding month\n",
    "# n_splits=19 # 19 seconds/records for each bidding month\n",
    "n_fold = parm_ts_valid_month\n",
    "print('cycle month   : %d' % n_fold)\n",
    "\n",
    "\n",
    "# X_train_1 = X[0:(len(X)-batch*n_splits)]\n",
    "# y_train_1 = y[0:(len(X)-batch*n_splits)]\n",
    "\n",
    "# X_test_1 = X[(len(X)-batch*n_splits):((len(X)-batch*n_splits)+n_splits)]\n",
    "# y_test_1 = y[(len(X)-batch*n_splits):((len(X)-batch*n_splits)+n_splits)]\n"
   ]
  },
  {
   "cell_type": "markdown",
   "metadata": {},
   "source": [
    "### Cross-Validation"
   ]
  },
  {
   "cell_type": "code",
   "execution_count": null,
   "metadata": {
    "collapsed": true
   },
   "outputs": [],
   "source": [
    "n_fold=7"
   ]
  },
  {
   "cell_type": "code",
   "execution_count": null,
   "metadata": {
    "scrolled": false
   },
   "outputs": [],
   "source": [
    "y_pred = {}\n",
    "y_test = {}\n",
    "\n",
    "y_pred_org = {}\n",
    "y_test_org = {}\n",
    "\n",
    "i = 0\n",
    "for batch in range(1, n_fold):\n",
    "    X_train_1 = X[0:(len(X)-batch*n_splits)]\n",
    "    y_train_1 = y[0:(len(X)-batch*n_splits)]\n",
    "    X_test_1  = X[(len(X)-batch*n_splits):((len(X)-batch*n_splits)+n_splits)]\n",
    "    y_test_1  = y[(len(X)-batch*n_splits):((len(X)-batch*n_splits)+n_splits)]\n",
    "    print(len(X_train_1))\n",
    "    \n",
    "    # ReScale\n",
    "    ScalerX = StandardScaler()\n",
    "    ScalerX.fit(X_train_1)\n",
    "    X_train_1 = ScalerX.transform(X_train_1)\n",
    "    X_test_1  = ScalerX.transform(X_test_1)\n",
    "    \n",
    "    ScalerY = StandardScaler()\n",
    "    ScalerY.fit(y_train_1.reshape(-1, 1))\n",
    "    y_train_1 = ScalerY.transform(y_train_1.reshape(-1, 1))\n",
    "    y_test_1  = ScalerY.transform(y_test_1.reshape(-1, 1))\n",
    "    \n",
    "    y_pred[i] = classifier.fit(X_train_1, y_train_1).predict(X_test_1)\n",
    "    y_test[i] = y_test_1  \n",
    "\n",
    "    y_pred_org[i] = ScalerY.inverse_transform(y_pred[i])\n",
    "    y_test_org[i] = ScalerY.inverse_transform(y_test[i])\n",
    "    \n",
    "    plt.figure()\n",
    "    plt.plot(y_train_1)\n",
    "    plt.plot()\n",
    "    plt.figure()\n",
    "    plt.plot(y_test[i])\n",
    "    plt.plot(y_pred[i])\n",
    "    plt.plot()\n",
    "    i += 1"
   ]
  },
  {
   "cell_type": "markdown",
   "metadata": {},
   "source": [
    "### no inverse-scale"
   ]
  },
  {
   "cell_type": "code",
   "execution_count": null,
   "metadata": {
    "scrolled": true
   },
   "outputs": [],
   "source": [
    "k = []\n",
    "for i in range(0, len(y_test)):\n",
    "    k.append(np.mean(np.sqrt(np.square(y_test[i] - y_pred[i]))))\n",
    "\n",
    "k_mean = np.mean(k)\n",
    "\n",
    "print(k_mean)\n",
    "print()\n",
    "print(k)"
   ]
  },
  {
   "cell_type": "code",
   "execution_count": null,
   "metadata": {},
   "outputs": [],
   "source": [
    "# 49~51 second predicts 56~58 second\n",
    "k = []\n",
    "for i in range(0, len(y_test)):\n",
    "    k.append(np.mean(np.sqrt(np.square(y_test[i][34:36] - y_pred[i][34:36]))))\n",
    "\n",
    "k_mean = np.mean(k)\n",
    "\n",
    "print(k_mean)\n",
    "print()\n",
    "print(k)"
   ]
  },
  {
   "cell_type": "markdown",
   "metadata": {},
   "source": [
    "### inverse-scale"
   ]
  },
  {
   "cell_type": "code",
   "execution_count": null,
   "metadata": {},
   "outputs": [],
   "source": [
    "k = []\n",
    "for i in range(0, len(y_test)):\n",
    "    k.append(np.mean(np.sqrt(np.square(y_test_org[i] - y_pred_org[i]))))\n",
    "\n",
    "k_mean = np.mean(k)\n",
    "\n",
    "print(k_mean)\n",
    "print()\n",
    "print(k)"
   ]
  },
  {
   "cell_type": "code",
   "execution_count": null,
   "metadata": {},
   "outputs": [],
   "source": [
    "# 49~51 second predicts 56~58 second\n",
    "k = []\n",
    "for i in range(0, len(y_test)):\n",
    "    k.append(np.mean(np.sqrt(np.square(y_test_org[i][34:36] - y_pred_org[i][34:36]))))\n",
    "\n",
    "k_mean = np.mean(k)\n",
    "\n",
    "print(k_mean)\n",
    "print()\n",
    "print(k)"
   ]
  },
  {
   "cell_type": "code",
   "execution_count": null,
   "metadata": {},
   "outputs": [],
   "source": [
    "# 48 second predicts 56 second\n",
    "k = []\n",
    "for i in range(0, len(y_test)):\n",
    "    k.append(np.mean(np.sqrt(np.square(y_test_org[i][33:34] - y_pred_org[i][33:34]))))\n",
    "\n",
    "k_mean = np.mean(k)\n",
    "\n",
    "print(k_mean)\n",
    "print()\n",
    "print(k)"
   ]
  },
  {
   "cell_type": "code",
   "execution_count": null,
   "metadata": {},
   "outputs": [],
   "source": [
    "# 49 second predicts 56 second\n",
    "k = []\n",
    "for i in range(0, len(y_test)):\n",
    "    k.append(np.mean(np.sqrt(np.square(y_test_org[i][34:35] - y_pred_org[i][34:35]))))\n",
    "\n",
    "k_mean = np.mean(k)\n",
    "\n",
    "print(k_mean)\n",
    "print()\n",
    "print(k)"
   ]
  },
  {
   "cell_type": "code",
   "execution_count": null,
   "metadata": {},
   "outputs": [],
   "source": [
    "# 50 second predicts 57 second\n",
    "k = []\n",
    "for i in range(0, len(y_test)):\n",
    "    k.append(np.mean(np.sqrt(np.square(y_test_org[i][35:36] - y_pred_org[i][35:36]))))\n",
    "\n",
    "k_mean = np.mean(k)\n",
    "\n",
    "print(k_mean)\n",
    "print()\n",
    "print(k)"
   ]
  },
  {
   "cell_type": "code",
   "execution_count": null,
   "metadata": {},
   "outputs": [],
   "source": [
    "# 51 second predicts 58 second\n",
    "k = []\n",
    "for i in range(0, len(y_test)):\n",
    "    k.append(np.mean(np.sqrt(np.square(y_test_org[i][36:37] - y_pred_org[i][36:37]))))\n",
    "\n",
    "k_mean = np.mean(k)\n",
    "\n",
    "print(k_mean)\n",
    "print()\n",
    "print(k)"
   ]
  },
  {
   "cell_type": "code",
   "execution_count": null,
   "metadata": {},
   "outputs": [],
   "source": [
    "# 52 second predicts 59 second\n",
    "k = []\n",
    "for i in range(0, len(y_test)):\n",
    "    k.append(np.mean(np.sqrt(np.square(y_test_org[i][37:38] - y_pred_org[i][37:38]))))\n",
    "\n",
    "k_mean = np.mean(k)\n",
    "\n",
    "print(k_mean)\n",
    "print()\n",
    "print(k)"
   ]
  },
  {
   "cell_type": "code",
   "execution_count": null,
   "metadata": {},
   "outputs": [],
   "source": [
    "# 53 second predicts 60 second\n",
    "k = []\n",
    "for i in range(0, len(y_test)):\n",
    "    k.append(np.mean(np.sqrt(np.square(y_test_org[i][38:39] - y_pred_org[i][38:39]))))\n",
    "\n",
    "k_mean = np.mean(k)\n",
    "\n",
    "print(k_mean)\n",
    "print()\n",
    "print(k)"
   ]
  },
  {
   "cell_type": "code",
   "execution_count": null,
   "metadata": {},
   "outputs": [],
   "source": [
    "plt.plot(y_test_org[0])\n",
    "plt.plot(y_pred_org[0])"
   ]
  },
  {
   "cell_type": "code",
   "execution_count": null,
   "metadata": {
    "scrolled": false
   },
   "outputs": [],
   "source": [
    "plt.plot(k)"
   ]
  },
  {
   "cell_type": "code",
   "execution_count": null,
   "metadata": {
    "collapsed": true
   },
   "outputs": [],
   "source": []
  },
  {
   "cell_type": "code",
   "execution_count": null,
   "metadata": {},
   "outputs": [],
   "source": [
    "# plt.plot(df_history_ts_process['increment-price-target'][819:])\n",
    "plt.plot(df_history_ts_process['increment-price'][819:])\n",
    "plt.plot(df_history_ts_process['d-increment-avg-low-price_m0'][819:])\n",
    "plt.plot(df_history_ts_process['increment-price'][819:] - df_history_ts_process['d-increment-avg-low-price_m0'][819:])\n",
    "plt.figure()\n",
    "plt.plot(df_history_ts_process['d-increment-avg-low-price_m0'][819:])\n",
    "plt.plot(df_history_ts_process['d-increment-avg-low-price_m0_m1'][819:])\n",
    "plt.plot(df_history_ts_process['d-increment-avg-low-price_m0_m2'][819:])\n",
    "plt.plot(df_history_ts_process['d-increment-avg-low-price_m0_m3'][819:])\n"
   ]
  },
  {
   "cell_type": "markdown",
   "metadata": {},
   "source": [
    "### Model Feature Importances:"
   ]
  },
  {
   "cell_type": "code",
   "execution_count": null,
   "metadata": {
    "collapsed": true
   },
   "outputs": [],
   "source": [
    "def util_feature_importances(classifier):\n",
    "    print(classifier)\n",
    "    dict_importance ={}\n",
    "    for i in range(len(X_col)):\n",
    "        dict_importance[X_col[i]] = classifier.feature_importances_[i]\n",
    "        dict_importance_sort = sorted(dict_importance.items(), key=operator.itemgetter(1), reverse=True)\n",
    "    return dict_importance_sort"
   ]
  },
  {
   "cell_type": "code",
   "execution_count": null,
   "metadata": {
    "scrolled": true
   },
   "outputs": [],
   "source": [
    "util_feature_importances(classifier_GB)"
   ]
  },
  {
   "cell_type": "code",
   "execution_count": null,
   "metadata": {
    "scrolled": true
   },
   "outputs": [],
   "source": [
    "util_feature_importances(classifier_RF)"
   ]
  },
  {
   "cell_type": "code",
   "execution_count": null,
   "metadata": {
    "scrolled": true
   },
   "outputs": [],
   "source": [
    "util_feature_importances(classifier_AB)"
   ]
  },
  {
   "cell_type": "code",
   "execution_count": null,
   "metadata": {
    "scrolled": true
   },
   "outputs": [],
   "source": [
    "util_feature_importances(classifier_ET)"
   ]
  },
  {
   "cell_type": "code",
   "execution_count": null,
   "metadata": {
    "collapsed": true
   },
   "outputs": [],
   "source": []
  },
  {
   "cell_type": "code",
   "execution_count": null,
   "metadata": {
    "collapsed": true
   },
   "outputs": [],
   "source": []
  },
  {
   "cell_type": "code",
   "execution_count": null,
   "metadata": {
    "collapsed": true
   },
   "outputs": [],
   "source": []
  },
  {
   "cell_type": "code",
   "execution_count": null,
   "metadata": {
    "collapsed": true
   },
   "outputs": [],
   "source": []
  },
  {
   "cell_type": "code",
   "execution_count": null,
   "metadata": {
    "collapsed": true
   },
   "outputs": [],
   "source": []
  },
  {
   "cell_type": "code",
   "execution_count": null,
   "metadata": {
    "collapsed": true
   },
   "outputs": [],
   "source": []
  },
  {
   "cell_type": "code",
   "execution_count": null,
   "metadata": {
    "collapsed": true
   },
   "outputs": [],
   "source": []
  },
  {
   "cell_type": "code",
   "execution_count": null,
   "metadata": {
    "collapsed": true
   },
   "outputs": [],
   "source": []
  },
  {
   "cell_type": "markdown",
   "metadata": {},
   "source": [
    "---"
   ]
  },
  {
   "cell_type": "markdown",
   "metadata": {},
   "source": [
    "### The End"
   ]
  }
 ],
 "metadata": {
  "kernelspec": {
   "display_name": "Python 3",
   "language": "python",
   "name": "python3"
  },
  "language_info": {
   "codemirror_mode": {
    "name": "ipython",
    "version": 3
   },
   "file_extension": ".py",
   "mimetype": "text/x-python",
   "name": "python",
   "nbconvert_exporter": "python",
   "pygments_lexer": "ipython3",
   "version": "3.5.1"
  }
 },
 "nbformat": 4,
 "nbformat_minor": 1
}
